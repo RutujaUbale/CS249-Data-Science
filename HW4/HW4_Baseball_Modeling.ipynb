{
 "cells": [
  {
   "cell_type": "markdown",
   "metadata": {},
   "source": [
    "# HW4: Baseball Modeling\n",
    "\n",
    "For this problem please install the <i>Lahman</i> package, a comprehensive package about Baseball statistics,\n",
    "and use it to answer a few questions.\n",
    "\n",
    "Important information:\n",
    "<ul><li>\n",
    "project home page (with links to impressive graphics):  http://lahman.r-forge.r-project.org/\n",
    "</li><li>\n",
    "package documentation (html):  http://lahman.r-forge.r-project.org/doc/\n",
    "</li></ul>\n",
    "\n",
    "The documentation includes descriptions of the many tables in this package, such as the\n",
    "Salaries table: http://lahman.r-forge.r-project.org/doc/Salaries.html\n"
   ]
  },
  {
   "cell_type": "markdown",
   "metadata": {},
   "source": [
    "#  The Goal\n",
    "\n",
    "There are two problems for you to solve:\n",
    "<ul><li>\n",
    "Problem 1: construct a model that predicts a player's salary based on his baseball statistics.\n",
    "You are asked to upload salary predictions for a test dataset; your score will be based on\n",
    "the <b>RSS (residual sum of squares)</b>.\n",
    "</li><li>\n",
    "Problem 2: construct a model that predicts whether a player will be inducted into the Hall of Fame.\n",
    "Your score will be based on the <b>accuracy rate</b> of the uploaded predictions from your model.\n",
    "</li></ul>\n",
    "Important: 50% of the test set for the Hall of Fame will have a Hall-of-Fame classification.\n",
    "Keep this in mind when making your predictions.\n",
    "\n",
    "Then, as in HW3, upload a .csv file containing your models to CCLE."
   ]
  },
  {
   "cell_type": "markdown",
   "metadata": {},
   "source": [
    "## Step 1: build the models\n",
    "\n",
    "Using the 'RelevantInformation' table, one model should predict a player's maximum salary,\n",
    "the other should predict whether or not they will get into the Hall of Fame.\n",
    "\n",
    "<b>YOU CAN USE ANY MODEL YOU LIKE.</b>\n",
    "The baseline models are a linear regression model and a logistic regression model ----------\n",
    "but you can choose <i>any</i> model.\n",
    "Please produce the most accurate models you can --\n",
    "more accurate models will get a higher score.\n",
    "\n",
    "<hr style=\"border-width:20px;\">"
   ]
  },
  {
   "cell_type": "markdown",
   "metadata": {},
   "source": [
    "## Step 2: generate two CSV files with predictions for your models on the Test Datasets\n",
    "\n",
    "To complete the assignment, run your models on the test datasets:\n",
    "<ul><li>\n",
    "<tt>HW4_Baseball_Salary_test.csv</tt>\n",
    "</li><li>\n",
    "<tt>HW4_Baseball_HallOfFame_test.csv</tt>\n",
    "</li></ul>\n",
    "<br/>\n",
    "From these generate two files of predictions:\n",
    "<ul><li>\n",
    "<tt>HW4_Baseball_Salary_predictions.csv</tt>\n",
    "</li><li>\n",
    "<tt>HW4_Baseball_Salary_predictions.csv</tt>\n",
    "</li></ul>\n",
    "<br/>\n",
    "Each prediction file contains only one column; salary predictions are integers, and HallOfFame predictions are either 0 or 1 (as in the input dataset).\n",
    "\n",
    "Also please upload a file <tt>HW4_Baseball_Models.csv</tt> that specifies your models\n",
    "in two lines, one for each model:\n",
    "<code>\n",
    "      0.8999,\"lm( log10(max_salary) ~ AB+R+H+X2B+X3B+HR+RBI+SB, data = RecentPlayersAndStatsAndSalary)\"\n",
    "      0.7888,\"glm( HallOfFame ~ AB+R+H+X2B+X3B+HR+SlugPct, data = HallOfFameContenders, family=binomial)\"\n",
    "</code>\n",
    "\n",
    "<b>Each line gives the accuracy of a model</b>,\n",
    "as well as <b>the command you used to generate the model</b>.\n",
    "There is no length restriction on the lines.\n",
    "\n",
    "<br/>\n",
    "\n",
    "Your score will not depend on the <tt>HW4_Baseball_Models.csv</tt> file.\n",
    "We want this information to see which models do well on these problems.\n",
    "\n",
    "<hr style=\"border-width:20px;\">"
   ]
  },
  {
   "cell_type": "markdown",
   "metadata": {},
   "source": [
    "## Step 3: upload your CSV files and notebook to CCLE\n",
    "\n",
    "Finally, go to CCLE and upload:\n",
    "<ul><li>\n",
    "<tt>HW4_Baseball_Salary_predictions.csv</tt>  -- your salary predictions\n",
    "</li><li>\n",
    "<tt>HW4_Baseball_Salary_predictions.csv</tt>  -- your Hall of Fame predictions\n",
    "</li><li>\n",
    "<tt>HW4_Baseball_Models.csv</tt> -- your models\n",
    "</li><li>\n",
    "<tt>HW4_Baseball_Modeling.ipynb</tt>  -- your notebook.\n",
    "</li></ul>\n",
    "\n",
    "We are not planning to run any of the uploaded notebooks.\n",
    "However, your notebook should have the commands you used in developing your models ---\n",
    "in order to show your work.\n",
    "As announced, all assignment grading in this course will be automated,\n",
    "and the notebook is needed in order to check results of the grading program."
   ]
  },
  {
   "cell_type": "markdown",
   "metadata": {},
   "source": [
    "# Get the Lahman package for R -- a database of Baseball Statistics"
   ]
  },
  {
   "cell_type": "markdown",
   "metadata": {},
   "source": [
    "<hr style=\"border-width:20px;\">\n",
    "\n",
    "### The safe way to install it, so it will work with Jupyter -- execute the command:\n",
    "\n",
    "<pre>\n",
    "         sudo conda install -c https://conda.anaconda.org/asmeurer r-lahman\n",
    "</pre>\n",
    "### (The 'sudo' is not necessary if your conda installation is not write-protected.)"
   ]
  },
  {
   "cell_type": "markdown",
   "metadata": {},
   "source": [
    "<hr style=\"border-width:20px;\">\n",
    "\n",
    "### Another way to install the Lahman package (if this works from within your Jupyter session):"
   ]
  },
  {
   "cell_type": "code",
   "execution_count": 1,
   "metadata": {
    "collapsed": true
   },
   "outputs": [],
   "source": [
    "if (!(is.element(\"Lahman\", installed.packages()))) install.packages(\"Lahman\", repos=\"http://cran.us.r-project.org\")"
   ]
  },
  {
   "cell_type": "markdown",
   "metadata": {},
   "source": [
    "### Load the Lahman baseball data"
   ]
  },
  {
   "cell_type": "code",
   "execution_count": 2,
   "metadata": {
    "collapsed": true
   },
   "outputs": [],
   "source": [
    "library(Lahman)"
   ]
  },
  {
   "cell_type": "markdown",
   "metadata": {},
   "source": [
    "<hr style=\"border-width:20px;\">\n",
    "\n",
    "### Another way to get the data, if you cannot load the Lahman package:\n",
    "\n",
    "The files\n",
    "<ul><li>\n",
    "<tt>PlayersAndStats.csv</tt>\n",
    "</li><li>\n",
    "<tt>PlayersAndStatsAndSalary.csv</tt>\n",
    "</li></ul>\n",
    "are distributed with the homework assignment, and are used in the notebook below.\n",
    "\n",
    "You can use these files rather than recompute the tables using the Lahman package."
   ]
  },
  {
   "cell_type": "markdown",
   "metadata": {},
   "source": [
    "# Extract Tables of Relevant Information for your Models"
   ]
  },
  {
   "cell_type": "markdown",
   "metadata": {},
   "source": [
    "### Player information -- from the Master table\n",
    "http://lahman.r-forge.r-project.org/doc/Master.html"
   ]
  },
  {
   "cell_type": "code",
   "execution_count": 3,
   "metadata": {
    "collapsed": false
   },
   "outputs": [
    {
     "data": {
      "text/plain": [
       "   playerID          nameFirst           nameLast           birthYear   \n",
       " Length:17071       Length:17071       Length:17071       Min.   :1835  \n",
       " Class :character   Class :character   Class :character   1st Qu.:1902  \n",
       " Mode  :character   Mode  :character   Mode  :character   Median :1941  \n",
       "                                                          Mean   :1935  \n",
       "                                                          3rd Qu.:1969  \n",
       "                                                          Max.   :1994  \n",
       "     weight          height      bats      throws   \n",
       " Min.   : 65.0   Min.   :43.00   B: 1131   L: 3430  \n",
       " 1st Qu.:170.0   1st Qu.:71.00   L: 4721   R:13641  \n",
       " Median :185.0   Median :72.00   R:11219            \n",
       " Mean   :186.2   Mean   :72.34                      \n",
       " 3rd Qu.:200.0   3rd Qu.:74.00                      \n",
       " Max.   :320.0   Max.   :83.00                      "
      ]
     },
     "execution_count": 3,
     "metadata": {},
     "output_type": "execute_result"
    }
   ],
   "source": [
    "SelectedColumns = c(\"playerID\",\"nameFirst\",\"nameLast\",\"birthYear\", \"weight\",\"height\",\"bats\",\"throws\")\n",
    "Players = na.omit( Master[, SelectedColumns] )\n",
    "summary(Players)"
   ]
  },
  {
   "cell_type": "markdown",
   "metadata": {},
   "source": [
    "### Player Maximum Salary -- from the Salaries table\n",
    "http://lahman.r-forge.r-project.org/doc/Salaries.html"
   ]
  },
  {
   "cell_type": "code",
   "execution_count": 4,
   "metadata": {
    "collapsed": false
   },
   "outputs": [
    {
     "data": {
      "text/plain": [
       "     yearID         teamID      lgID         playerID        \n",
       " Min.   :1985   CLE    :  893   AL:12123   Length:24758      \n",
       " 1st Qu.:1993   LAN    :  893   NL:12635   Class :character  \n",
       " Median :2000   PHI    :  893              Mode  :character  \n",
       " Mean   :2000   SLN    :  886                                \n",
       " 3rd Qu.:2007   BAL    :  883                                \n",
       " Max.   :2014   BOS    :  883                                \n",
       "                (Other):19427                                \n",
       "     salary        \n",
       " Min.   :       0  \n",
       " 1st Qu.:  260000  \n",
       " Median :  525000  \n",
       " Mean   : 1932905  \n",
       " 3rd Qu.: 2199643  \n",
       " Max.   :33000000  \n",
       "                   "
      ]
     },
     "execution_count": 4,
     "metadata": {},
     "output_type": "execute_result"
    },
    {
     "data": {
      "text/html": [
       "<table>\n",
       "<thead><tr><th></th><th scope=col>playerID</th><th scope=col>max_salary</th></tr></thead>\n",
       "<tbody>\n",
       "\t<tr><th scope=row>1</th><td>aardsda01</td><td>4500000</td></tr>\n",
       "\t<tr><th scope=row>2</th><td>aasedo01</td><td>675000</td></tr>\n",
       "\t<tr><th scope=row>3</th><td>abadan01</td><td>327000</td></tr>\n",
       "\t<tr><th scope=row>4</th><td>abadfe01</td><td>525900</td></tr>\n",
       "\t<tr><th scope=row>5</th><td>abbotje01</td><td>300000</td></tr>\n",
       "\t<tr><th scope=row>6</th><td>abbotji01</td><td>2775000</td></tr>\n",
       "</tbody>\n",
       "</table>\n"
      ],
      "text/latex": [
       "\\begin{tabular}{r|ll}\n",
       "  & playerID & max_salary\\\\\n",
       "\\hline\n",
       "\t1 & aardsda01 & 4500000\\\\\n",
       "\t2 & aasedo01 & 675000\\\\\n",
       "\t3 & abadan01 & 327000\\\\\n",
       "\t4 & abadfe01 & 525900\\\\\n",
       "\t5 & abbotje01 & 300000\\\\\n",
       "\t6 & abbotji01 & 2775000\\\\\n",
       "\\end{tabular}\n"
      ],
      "text/plain": [
       "   playerID max_salary\n",
       "1 aardsda01    4500000\n",
       "2  aasedo01     675000\n",
       "3  abadan01     327000\n",
       "4  abadfe01     525900\n",
       "5 abbotje01     300000\n",
       "6 abbotji01    2775000"
      ]
     },
     "execution_count": 4,
     "metadata": {},
     "output_type": "execute_result"
    }
   ],
   "source": [
    "summary(Salaries)\n",
    "\n",
    "# example(Salaries)  # see demos of results from the Salaries table\n",
    "\n",
    "PlayerMaxSalary = aggregate( salary ~ playerID, Salaries, max )\n",
    "colnames(PlayerMaxSalary) = gsub( \"salary\", \"max_salary\", colnames(PlayerMaxSalary) )\n",
    "\n",
    "head(PlayerMaxSalary)"
   ]
  },
  {
   "cell_type": "code",
   "execution_count": 5,
   "metadata": {
    "collapsed": false
   },
   "outputs": [
    {
     "data": {
      "text/html": [
       "<table>\n",
       "<thead><tr><th></th><th scope=col>playerID</th><th scope=col>startYear</th></tr></thead>\n",
       "<tbody>\n",
       "\t<tr><th scope=row>1</th><td>aardsda01</td><td>2004</td></tr>\n",
       "\t<tr><th scope=row>2</th><td>aasedo01</td><td>1986</td></tr>\n",
       "\t<tr><th scope=row>3</th><td>abadan01</td><td>2006</td></tr>\n",
       "\t<tr><th scope=row>4</th><td>abadfe01</td><td>2011</td></tr>\n",
       "\t<tr><th scope=row>5</th><td>abbotje01</td><td>1998</td></tr>\n",
       "\t<tr><th scope=row>6</th><td>abbotji01</td><td>1989</td></tr>\n",
       "</tbody>\n",
       "</table>\n"
      ],
      "text/latex": [
       "\\begin{tabular}{r|ll}\n",
       "  & playerID & startYear\\\\\n",
       "\\hline\n",
       "\t1 & aardsda01 & 2004\\\\\n",
       "\t2 & aasedo01 & 1986\\\\\n",
       "\t3 & abadan01 & 2006\\\\\n",
       "\t4 & abadfe01 & 2011\\\\\n",
       "\t5 & abbotje01 & 1998\\\\\n",
       "\t6 & abbotji01 & 1989\\\\\n",
       "\\end{tabular}\n"
      ],
      "text/plain": [
       "   playerID startYear\n",
       "1 aardsda01      2004\n",
       "2  aasedo01      1986\n",
       "3  abadan01      2006\n",
       "4  abadfe01      2011\n",
       "5 abbotje01      1998\n",
       "6 abbotji01      1989"
      ]
     },
     "execution_count": 5,
     "metadata": {},
     "output_type": "execute_result"
    }
   ],
   "source": [
    "PlayerStartYear = aggregate( yearID ~ playerID, Salaries, min )\n",
    "colnames(PlayerStartYear) = gsub( \"yearID\", \"startYear\", colnames(PlayerStartYear) )\n",
    "\n",
    "PlayerEndYear = aggregate( yearID ~ playerID, Salaries, max )\n",
    "colnames(PlayerEndYear) = gsub( \"yearID\", \"endYear\", colnames(PlayerEndYear) )\n",
    "\n",
    "head(PlayerStartYear)"
   ]
  },
  {
   "cell_type": "markdown",
   "metadata": {},
   "source": [
    "### Batting Statistics -- from the BattingStats table\n",
    "http://lahman.r-forge.r-project.org/doc/battingStats.html\n",
    "   \n",
    "(See also the Batting table:\n",
    "http://lahman.r-forge.r-project.org/doc/Batting.html )\n",
    "\n",
    "A glossary for Baseball Statistics Acronyms is in\n",
    "   http://en.wikipedia.org/wiki/Baseball_statistics"
   ]
  },
  {
   "cell_type": "code",
   "execution_count": 6,
   "metadata": {
    "collapsed": true
   },
   "outputs": [],
   "source": [
    "BattingStats = battingStats()"
   ]
  },
  {
   "cell_type": "markdown",
   "metadata": {},
   "source": [
    "### Aggregate Batting Stats -- cumulative, over a player's career"
   ]
  },
  {
   "cell_type": "code",
   "execution_count": 7,
   "metadata": {
    "collapsed": false
   },
   "outputs": [
    {
     "data": {
      "text/html": [
       "11933"
      ],
      "text/latex": [
       "11933"
      ],
      "text/markdown": [
       "11933"
      ],
      "text/plain": [
       "[1] 11933"
      ]
     },
     "execution_count": 7,
     "metadata": {},
     "output_type": "execute_result"
    },
    {
     "data": {
      "text/html": [
       "16037"
      ],
      "text/latex": [
       "16037"
      ],
      "text/markdown": [
       "16037"
      ],
      "text/plain": [
       "[1] 16037"
      ]
     },
     "execution_count": 7,
     "metadata": {},
     "output_type": "execute_result"
    },
    {
     "data": {
      "text/plain": [
       "   playerID               AB                R                H         \n",
       " Length:11532       Min.   :    1.0   Min.   :   0.0   Min.   :   0.0  \n",
       " Class :character   1st Qu.:   19.0   1st Qu.:   1.0   1st Qu.:   3.0  \n",
       " Mode  :character   Median :  136.5   Median :  12.0   Median :  25.0  \n",
       "                    Mean   :  896.7   Mean   : 117.6   Mean   : 234.8  \n",
       "                    3rd Qu.:  834.5   3rd Qu.:  95.0   3rd Qu.: 199.0  \n",
       "                    Max.   :14053.0   Max.   :2295.0   Max.   :4256.0  \n",
       "      X2B              X3B                HR             RBI        \n",
       " Min.   :  0.00   Min.   :  0.000   Min.   :  0.0   Min.   :   0.0  \n",
       " 1st Qu.:  0.00   1st Qu.:  0.000   1st Qu.:  0.0   1st Qu.:   1.0  \n",
       " Median :  4.00   Median :  0.000   Median :  1.0   Median :  10.0  \n",
       " Mean   : 41.29   Mean   :  6.723   Mean   : 21.4   Mean   : 109.6  \n",
       " 3rd Qu.: 33.00   3rd Qu.:  5.000   3rd Qu.: 10.0   3rd Qu.:  85.0  \n",
       " Max.   :746.00   Max.   :173.000   Max.   :762.0   Max.   :2297.0  \n",
       "       SB                CS                BB                BA       \n",
       " Min.   :   0.00   Min.   :  0.000   Min.   :   0.00   Min.   :0.000  \n",
       " 1st Qu.:   0.00   1st Qu.:  0.000   1st Qu.:   1.00   1st Qu.:0.230  \n",
       " Median :   0.00   Median :  0.000   Median :   8.00   Median :0.628  \n",
       " Mean   :  15.59   Mean   :  8.255   Mean   :  86.33   Mean   :1.116  \n",
       " 3rd Qu.:   7.00   3rd Qu.:  6.000   3rd Qu.:  64.00   3rd Qu.:1.596  \n",
       " Max.   :1406.00   Max.   :335.000   Max.   :2558.00   Max.   :7.804  \n",
       "       PA                TB            SlugPct           OBP        \n",
       " Min.   :    1.0   Min.   :   0.0   Min.   :0.000   Min.   :0.0000  \n",
       " 1st Qu.:   21.0   1st Qu.:   3.0   1st Qu.:0.250   1st Qu.:0.2500  \n",
       " Median :  153.0   Median :  33.0   Median :0.388   Median :0.3360  \n",
       " Mean   : 1007.6   Mean   : 353.8   Mean   :0.393   Mean   :0.3365  \n",
       " 3rd Qu.:  926.5   3rd Qu.: 282.2   3rd Qu.:0.500   3rd Qu.:0.4000  \n",
       " Max.   :15861.0   Max.   :6856.0   Max.   :3.000   Max.   :1.0000  \n",
       "      OPS             BABIP       \n",
       " Min.   :0.0000   Min.   :0.0000  \n",
       " 1st Qu.:0.5000   1st Qu.:0.2590  \n",
       " Median :0.7210   Median :0.3330  \n",
       " Mean   :0.7185   Mean   :0.3541  \n",
       " 3rd Qu.:0.8880   3rd Qu.:0.4000  \n",
       " Max.   :4.0000   Max.   :1.0000  "
      ]
     },
     "execution_count": 7,
     "metadata": {},
     "output_type": "execute_result"
    },
    {
     "data": {
      "text/html": [
       "11532"
      ],
      "text/latex": [
       "11532"
      ],
      "text/markdown": [
       "11532"
      ],
      "text/plain": [
       "[1] 11532"
      ]
     },
     "execution_count": 7,
     "metadata": {},
     "output_type": "execute_result"
    }
   ],
   "source": [
    "TotalBattingCounts = aggregate( cbind(AB,R,H,X2B,X3B,HR,RBI,SB,CS,BB,BA,PA,TB) ~ playerID,\n",
    "                                     BattingStats, sum)\n",
    "nrow(TotalBattingCounts)\n",
    "MaxBattingPcts = aggregate( cbind(SlugPct,OBP,OPS,BABIP) ~ playerID,\n",
    "                                 BattingStats, max )\n",
    "nrow(MaxBattingPcts)\n",
    "\n",
    "AggregateBattingStats = merge(TotalBattingCounts,MaxBattingPcts, by=\"playerID\")\n",
    "summary(AggregateBattingStats)\n",
    "nrow(AggregateBattingStats)"
   ]
  },
  {
   "cell_type": "markdown",
   "metadata": {},
   "source": [
    "### Inducted into the Hall of Fame?  -- from the HallOfFame table\n",
    "http://lahman.r-forge.r-project.org/doc/HallOfFame.html"
   ]
  },
  {
   "cell_type": "code",
   "execution_count": 8,
   "metadata": {
    "collapsed": false
   },
   "outputs": [
    {
     "data": {
      "text/html": [
       "<table>\n",
       "<thead><tr><th></th><th scope=col>playerID</th><th scope=col>yearID</th><th scope=col>votedBy</th><th scope=col>ballots</th><th scope=col>needed</th><th scope=col>votes</th><th scope=col>inducted</th><th scope=col>category</th><th scope=col>needed_note</th></tr></thead>\n",
       "<tbody>\n",
       "\t<tr><th scope=row>1</th><td>cobbty01</td><td>1936</td><td>BBWAA</td><td>226</td><td>170</td><td>222</td><td>Y</td><td>Player</td><td>NA</td></tr>\n",
       "\t<tr><th scope=row>2</th><td>ruthba01</td><td>1936</td><td>BBWAA</td><td>226</td><td>170</td><td>215</td><td>Y</td><td>Player</td><td>NA</td></tr>\n",
       "\t<tr><th scope=row>3</th><td>wagneho01</td><td>1936</td><td>BBWAA</td><td>226</td><td>170</td><td>215</td><td>Y</td><td>Player</td><td>NA</td></tr>\n",
       "\t<tr><th scope=row>4</th><td>mathech01</td><td>1936</td><td>BBWAA</td><td>226</td><td>170</td><td>205</td><td>Y</td><td>Player</td><td>NA</td></tr>\n",
       "\t<tr><th scope=row>5</th><td>johnswa01</td><td>1936</td><td>BBWAA</td><td>226</td><td>170</td><td>189</td><td>Y</td><td>Player</td><td>NA</td></tr>\n",
       "\t<tr><th scope=row>6</th><td>lajoina01</td><td>1936</td><td>BBWAA</td><td>226</td><td>170</td><td>146</td><td>N</td><td>Player</td><td>NA</td></tr>\n",
       "</tbody>\n",
       "</table>\n"
      ],
      "text/latex": [
       "\\begin{tabular}{r|lllllllll}\n",
       "  & playerID & yearID & votedBy & ballots & needed & votes & inducted & category & needed_note\\\\\n",
       "\\hline\n",
       "\t1 & cobbty01 & 1936 & BBWAA & 226 & 170 & 222 & Y & Player & NA\\\\\n",
       "\t2 & ruthba01 & 1936 & BBWAA & 226 & 170 & 215 & Y & Player & NA\\\\\n",
       "\t3 & wagneho01 & 1936 & BBWAA & 226 & 170 & 215 & Y & Player & NA\\\\\n",
       "\t4 & mathech01 & 1936 & BBWAA & 226 & 170 & 205 & Y & Player & NA\\\\\n",
       "\t5 & johnswa01 & 1936 & BBWAA & 226 & 170 & 189 & Y & Player & NA\\\\\n",
       "\t6 & lajoina01 & 1936 & BBWAA & 226 & 170 & 146 & N & Player & NA\\\\\n",
       "\\end{tabular}\n"
      ],
      "text/plain": [
       "   playerID yearID votedBy ballots needed votes inducted category needed_note\n",
       "1  cobbty01   1936   BBWAA     226    170   222        Y   Player        <NA>\n",
       "2  ruthba01   1936   BBWAA     226    170   215        Y   Player        <NA>\n",
       "3 wagneho01   1936   BBWAA     226    170   215        Y   Player        <NA>\n",
       "4 mathech01   1936   BBWAA     226    170   205        Y   Player        <NA>\n",
       "5 johnswa01   1936   BBWAA     226    170   189        Y   Player        <NA>\n",
       "6 lajoina01   1936   BBWAA     226    170   146        N   Player        <NA>"
      ]
     },
     "execution_count": 8,
     "metadata": {},
     "output_type": "execute_result"
    },
    {
     "data": {
      "text/html": [
       "<table>\n",
       "<thead><tr><th></th><th scope=col>playerID</th><th scope=col>yearID</th></tr></thead>\n",
       "<tbody>\n",
       "\t<tr><th scope=row>1</th><td>cobbty01</td><td>1936</td></tr>\n",
       "\t<tr><th scope=row>2</th><td>ruthba01</td><td>1936</td></tr>\n",
       "\t<tr><th scope=row>3</th><td>wagneho01</td><td>1936</td></tr>\n",
       "\t<tr><th scope=row>4</th><td>mathech01</td><td>1936</td></tr>\n",
       "\t<tr><th scope=row>5</th><td>johnswa01</td><td>1936</td></tr>\n",
       "\t<tr><th scope=row>111</th><td>lajoina01</td><td>1937</td></tr>\n",
       "</tbody>\n",
       "</table>\n"
      ],
      "text/latex": [
       "\\begin{tabular}{r|ll}\n",
       "  & playerID & yearID\\\\\n",
       "\\hline\n",
       "\t1 & cobbty01 & 1936\\\\\n",
       "\t2 & ruthba01 & 1936\\\\\n",
       "\t3 & wagneho01 & 1936\\\\\n",
       "\t4 & mathech01 & 1936\\\\\n",
       "\t5 & johnswa01 & 1936\\\\\n",
       "\t111 & lajoina01 & 1937\\\\\n",
       "\\end{tabular}\n"
      ],
      "text/plain": [
       "     playerID yearID\n",
       "1    cobbty01   1936\n",
       "2    ruthba01   1936\n",
       "3   wagneho01   1936\n",
       "4   mathech01   1936\n",
       "5   johnswa01   1936\n",
       "111 lajoina01   1937"
      ]
     },
     "execution_count": 8,
     "metadata": {},
     "output_type": "execute_result"
    },
    {
     "data": {
      "text/html": [
       "310"
      ],
      "text/latex": [
       "310"
      ],
      "text/markdown": [
       "310"
      ],
      "text/plain": [
       "[1] 310"
      ]
     },
     "execution_count": 8,
     "metadata": {},
     "output_type": "execute_result"
    }
   ],
   "source": [
    "data(HallOfFame)\n",
    "head(HallOfFame)\n",
    "\n",
    "InductedIntoHallOfFame = subset(HallOfFame, inducted == 'Y')[ , 1:2]\n",
    "\n",
    "head(InductedIntoHallOfFame)\n",
    "nrow(InductedIntoHallOfFame)"
   ]
  },
  {
   "cell_type": "markdown",
   "metadata": {},
   "source": [
    "### Include HallOfFame information in the Players table"
   ]
  },
  {
   "cell_type": "code",
   "execution_count": 9,
   "metadata": {
    "collapsed": false
   },
   "outputs": [
    {
     "data": {
      "text/html": [
       "<table>\n",
       "<thead><tr><th></th><th scope=col>playerID</th><th scope=col>nameFirst</th><th scope=col>nameLast</th><th scope=col>birthYear</th><th scope=col>weight</th><th scope=col>height</th><th scope=col>bats</th><th scope=col>throws</th><th scope=col>HallOfFameYear</th><th scope=col>HallOfFame</th></tr></thead>\n",
       "<tbody>\n",
       "\t<tr><th scope=row>1</th><td>aardsda01</td><td>David</td><td>Aardsma</td><td>1981</td><td>205</td><td>75</td><td>R</td><td>R</td><td>0</td><td>0</td></tr>\n",
       "\t<tr><th scope=row>2</th><td>aaronha01</td><td>Hank</td><td>Aaron</td><td>1934</td><td>180</td><td>72</td><td>R</td><td>R</td><td>1982</td><td>1</td></tr>\n",
       "\t<tr><th scope=row>3</th><td>aaronto01</td><td>Tommie</td><td>Aaron</td><td>1939</td><td>190</td><td>75</td><td>R</td><td>R</td><td>0</td><td>0</td></tr>\n",
       "\t<tr><th scope=row>4</th><td>aasedo01</td><td>Don</td><td>Aase</td><td>1954</td><td>190</td><td>75</td><td>R</td><td>R</td><td>0</td><td>0</td></tr>\n",
       "\t<tr><th scope=row>5</th><td>abadan01</td><td>Andy</td><td>Abad</td><td>1972</td><td>184</td><td>73</td><td>L</td><td>L</td><td>0</td><td>0</td></tr>\n",
       "\t<tr><th scope=row>6</th><td>abadfe01</td><td>Fernando</td><td>Abad</td><td>1985</td><td>220</td><td>73</td><td>L</td><td>L</td><td>0</td><td>0</td></tr>\n",
       "\t<tr><th scope=row>7</th><td>abadijo01</td><td>John</td><td>Abadie</td><td>1854</td><td>192</td><td>72</td><td>R</td><td>R</td><td>0</td><td>0</td></tr>\n",
       "\t<tr><th scope=row>8</th><td>abbated01</td><td>Ed</td><td>Abbaticchio</td><td>1877</td><td>170</td><td>71</td><td>R</td><td>R</td><td>0</td><td>0</td></tr>\n",
       "\t<tr><th scope=row>9</th><td>abbeybe01</td><td>Bert</td><td>Abbey</td><td>1869</td><td>175</td><td>71</td><td>R</td><td>R</td><td>0</td><td>0</td></tr>\n",
       "\t<tr><th scope=row>10</th><td>abbeych01</td><td>Charlie</td><td>Abbey</td><td>1866</td><td>169</td><td>68</td><td>L</td><td>L</td><td>0</td><td>0</td></tr>\n",
       "\t<tr><th scope=row>11</th><td>abbotda01</td><td>Dan</td><td>Abbott</td><td>1862</td><td>190</td><td>71</td><td>R</td><td>R</td><td>0</td><td>0</td></tr>\n",
       "\t<tr><th scope=row>12</th><td>abbotfr01</td><td>Fred</td><td>Abbott</td><td>1874</td><td>180</td><td>70</td><td>R</td><td>R</td><td>0</td><td>0</td></tr>\n",
       "\t<tr><th scope=row>13</th><td>abbotgl01</td><td>Glenn</td><td>Abbott</td><td>1951</td><td>200</td><td>78</td><td>R</td><td>R</td><td>0</td><td>0</td></tr>\n",
       "\t<tr><th scope=row>14</th><td>abbotje01</td><td>Jeff</td><td>Abbott</td><td>1972</td><td>190</td><td>74</td><td>R</td><td>L</td><td>0</td><td>0</td></tr>\n",
       "\t<tr><th scope=row>15</th><td>abbotji01</td><td>Jim</td><td>Abbott</td><td>1967</td><td>200</td><td>75</td><td>L</td><td>L</td><td>0</td><td>0</td></tr>\n",
       "\t<tr><th scope=row>16</th><td>abbotku01</td><td>Kurt</td><td>Abbott</td><td>1969</td><td>180</td><td>71</td><td>R</td><td>R</td><td>0</td><td>0</td></tr>\n",
       "\t<tr><th scope=row>17</th><td>abbotky01</td><td>Kyle</td><td>Abbott</td><td>1968</td><td>200</td><td>76</td><td>L</td><td>L</td><td>0</td><td>0</td></tr>\n",
       "\t<tr><th scope=row>18</th><td>abbotod01</td><td>Ody</td><td>Abbott</td><td>1888</td><td>180</td><td>74</td><td>R</td><td>R</td><td>0</td><td>0</td></tr>\n",
       "\t<tr><th scope=row>19</th><td>abbotpa01</td><td>Paul</td><td>Abbott</td><td>1967</td><td>185</td><td>75</td><td>R</td><td>R</td><td>0</td><td>0</td></tr>\n",
       "\t<tr><th scope=row>20</th><td>aberal01</td><td>Al</td><td>Aber</td><td>1927</td><td>195</td><td>74</td><td>L</td><td>L</td><td>0</td><td>0</td></tr>\n",
       "</tbody>\n",
       "</table>\n"
      ],
      "text/latex": [
       "\\begin{tabular}{r|llllllllll}\n",
       "  & playerID & nameFirst & nameLast & birthYear & weight & height & bats & throws & HallOfFameYear & HallOfFame\\\\\n",
       "\\hline\n",
       "\t1 & aardsda01 & David & Aardsma & 1981 & 205 & 75 & R & R & 0 & 0\\\\\n",
       "\t2 & aaronha01 & Hank & Aaron & 1934 & 180 & 72 & R & R & 1982 & 1\\\\\n",
       "\t3 & aaronto01 & Tommie & Aaron & 1939 & 190 & 75 & R & R & 0 & 0\\\\\n",
       "\t4 & aasedo01 & Don & Aase & 1954 & 190 & 75 & R & R & 0 & 0\\\\\n",
       "\t5 & abadan01 & Andy & Abad & 1972 & 184 & 73 & L & L & 0 & 0\\\\\n",
       "\t6 & abadfe01 & Fernando & Abad & 1985 & 220 & 73 & L & L & 0 & 0\\\\\n",
       "\t7 & abadijo01 & John & Abadie & 1854 & 192 & 72 & R & R & 0 & 0\\\\\n",
       "\t8 & abbated01 & Ed & Abbaticchio & 1877 & 170 & 71 & R & R & 0 & 0\\\\\n",
       "\t9 & abbeybe01 & Bert & Abbey & 1869 & 175 & 71 & R & R & 0 & 0\\\\\n",
       "\t10 & abbeych01 & Charlie & Abbey & 1866 & 169 & 68 & L & L & 0 & 0\\\\\n",
       "\t11 & abbotda01 & Dan & Abbott & 1862 & 190 & 71 & R & R & 0 & 0\\\\\n",
       "\t12 & abbotfr01 & Fred & Abbott & 1874 & 180 & 70 & R & R & 0 & 0\\\\\n",
       "\t13 & abbotgl01 & Glenn & Abbott & 1951 & 200 & 78 & R & R & 0 & 0\\\\\n",
       "\t14 & abbotje01 & Jeff & Abbott & 1972 & 190 & 74 & R & L & 0 & 0\\\\\n",
       "\t15 & abbotji01 & Jim & Abbott & 1967 & 200 & 75 & L & L & 0 & 0\\\\\n",
       "\t16 & abbotku01 & Kurt & Abbott & 1969 & 180 & 71 & R & R & 0 & 0\\\\\n",
       "\t17 & abbotky01 & Kyle & Abbott & 1968 & 200 & 76 & L & L & 0 & 0\\\\\n",
       "\t18 & abbotod01 & Ody & Abbott & 1888 & 180 & 74 & R & R & 0 & 0\\\\\n",
       "\t19 & abbotpa01 & Paul & Abbott & 1967 & 185 & 75 & R & R & 0 & 0\\\\\n",
       "\t20 & aberal01 & Al & Aber & 1927 & 195 & 74 & L & L & 0 & 0\\\\\n",
       "\\end{tabular}\n"
      ],
      "text/plain": [
       "    playerID nameFirst    nameLast birthYear weight height bats throws\n",
       "1  aardsda01     David     Aardsma      1981    205     75    R      R\n",
       "2  aaronha01      Hank       Aaron      1934    180     72    R      R\n",
       "3  aaronto01    Tommie       Aaron      1939    190     75    R      R\n",
       "4   aasedo01       Don        Aase      1954    190     75    R      R\n",
       "5   abadan01      Andy        Abad      1972    184     73    L      L\n",
       "6   abadfe01  Fernando        Abad      1985    220     73    L      L\n",
       "7  abadijo01      John      Abadie      1854    192     72    R      R\n",
       "8  abbated01        Ed Abbaticchio      1877    170     71    R      R\n",
       "9  abbeybe01      Bert       Abbey      1869    175     71    R      R\n",
       "10 abbeych01   Charlie       Abbey      1866    169     68    L      L\n",
       "11 abbotda01       Dan      Abbott      1862    190     71    R      R\n",
       "12 abbotfr01      Fred      Abbott      1874    180     70    R      R\n",
       "13 abbotgl01     Glenn      Abbott      1951    200     78    R      R\n",
       "14 abbotje01      Jeff      Abbott      1972    190     74    R      L\n",
       "15 abbotji01       Jim      Abbott      1967    200     75    L      L\n",
       "16 abbotku01      Kurt      Abbott      1969    180     71    R      R\n",
       "17 abbotky01      Kyle      Abbott      1968    200     76    L      L\n",
       "18 abbotod01       Ody      Abbott      1888    180     74    R      R\n",
       "19 abbotpa01      Paul      Abbott      1967    185     75    R      R\n",
       "20  aberal01        Al        Aber      1927    195     74    L      L\n",
       "   HallOfFameYear HallOfFame\n",
       "1               0          0\n",
       "2            1982          1\n",
       "3               0          0\n",
       "4               0          0\n",
       "5               0          0\n",
       "6               0          0\n",
       "7               0          0\n",
       "8               0          0\n",
       "9               0          0\n",
       "10              0          0\n",
       "11              0          0\n",
       "12              0          0\n",
       "13              0          0\n",
       "14              0          0\n",
       "15              0          0\n",
       "16              0          0\n",
       "17              0          0\n",
       "18              0          0\n",
       "19              0          0\n",
       "20              0          0"
      ]
     },
     "execution_count": 9,
     "metadata": {},
     "output_type": "execute_result"
    }
   ],
   "source": [
    "PlayersWithHallOfFame = transform( merge( Players, InductedIntoHallOfFame, all.x=TRUE, by=\"playerID\"),\n",
    "                                        HallOfFame = ifelse( is.na(yearID), 0, 1 ),\n",
    "                                        yearID = ifelse( is.na(yearID), 0, yearID )\n",
    "                                        )\n",
    "colnames(PlayersWithHallOfFame) = gsub( \"yearID\", \"HallOfFameYear\", colnames(PlayersWithHallOfFame) )\n",
    "head(PlayersWithHallOfFame, 20)"
   ]
  },
  {
   "cell_type": "code",
   "execution_count": 10,
   "metadata": {
    "collapsed": false
   },
   "outputs": [
    {
     "data": {
      "text/html": [
       "17071"
      ],
      "text/latex": [
       "17071"
      ],
      "text/markdown": [
       "17071"
      ],
      "text/plain": [
       "[1] 17071"
      ]
     },
     "execution_count": 10,
     "metadata": {},
     "output_type": "execute_result"
    },
    {
     "data": {
      "text/html": [
       "277"
      ],
      "text/latex": [
       "277"
      ],
      "text/markdown": [
       "277"
      ],
      "text/plain": [
       "[1] 277"
      ]
     },
     "execution_count": 10,
     "metadata": {},
     "output_type": "execute_result"
    }
   ],
   "source": [
    "nrow(PlayersWithHallOfFame)\n",
    "nrow(subset(PlayersWithHallOfFame, HallOfFame == 1))"
   ]
  },
  {
   "cell_type": "code",
   "execution_count": 11,
   "metadata": {
    "collapsed": false
   },
   "outputs": [
    {
     "data": {
      "text/html": [
       "11299"
      ],
      "text/latex": [
       "11299"
      ],
      "text/markdown": [
       "11299"
      ],
      "text/plain": [
       "[1] 11299"
      ]
     },
     "execution_count": 11,
     "metadata": {},
     "output_type": "execute_result"
    },
    {
     "data": {
      "text/html": [
       "194"
      ],
      "text/latex": [
       "194"
      ],
      "text/markdown": [
       "194"
      ],
      "text/plain": [
       "[1] 194"
      ]
     },
     "execution_count": 11,
     "metadata": {},
     "output_type": "execute_result"
    }
   ],
   "source": [
    "PlayersAndStats = merge( PlayersWithHallOfFame, AggregateBattingStats )\n",
    "\n",
    "nrow(PlayersAndStats)\n",
    "nrow(subset(PlayersAndStats, HallOfFame == 1))\n",
    "\n",
    "# write.csv(PlayersAndStats, file=\"PlayersAndStats.csv\", quote=FALSE, row.names=FALSE)"
   ]
  },
  {
   "cell_type": "markdown",
   "metadata": {},
   "source": [
    "# Join Information for your Baseball Salary model into one Table"
   ]
  },
  {
   "cell_type": "markdown",
   "metadata": {},
   "source": [
    "### Merge Aggregate Batting Statistics and Maximum Salary into the Relevant Information table"
   ]
  },
  {
   "cell_type": "code",
   "execution_count": 12,
   "metadata": {
    "collapsed": false
   },
   "outputs": [
    {
     "data": {
      "text/html": [
       "<table>\n",
       "<thead><tr><th></th><th scope=col>playerID</th><th scope=col>nameFirst</th><th scope=col>nameLast</th><th scope=col>birthYear</th><th scope=col>weight</th><th scope=col>height</th><th scope=col>bats</th><th scope=col>throws</th><th scope=col>HallOfFameYear</th><th scope=col>HallOfFame</th><th scope=col>AB</th><th scope=col>R</th><th scope=col>H</th><th scope=col>X2B</th><th scope=col>X3B</th><th scope=col>HR</th><th scope=col>RBI</th><th scope=col>SB</th><th scope=col>CS</th><th scope=col>BB</th><th scope=col>BA</th><th scope=col>PA</th><th scope=col>TB</th><th scope=col>SlugPct</th><th scope=col>OBP</th><th scope=col>OPS</th><th scope=col>BABIP</th><th scope=col>max_salary</th><th scope=col>startYear</th><th scope=col>endYear</th><th scope=col>totalYears</th></tr></thead>\n",
       "<tbody>\n",
       "\t<tr><th scope=row>1</th><td>aardsda01</td><td>David</td><td>Aardsma</td><td>1981</td><td>205</td><td>75</td><td>R</td><td>R</td><td>0</td><td>0</td><td>3</td><td>0</td><td>0</td><td>0</td><td>0</td><td>0</td><td>0</td><td>0</td><td>0</td><td>0</td><td>0</td><td>4</td><td>0</td><td>0</td><td>0</td><td>0</td><td>0</td><td>4500000</td><td>2004</td><td>2012</td><td>9</td></tr>\n",
       "\t<tr><th scope=row>2</th><td>aasedo01</td><td>Don</td><td>Aase</td><td>1954</td><td>190</td><td>75</td><td>R</td><td>R</td><td>0</td><td>0</td><td>5</td><td>0</td><td>0</td><td>0</td><td>0</td><td>0</td><td>0</td><td>0</td><td>0</td><td>0</td><td>0</td><td>5</td><td>0</td><td>0</td><td>0</td><td>0</td><td>0</td><td>675000</td><td>1986</td><td>1989</td><td>4</td></tr>\n",
       "\t<tr><th scope=row>3</th><td>abadan01</td><td>Andy</td><td>Abad</td><td>1972</td><td>184</td><td>73</td><td>L</td><td>L</td><td>0</td><td>0</td><td>21</td><td>1</td><td>2</td><td>0</td><td>0</td><td>0</td><td>0</td><td>0</td><td>1</td><td>4</td><td>0.118</td><td>25</td><td>2</td><td>0.118</td><td>0.4</td><td>0.4</td><td>0.167</td><td>327000</td><td>2006</td><td>2006</td><td>1</td></tr>\n",
       "\t<tr><th scope=row>4</th><td>abadfe01</td><td>Fernando</td><td>Abad</td><td>1985</td><td>220</td><td>73</td><td>L</td><td>L</td><td>0</td><td>0</td><td>8</td><td>0</td><td>1</td><td>0</td><td>0</td><td>0</td><td>0</td><td>0</td><td>0</td><td>0</td><td>0.143</td><td>8</td><td>1</td><td>0.143</td><td>0.143</td><td>0.286</td><td>0.25</td><td>525900</td><td>2011</td><td>2014</td><td>4</td></tr>\n",
       "\t<tr><th scope=row>5</th><td>abbotje01</td><td>Jeff</td><td>Abbott</td><td>1972</td><td>190</td><td>74</td><td>R</td><td>L</td><td>0</td><td>0</td><td>596</td><td>82</td><td>157</td><td>33</td><td>2</td><td>18</td><td>83</td><td>6</td><td>5</td><td>38</td><td>1.236</td><td>649</td><td>248</td><td>0.492</td><td>0.343</td><td>0.79</td><td>0.32</td><td>300000</td><td>1998</td><td>2001</td><td>4</td></tr>\n",
       "\t<tr><th scope=row>6</th><td>abbotji01</td><td>Jim</td><td>Abbott</td><td>1967</td><td>200</td><td>75</td><td>L</td><td>L</td><td>0</td><td>0</td><td>21</td><td>0</td><td>2</td><td>0</td><td>0</td><td>0</td><td>3</td><td>0</td><td>0</td><td>0</td><td>0.095</td><td>24</td><td>2</td><td>0.095</td><td>0.095</td><td>0.19</td><td>0.182</td><td>2775000</td><td>1989</td><td>1999</td><td>11</td></tr>\n",
       "</tbody>\n",
       "</table>\n"
      ],
      "text/latex": [
       "\\begin{tabular}{r|lllllllllllllllllllllllllllllll}\n",
       "  & playerID & nameFirst & nameLast & birthYear & weight & height & bats & throws & HallOfFameYear & HallOfFame & AB & R & H & X2B & X3B & HR & RBI & SB & CS & BB & BA & PA & TB & SlugPct & OBP & OPS & BABIP & max_salary & startYear & endYear & totalYears\\\\\n",
       "\\hline\n",
       "\t1 & aardsda01 & David & Aardsma & 1981 & 205 & 75 & R & R & 0 & 0 & 3 & 0 & 0 & 0 & 0 & 0 & 0 & 0 & 0 & 0 & 0 & 4 & 0 & 0 & 0 & 0 & 0 & 4500000 & 2004 & 2012 & 9\\\\\n",
       "\t2 & aasedo01 & Don & Aase & 1954 & 190 & 75 & R & R & 0 & 0 & 5 & 0 & 0 & 0 & 0 & 0 & 0 & 0 & 0 & 0 & 0 & 5 & 0 & 0 & 0 & 0 & 0 & 675000 & 1986 & 1989 & 4\\\\\n",
       "\t3 & abadan01 & Andy & Abad & 1972 & 184 & 73 & L & L & 0 & 0 & 21 & 1 & 2 & 0 & 0 & 0 & 0 & 0 & 1 & 4 & 0.118 & 25 & 2 & 0.118 & 0.4 & 0.4 & 0.167 & 327000 & 2006 & 2006 & 1\\\\\n",
       "\t4 & abadfe01 & Fernando & Abad & 1985 & 220 & 73 & L & L & 0 & 0 & 8 & 0 & 1 & 0 & 0 & 0 & 0 & 0 & 0 & 0 & 0.143 & 8 & 1 & 0.143 & 0.143 & 0.286 & 0.25 & 525900 & 2011 & 2014 & 4\\\\\n",
       "\t5 & abbotje01 & Jeff & Abbott & 1972 & 190 & 74 & R & L & 0 & 0 & 596 & 82 & 157 & 33 & 2 & 18 & 83 & 6 & 5 & 38 & 1.236 & 649 & 248 & 0.492 & 0.343 & 0.79 & 0.32 & 300000 & 1998 & 2001 & 4\\\\\n",
       "\t6 & abbotji01 & Jim & Abbott & 1967 & 200 & 75 & L & L & 0 & 0 & 21 & 0 & 2 & 0 & 0 & 0 & 3 & 0 & 0 & 0 & 0.095 & 24 & 2 & 0.095 & 0.095 & 0.19 & 0.182 & 2775000 & 1989 & 1999 & 11\\\\\n",
       "\\end{tabular}\n"
      ],
      "text/plain": [
       "   playerID nameFirst nameLast birthYear weight height bats throws\n",
       "1 aardsda01     David  Aardsma      1981    205     75    R      R\n",
       "2  aasedo01       Don     Aase      1954    190     75    R      R\n",
       "3  abadan01      Andy     Abad      1972    184     73    L      L\n",
       "4  abadfe01  Fernando     Abad      1985    220     73    L      L\n",
       "5 abbotje01      Jeff   Abbott      1972    190     74    R      L\n",
       "6 abbotji01       Jim   Abbott      1967    200     75    L      L\n",
       "  HallOfFameYear HallOfFame  AB  R   H X2B X3B HR RBI SB CS BB    BA  PA  TB\n",
       "1              0          0   3  0   0   0   0  0   0  0  0  0 0.000   4   0\n",
       "2              0          0   5  0   0   0   0  0   0  0  0  0 0.000   5   0\n",
       "3              0          0  21  1   2   0   0  0   0  0  1  4 0.118  25   2\n",
       "4              0          0   8  0   1   0   0  0   0  0  0  0 0.143   8   1\n",
       "5              0          0 596 82 157  33   2 18  83  6  5 38 1.236 649 248\n",
       "6              0          0  21  0   2   0   0  0   3  0  0  0 0.095  24   2\n",
       "  SlugPct   OBP   OPS BABIP max_salary startYear endYear totalYears\n",
       "1   0.000 0.000 0.000 0.000    4500000      2004    2012          9\n",
       "2   0.000 0.000 0.000 0.000     675000      1986    1989          4\n",
       "3   0.118 0.400 0.400 0.167     327000      2006    2006          1\n",
       "4   0.143 0.143 0.286 0.250     525900      2011    2014          4\n",
       "5   0.492 0.343 0.790 0.320     300000      1998    2001          4\n",
       "6   0.095 0.095 0.190 0.182    2775000      1989    1999         11"
      ]
     },
     "execution_count": 12,
     "metadata": {},
     "output_type": "execute_result"
    },
    {
     "data": {
      "text/html": [
       "4090"
      ],
      "text/latex": [
       "4090"
      ],
      "text/markdown": [
       "4090"
      ],
      "text/plain": [
       "[1] 4090"
      ]
     },
     "execution_count": 12,
     "metadata": {},
     "output_type": "execute_result"
    }
   ],
   "source": [
    "PlayersAndStatsAndSalary = transform(\n",
    "    merge( merge( merge( PlayersAndStats, PlayerMaxSalary ), PlayerStartYear), PlayerEndYear ),\n",
    "    totalYears = endYear - startYear + 1\n",
    "    )\n",
    "head(PlayersAndStatsAndSalary)\n",
    "nrow(PlayersAndStatsAndSalary)\n",
    "\n",
    "# write.csv(PlayersAndStatsAndSalary, file=\"PlayersAndStatsAndSalary.csv\", quote=FALSE, row.names=FALSE)"
   ]
  },
  {
   "cell_type": "markdown",
   "metadata": {},
   "source": [
    "# Problem 1: construct a model like this Baseline Salary Model"
   ]
  },
  {
   "cell_type": "markdown",
   "metadata": {},
   "source": [
    "### For this salary model, consider only those players who started playing after 2000:"
   ]
  },
  {
   "cell_type": "code",
   "execution_count": 13,
   "metadata": {
    "collapsed": false
   },
   "outputs": [
    {
     "data": {
      "text/html": [
       "1720"
      ],
      "text/latex": [
       "1720"
      ],
      "text/markdown": [
       "1720"
      ],
      "text/plain": [
       "[1] 1720"
      ]
     },
     "execution_count": 13,
     "metadata": {},
     "output_type": "execute_result"
    }
   ],
   "source": [
    "RecentPlayersAndStatsAndSalary = subset( PlayersAndStatsAndSalary, startYear >= 2000 )\n",
    "nrow(RecentPlayersAndStatsAndSalary)"
   ]
  },
  {
   "cell_type": "code",
   "execution_count": 14,
   "metadata": {
    "collapsed": false
   },
   "outputs": [
    {
     "data": {
      "text/plain": [
       "   playerID          nameFirst           nameLast           birthYear   \n",
       " Length:4090        Length:4090        Length:4090        Min.   :1925  \n",
       " Class :character   Class :character   Class :character   1st Qu.:1964  \n",
       " Mode  :character   Mode  :character   Mode  :character   Median :1972  \n",
       "                                                          Mean   :1972  \n",
       "                                                          3rd Qu.:1980  \n",
       "                                                          Max.   :1993  \n",
       "     weight          height     bats     throws   HallOfFameYear   \n",
       " Min.   :140.0   Min.   :66.0   B: 397   L: 830   Min.   :   0.00  \n",
       " 1st Qu.:182.2   1st Qu.:72.0   L:1158   R:3260   1st Qu.:   0.00  \n",
       " Median :195.0   Median :73.0   R:2535            Median :   0.00  \n",
       " Mean   :197.7   Mean   :73.4                     Mean   :  18.62  \n",
       " 3rd Qu.:210.0   3rd Qu.:75.0                     3rd Qu.:   0.00  \n",
       " Max.   :295.0   Max.   :83.0                     Max.   :2015.00  \n",
       "   HallOfFame             AB                R                H         \n",
       " Min.   :0.000000   Min.   :    1.0   Min.   :   0.0   Min.   :   0.0  \n",
       " 1st Qu.:0.000000   1st Qu.:   32.0   1st Qu.:   2.0   1st Qu.:   4.0  \n",
       " Median :0.000000   Median :  306.5   Median :  28.0   Median :  59.5  \n",
       " Mean   :0.009291   Mean   : 1361.8   Mean   : 181.9   Mean   : 358.6  \n",
       " 3rd Qu.:0.000000   3rd Qu.: 1846.2   3rd Qu.: 225.0   3rd Qu.: 463.8  \n",
       " Max.   :1.000000   Max.   :14053.0   Max.   :2295.0   Max.   :4256.0  \n",
       "      X2B              X3B                HR              RBI        \n",
       " Min.   :  0.00   Min.   :  0.000   Min.   :  0.00   Min.   :   0.0  \n",
       " 1st Qu.:  0.00   1st Qu.:  0.000   1st Qu.:  0.00   1st Qu.:   1.0  \n",
       " Median : 11.00   Median :  1.000   Median :  3.00   Median :  25.0  \n",
       " Mean   : 67.54   Mean   :  8.248   Mean   : 38.09   Mean   : 171.7  \n",
       " 3rd Qu.: 88.00   3rd Qu.:  9.000   3rd Qu.: 35.00   3rd Qu.: 209.0  \n",
       " Max.   :746.00   Max.   :147.000   Max.   :762.00   Max.   :1996.0  \n",
       "       SB                CS               BB               BA        \n",
       " Min.   :   0.00   Min.   :  0.00   Min.   :   0.0   Min.   :0.0000  \n",
       " 1st Qu.:   0.00   1st Qu.:  0.00   1st Qu.:   1.0   1st Qu.:0.4052  \n",
       " Median :   1.00   Median :  1.00   Median :  19.0   Median :1.0580  \n",
       " Mean   :  27.36   Mean   : 12.14   Mean   : 131.8   Mean   :1.5236  \n",
       " 3rd Qu.:  19.00   3rd Qu.: 12.00   3rd Qu.: 156.0   3rd Qu.:2.3415  \n",
       " Max.   :1406.00   Max.   :335.00   Max.   :2558.0   Max.   :7.8040  \n",
       "       PA                TB            SlugPct            OBP        \n",
       " Min.   :    1.0   Min.   :   0.0   Min.   :0.0000   Min.   :0.0000  \n",
       " 1st Qu.:   36.0   1st Qu.:   5.0   1st Qu.:0.2920   1st Qu.:0.2730  \n",
       " Median :  348.5   Median :  86.0   Median :0.4385   Median :0.3530  \n",
       " Mean   : 1530.3   Mean   : 556.9   Mean   :0.4347   Mean   :0.3515  \n",
       " 3rd Qu.: 2066.5   3rd Qu.: 706.0   3rd Qu.:0.5317   3rd Qu.:0.4070  \n",
       " Max.   :15861.0   Max.   :5976.0   Max.   :3.0000   Max.   :1.0000  \n",
       "      OPS             BABIP          max_salary         startYear   \n",
       " Min.   :0.0000   Min.   :0.0000   Min.   :   60000   Min.   :1985  \n",
       " 1st Qu.:0.5643   1st Qu.:0.3000   1st Qu.:  342000   1st Qu.:1989  \n",
       " Median :0.7895   Median :0.3490   Median :  700000   Median :1997  \n",
       " Mean   :0.7737   Mean   :0.3863   Mean   : 2497992   Mean   :1998  \n",
       " 3rd Qu.:0.9350   3rd Qu.:0.4368   3rd Qu.: 3000000   3rd Qu.:2006  \n",
       " Max.   :4.0000   Max.   :1.0000   Max.   :33000000   Max.   :2014  \n",
       "    endYear       totalYears    \n",
       " Min.   :1985   Min.   : 1.000  \n",
       " 1st Qu.:1996   1st Qu.: 2.000  \n",
       " Median :2004   Median : 5.000  \n",
       " Mean   :2003   Mean   : 6.106  \n",
       " 3rd Qu.:2012   3rd Qu.: 9.000  \n",
       " Max.   :2014   Max.   :27.000  "
      ]
     },
     "execution_count": 14,
     "metadata": {},
     "output_type": "execute_result"
    }
   ],
   "source": [
    "summary(PlayersAndStatsAndSalary)"
   ]
  },
  {
   "cell_type": "code",
   "execution_count": 15,
   "metadata": {
    "collapsed": false
   },
   "outputs": [
    {
     "data": {
      "text/plain": [
       "\n",
       "Call:\n",
       "lm(formula = log10(max_salary) ~ AB + R + H + X2B + X3B + HR + \n",
       "    RBI + SB + CS + BB + BA + PA + SlugPct + OBP + BABIP + startYear + \n",
       "    totalYears, data = RecentPlayersAndStatsAndSalary)\n",
       "\n",
       "Residuals:\n",
       "     Min       1Q   Median       3Q      Max \n",
       "-1.11262 -0.16561 -0.03839  0.14415  1.53555 \n",
       "\n",
       "Coefficients:\n",
       "              Estimate Std. Error t value Pr(>|t|)    \n",
       "(Intercept) -6.371e+01  4.032e+00 -15.803  < 2e-16 ***\n",
       "AB          -3.093e-03  5.457e-04  -5.668 1.69e-08 ***\n",
       "R           -1.767e-03  5.068e-04  -3.487 0.000500 ***\n",
       "H            8.609e-04  3.506e-04   2.456 0.014160 *  \n",
       "X2B          1.408e-03  7.283e-04   1.933 0.053370 .  \n",
       "X3B          3.012e-03  1.658e-03   1.817 0.069368 .  \n",
       "HR           2.309e-03  1.020e-03   2.263 0.023764 *  \n",
       "RBI          9.654e-05  4.981e-04   0.194 0.846337    \n",
       "SB           8.782e-04  5.399e-04   1.627 0.103968    \n",
       "CS          -7.303e-04  1.786e-03  -0.409 0.682640    \n",
       "BB          -2.381e-03  5.068e-04  -4.698 2.84e-06 ***\n",
       "BA          -1.403e-01  2.001e-02  -7.010 3.42e-12 ***\n",
       "PA           2.932e-03  5.138e-04   5.705 1.37e-08 ***\n",
       "SlugPct      5.453e-03  4.608e-02   0.118 0.905814    \n",
       "OBP         -2.146e-02  8.254e-02  -0.260 0.794916    \n",
       "BABIP        1.805e-01  5.083e-02   3.552 0.000393 ***\n",
       "startYear    3.443e-02  2.006e-03  17.168  < 2e-16 ***\n",
       "totalYears   1.440e-01  3.074e-03  46.840  < 2e-16 ***\n",
       "---\n",
       "Signif. codes:  0 ‘***’ 0.001 ‘**’ 0.01 ‘*’ 0.05 ‘.’ 0.1 ‘ ’ 1\n",
       "\n",
       "Residual standard error: 0.2883 on 1702 degrees of freedom\n",
       "Multiple R-squared:  0.7349,\tAdjusted R-squared:  0.7322 \n",
       "F-statistic: 277.5 on 17 and 1702 DF,  p-value: < 2.2e-16\n"
      ]
     },
     "execution_count": 15,
     "metadata": {},
     "output_type": "execute_result"
    }
   ],
   "source": [
    "BaselineSalaryModel = lm( log10(max_salary) ~\n",
    "                         AB+R+H+X2B+X3B+HR+RBI+SB+CS+BB+BA+PA+SlugPct+OBP+BABIP + startYear + totalYears,\n",
    "                         data = RecentPlayersAndStatsAndSalary)\n",
    "summary(BaselineSalaryModel)"
   ]
  },
  {
   "cell_type": "code",
   "execution_count": 16,
   "metadata": {
    "collapsed": false
   },
   "outputs": [
    {
     "name": "stderr",
     "output_type": "stream",
     "text": [
      "Loading required package: lattice\n",
      "Loading required package: ggplot2\n",
      "Loading required package: Cubist\n"
     ]
    },
    {
     "data": {
      "text/plain": [
       "Cubist \n",
       "\n",
       "1720 samples\n",
       "  30 predictor\n",
       "\n",
       "Pre-processing: centered (21), scaled (21) \n",
       "Resampling: Cross-Validated (10 fold, repeated 5 times) \n",
       "Summary of sample sizes: 1549, 1548, 1548, 1548, 1547, 1549, ... \n",
       "Resampling results across tuning parameters:\n",
       "\n",
       "  committees  neighbors  RMSE       Rsquared   RMSE SD     Rsquared SD\n",
       "   1          0          0.2573236  0.7922028  0.02975086  0.04417651 \n",
       "   1          5          0.2643321  0.7800510  0.02954271  0.04493142 \n",
       "   1          9          0.2582840  0.7893002  0.03010258  0.04532795 \n",
       "  10          0          0.2301070  0.8310504  0.02427305  0.03383936 \n",
       "  10          5          0.2406527  0.8147543  0.02297689  0.03334637 \n",
       "  10          9          0.2328361  0.8260252  0.02406843  0.03449360 \n",
       "  20          0          0.2286208  0.8332726  0.02367124  0.03265563 \n",
       "  20          5          0.2393460  0.8168718  0.02211373  0.03199302 \n",
       "  20          9          0.2314904  0.8281358  0.02342924  0.03339142 \n",
       "\n",
       "RMSE was used to select the optimal model using  the smallest value.\n",
       "The final values used for the model were committees = 20 and neighbors = 0. "
      ]
     },
     "execution_count": 16,
     "metadata": {},
     "output_type": "execute_result"
    }
   ],
   "source": [
    "#  Create your model here ...\n",
    "library(caret)\n",
    "\n",
    "MySalaryModel <- train(log10(max_salary) ~ AB+R+H+X2B+X3B+HR+RBI+SB+CS+BB+BA+PA+SlugPct+OBP+BABIP + startYear + totalYears + birthYear + height + weight + endYear, data = RecentPlayersAndStatsAndSalary, method=\"cubist\", preProc = c(\"center\", \"scale\"), trControl = trainControl(method = \"repeatedcv\", repeats = 5))\n",
    "\n",
    "MySalaryModel"
   ]
  },
  {
   "cell_type": "code",
   "execution_count": 17,
   "metadata": {
    "collapsed": false
   },
   "outputs": [
    {
     "data": {
      "text/html": [
       "<table>\n",
       "<thead><tr><th></th><th scope=col>playerID</th><th scope=col>nameFirst</th><th scope=col>nameLast</th><th scope=col>birthYear</th><th scope=col>weight</th><th scope=col>height</th><th scope=col>bats</th><th scope=col>throws</th><th scope=col>HallOfFameYear</th><th scope=col>HallOfFame</th><th scope=col>AB</th><th scope=col>R</th><th scope=col>H</th><th scope=col>X2B</th><th scope=col>X3B</th><th scope=col>HR</th><th scope=col>RBI</th><th scope=col>SB</th><th scope=col>CS</th><th scope=col>BB</th><th scope=col>BA</th><th scope=col>PA</th><th scope=col>TB</th><th scope=col>SlugPct</th><th scope=col>OBP</th><th scope=col>OPS</th><th scope=col>BABIP</th><th scope=col>startYear</th><th scope=col>endYear</th><th scope=col>totalYears</th></tr></thead>\n",
       "<tbody>\n",
       "\t<tr><th scope=row>1</th><td>fornean01</td><td>Andrew</td><td>Forney</td><td>1982</td><td>234</td><td>72</td><td>R</td><td>R</td><td>0</td><td>0</td><td>32</td><td>3</td><td>5</td><td>0</td><td>0</td><td>1</td><td>2</td><td>0</td><td>0</td><td>0</td><td>0.263</td><td>35</td><td>11</td><td>0.437</td><td>0.261</td><td>0.696</td><td>0.33</td><td>2007</td><td>2013</td><td>6</td></tr>\n",
       "\t<tr><th scope=row>2</th><td>mokasta01</td><td>Tanaya</td><td>Mokashi</td><td>1991</td><td>226</td><td>76</td><td>L</td><td>R</td><td>0</td><td>0</td><td>1309</td><td>211</td><td>357</td><td>61</td><td>13</td><td>56</td><td>149</td><td>30</td><td>13</td><td>154</td><td>0.813</td><td>1490</td><td>608</td><td>0.486</td><td>0.371</td><td>0.854</td><td>0.351</td><td>2012</td><td>2013</td><td>3</td></tr>\n",
       "\t<tr><th scope=row>3</th><td>shahma01</td><td>Mauli</td><td>Shah</td><td>1987</td><td>204</td><td>74</td><td>R</td><td>R</td><td>0</td><td>0</td><td>958</td><td>90</td><td>270</td><td>57</td><td>3</td><td>7</td><td>106</td><td>7</td><td>3</td><td>43</td><td>1.346</td><td>1021</td><td>360</td><td>0.421</td><td>0.341</td><td>0.762</td><td>0.341</td><td>2013</td><td>2013</td><td>4</td></tr>\n",
       "\t<tr><th scope=row>4</th><td>vahabar01</td><td>Arash</td><td>Vahabpour</td><td>1983</td><td>226</td><td>75</td><td>L</td><td>L</td><td>0</td><td>0</td><td>389</td><td>42</td><td>95</td><td>13</td><td>7</td><td>9</td><td>40</td><td>0</td><td>2</td><td>21</td><td>1.786</td><td>448</td><td>146</td><td>0.642</td><td>0.4</td><td>1.029</td><td>0.425</td><td>2002</td><td>2011</td><td>9</td></tr>\n",
       "\t<tr><th scope=row>5</th><td>wenigbr01</td><td>Brooke</td><td>Wenig</td><td>1983</td><td>194</td><td>73</td><td>L</td><td>L</td><td>0</td><td>0</td><td>3408</td><td>430</td><td>932</td><td>197</td><td>12</td><td>146</td><td>520</td><td>7</td><td>5</td><td>274</td><td>2.544</td><td>3727</td><td>1590</td><td>0.597</td><td>0.412</td><td>1.015</td><td>0.431</td><td>2008</td><td>2015</td><td>6</td></tr>\n",
       "\t<tr><th scope=row>6</th><td>wangha01</td><td>Haoying</td><td>Wang</td><td>1975</td><td>191</td><td>72</td><td>L</td><td>L</td><td>0</td><td>0</td><td>1674</td><td>194</td><td>469</td><td>93</td><td>10</td><td>34</td><td>222</td><td>11</td><td>8</td><td>106</td><td>2.602</td><td>1818</td><td>684</td><td>0.484</td><td>0.378</td><td>0.856</td><td>0.351</td><td>2005</td><td>2011</td><td>9</td></tr>\n",
       "\t<tr><th scope=row>7</th><td>zhangzi01</td><td>Zihao</td><td>Zhang</td><td>1988</td><td>216</td><td>74</td><td>R</td><td>R</td><td>0</td><td>0</td><td>1262</td><td>123</td><td>295</td><td>48</td><td>1</td><td>42</td><td>153</td><td>0</td><td>3</td><td>66</td><td>0.984</td><td>1357</td><td>472</td><td>0.48</td><td>0.31</td><td>0.787</td><td>0.301</td><td>2014</td><td>2014</td><td>1</td></tr>\n",
       "\t<tr><th scope=row>8</th><td>lyuha01</td><td>Hanci</td><td>Lyu</td><td>1979</td><td>186</td><td>72</td><td>R</td><td>R</td><td>0</td><td>0</td><td>387</td><td>52</td><td>101</td><td>13</td><td>4</td><td>13</td><td>52</td><td>4</td><td>2</td><td>42</td><td>1.044</td><td>439</td><td>160</td><td>0.577</td><td>0.39</td><td>0.976</td><td>0.393</td><td>2001</td><td>2006</td><td>7</td></tr>\n",
       "\t<tr><th scope=row>9</th><td>shettpu01</td><td>Punit</td><td>Shetty</td><td>1988</td><td>229</td><td>73</td><td>L</td><td>R</td><td>0</td><td>0</td><td>1268</td><td>118</td><td>342</td><td>76</td><td>2</td><td>26</td><td>152</td><td>16</td><td>1</td><td>121</td><td>1.33</td><td>1410</td><td>501</td><td>0.547</td><td>0.398</td><td>0.945</td><td>0.385</td><td>2013</td><td>2013</td><td>2</td></tr>\n",
       "\t<tr><th scope=row>10</th><td>harrikr01</td><td>Kristina</td><td>Harris</td><td>1978</td><td>194</td><td>74</td><td>R</td><td>R</td><td>0</td><td>0</td><td>2692</td><td>369</td><td>677</td><td>147</td><td>9</td><td>114</td><td>434</td><td>18</td><td>18</td><td>189</td><td>2.261</td><td>2923</td><td>1186</td><td>0.49</td><td>0.337</td><td>0.818</td><td>0.322</td><td>2003</td><td>2008</td><td>5</td></tr>\n",
       "\t<tr><th scope=row>11</th><td>wangha01</td><td>Han</td><td>Wang</td><td>1993</td><td>181</td><td>74</td><td>R</td><td>R</td><td>0</td><td>0</td><td>1186</td><td>149</td><td>331</td><td>74</td><td>5</td><td>34</td><td>129</td><td>11</td><td>6</td><td>57</td><td>0.823</td><td>1265</td><td>513</td><td>0.445</td><td>0.324</td><td>0.757</td><td>0.321</td><td>2012</td><td>2013</td><td>1</td></tr>\n",
       "\t<tr><th scope=row>12</th><td>ketenma01</td><td>Mark</td><td>Ketenjian</td><td>1991</td><td>171</td><td>71</td><td>L</td><td>R</td><td>0</td><td>0</td><td>654</td><td>83</td><td>197</td><td>41</td><td>5</td><td>15</td><td>76</td><td>9</td><td>4</td><td>32</td><td>0.616</td><td>705</td><td>294</td><td>0.482</td><td>0.357</td><td>0.842</td><td>0.38</td><td>2015</td><td>2015</td><td>2</td></tr>\n",
       "\t<tr><th scope=row>13</th><td>quyi01</td><td>Yingze</td><td>Qu</td><td>1982</td><td>220</td><td>71</td><td>R</td><td>R</td><td>0</td><td>0</td><td>3184</td><td>498</td><td>820</td><td>170</td><td>7</td><td>186</td><td>526</td><td>29</td><td>17</td><td>465</td><td>2.326</td><td>3731</td><td>1564</td><td>0.628</td><td>0.418</td><td>1.053</td><td>0.364</td><td>2008</td><td>2015</td><td>8</td></tr>\n",
       "\t<tr><th scope=row>14</th><td>moataba01</td><td>Babak</td><td>Moatamed</td><td>1976</td><td>191</td><td>76</td><td>L</td><td>R</td><td>0</td><td>0</td><td>1227</td><td>165</td><td>327</td><td>56</td><td>3</td><td>32</td><td>138</td><td>25</td><td>7</td><td>118</td><td>1.673</td><td>1367</td><td>485</td><td>0.453</td><td>0.368</td><td>0.821</td><td>0.378</td><td>2003</td><td>2005</td><td>2</td></tr>\n",
       "\t<tr><th scope=row>15</th><td>oberoav01</td><td>Avneet</td><td>Oberoi</td><td>1985</td><td>191</td><td>75</td><td>L</td><td>L</td><td>0</td><td>0</td><td>993</td><td>133</td><td>243</td><td>45</td><td>14</td><td>17</td><td>100</td><td>22</td><td>10</td><td>69</td><td>1.358</td><td>1081</td><td>366</td><td>0.434</td><td>0.326</td><td>0.759</td><td>0.35</td><td>2009</td><td>2012</td><td>4</td></tr>\n",
       "\t<tr><th scope=row>16</th><td>guoya01</td><td>Yang</td><td>Guo</td><td>1980</td><td>174</td><td>70</td><td>B</td><td>R</td><td>0</td><td>0</td><td>2435</td><td>296</td><td>593</td><td>84</td><td>17</td><td>30</td><td>215</td><td>31</td><td>15</td><td>204</td><td>3.037</td><td>2793</td><td>802</td><td>0.459</td><td>0.417</td><td>0.874</td><td>0.333</td><td>2004</td><td>2013</td><td>13</td></tr>\n",
       "\t<tr><th scope=row>17</th><td>liyo01</td><td>Youfu</td><td>Li</td><td>1986</td><td>191</td><td>70</td><td>R</td><td>R</td><td>0</td><td>0</td><td>1471</td><td>217</td><td>355</td><td>76</td><td>7</td><td>48</td><td>169</td><td>43</td><td>15</td><td>155</td><td>0.717</td><td>1668</td><td>586</td><td>0.413</td><td>0.342</td><td>0.756</td><td>0.277</td><td>2014</td><td>2013</td><td>1</td></tr>\n",
       "\t<tr><th scope=row>18</th><td>zhuyu01</td><td>Yunwen</td><td>Zhu</td><td>1982</td><td>276</td><td>77</td><td>B</td><td>R</td><td>0</td><td>0</td><td>694</td><td>75</td><td>165</td><td>27</td><td>3</td><td>25</td><td>72</td><td>0</td><td>0</td><td>9</td><td>2.461</td><td>745</td><td>268</td><td>0.556</td><td>0.348</td><td>0.894</td><td>0.433</td><td>2002</td><td>2012</td><td>10</td></tr>\n",
       "\t<tr><th scope=row>19</th><td>heyu01</td><td>Yunzhong</td><td>He</td><td>1978</td><td>180</td><td>70</td><td>L</td><td>L</td><td>0</td><td>0</td><td>7526</td><td>1075</td><td>2217</td><td>254</td><td>95</td><td>17</td><td>518</td><td>615</td><td>204</td><td>465</td><td>4.111</td><td>8278</td><td>2713</td><td>0.418</td><td>0.379</td><td>0.796</td><td>0.341</td><td>2001</td><td>2012</td><td>12</td></tr>\n",
       "\t<tr><th scope=row>20</th><td>tanpa01</td><td>Patrick</td><td>Tan</td><td>1985</td><td>195</td><td>73</td><td>L</td><td>L</td><td>0</td><td>0</td><td>1953</td><td>278</td><td>525</td><td>103</td><td>22</td><td>39</td><td>189</td><td>80</td><td>37</td><td>165</td><td>2.197</td><td>2177</td><td>788</td><td>0.534</td><td>0.4</td><td>0.928</td><td>0.404</td><td>2008</td><td>2015</td><td>7</td></tr>\n",
       "\t<tr><th scope=row>21</th><td>zhoupe01</td><td>Peipei</td><td>Zhou</td><td>1983</td><td>220</td><td>75</td><td>R</td><td>R</td><td>0</td><td>0</td><td>4753</td><td>672</td><td>1349</td><td>247</td><td>45</td><td>185</td><td>689</td><td>103</td><td>49</td><td>380</td><td>2.837</td><td>5183</td><td>2242</td><td>0.556</td><td>0.392</td><td>0.958</td><td>0.379</td><td>2009</td><td>2015</td><td>7</td></tr>\n",
       "\t<tr><th scope=row>22</th><td>weipe01</td><td>Peng</td><td>Wei</td><td>1982</td><td>211</td><td>72</td><td>R</td><td>R</td><td>0</td><td>0</td><td>495</td><td>57</td><td>99</td><td>27</td><td>0</td><td>21</td><td>69</td><td>0</td><td>0</td><td>38</td><td>1.389</td><td>549</td><td>188</td><td>0.809</td><td>0.396</td><td>1.205</td><td>0.407</td><td>2010</td><td>2014</td><td>6</td></tr>\n",
       "\t<tr><th scope=row>23</th><td>sangqi01</td><td>Qi</td><td>Sang</td><td>1979</td><td>185</td><td>71</td><td>B</td><td>R</td><td>0</td><td>0</td><td>5359</td><td>813</td><td>1448</td><td>275</td><td>52</td><td>116</td><td>578</td><td>297</td><td>73</td><td>501</td><td>3.447</td><td>5991</td><td>2178</td><td>0.468</td><td>0.347</td><td>0.808</td><td>0.32</td><td>2003</td><td>2014</td><td>12</td></tr>\n",
       "\t<tr><th scope=row>24</th><td>zhangyu01</td><td>Yu</td><td>Zhang</td><td>1982</td><td>169</td><td>74</td><td>B</td><td>R</td><td>0</td><td>0</td><td>662</td><td>90</td><td>160</td><td>32</td><td>15</td><td>8</td><td>71</td><td>30</td><td>10</td><td>39</td><td>0.97</td><td>717</td><td>242</td><td>0.636</td><td>0.387</td><td>1.021</td><td>0.377</td><td>2008</td><td>2009</td><td>3</td></tr>\n",
       "\t<tr><th scope=row>25</th><td>zhangyu01</td><td>Yutong</td><td>Zhang</td><td>1984</td><td>196</td><td>71</td><td>R</td><td>R</td><td>0</td><td>0</td><td>950</td><td>96</td><td>226</td><td>47</td><td>6</td><td>3</td><td>91</td><td>3</td><td>4</td><td>44</td><td>1.951</td><td>1024</td><td>299</td><td>0.531</td><td>0.404</td><td>0.93</td><td>0.381</td><td>2010</td><td>2012</td><td>3</td></tr>\n",
       "\t<tr><th scope=row>26</th><td>jadhama01</td><td>Mansee</td><td>Jadhav</td><td>1985</td><td>199</td><td>73</td><td>L</td><td>L</td><td>0</td><td>0</td><td>1323</td><td>159</td><td>311</td><td>56</td><td>9</td><td>28</td><td>122</td><td>60</td><td>11</td><td>120</td><td>2.025</td><td>1479</td><td>467</td><td>0.714</td><td>0.443</td><td>1.162</td><td>0.359</td><td>2011</td><td>2014</td><td>1</td></tr>\n",
       "\t<tr><th scope=row>27</th><td>yaoch01</td><td>Chunnan</td><td>Yao</td><td>1983</td><td>221</td><td>72</td><td>R</td><td>R</td><td>0</td><td>0</td><td>4570</td><td>452</td><td>1298</td><td>248</td><td>3</td><td>96</td><td>583</td><td>40</td><td>27</td><td>355</td><td>3.071</td><td>5046</td><td>1839</td><td>0.501</td><td>0.373</td><td>0.876</td><td>0.338</td><td>2005</td><td>2014</td><td>11</td></tr>\n",
       "\t<tr><th scope=row>28</th><td>alladya01</td><td>Yashaswi</td><td>Alladi</td><td>1983</td><td>185</td><td>71</td><td>R</td><td>R</td><td>0</td><td>0</td><td>128</td><td>16</td><td>21</td><td>3</td><td>0</td><td>4</td><td>10</td><td>0</td><td>2</td><td>7</td><td>0.464</td><td>139</td><td>32</td><td>0.447</td><td>0.212</td><td>0.551</td><td>0.22</td><td>2009</td><td>2009</td><td>2</td></tr>\n",
       "\t<tr><th scope=row>29</th><td>correre01</td><td>Rebecca</td><td>Correia</td><td>1986</td><td>195</td><td>71</td><td>L</td><td>R</td><td>0</td><td>0</td><td>1805</td><td>246</td><td>493</td><td>109</td><td>17</td><td>31</td><td>158</td><td>34</td><td>19</td><td>172</td><td>1.511</td><td>2013</td><td>728</td><td>0.462</td><td>0.389</td><td>0.844</td><td>0.361</td><td>2011</td><td>2014</td><td>5</td></tr>\n",
       "\t<tr><th scope=row>30</th><td>hongda01</td><td>David</td><td>Hong</td><td>1978</td><td>178</td><td>68</td><td>R</td><td>R</td><td>0</td><td>0</td><td>448</td><td>69</td><td>108</td><td>16</td><td>1</td><td>15</td><td>51</td><td>7</td><td>0</td><td>36</td><td>0.854</td><td>498</td><td>171</td><td>0.491</td><td>0.312</td><td>0.809</td><td>0.288</td><td>2002</td><td>2002</td><td>2</td></tr>\n",
       "\t<tr><th scope=row>31</th><td>jiangka01</td><td>Kai</td><td>Jiang</td><td>1981</td><td>219</td><td>71</td><td>R</td><td>R</td><td>0</td><td>0</td><td>1615</td><td>208</td><td>362</td><td>91</td><td>1</td><td>71</td><td>217</td><td>0</td><td>0</td><td>156</td><td>2</td><td>1854</td><td>666</td><td>0.517</td><td>0.346</td><td>0.865</td><td>0.407</td><td>2005</td><td>2014</td><td>9</td></tr>\n",
       "\t<tr><th scope=row>32</th><td>zhouyu01</td><td>Yuyang</td><td>Zhou</td><td>1977</td><td>244</td><td>71</td><td>R</td><td>R</td><td>0</td><td>0</td><td>4957</td><td>671</td><td>1377</td><td>281</td><td>35</td><td>132</td><td>617</td><td>55</td><td>31</td><td>343</td><td>4.213</td><td>5449</td><td>2118</td><td>0.518</td><td>0.403</td><td>0.841</td><td>0.399</td><td>2002</td><td>2013</td><td>11</td></tr>\n",
       "\t<tr><th scope=row>33</th><td>buonoch01</td><td>Chris</td><td>Buonocore</td><td>1976</td><td>236</td><td>76</td><td>R</td><td>R</td><td>0</td><td>0</td><td>5502</td><td>768</td><td>1392</td><td>298</td><td>17</td><td>293</td><td>975</td><td>8</td><td>2</td><td>933</td><td>3.26</td><td>6521</td><td>2600</td><td>0.544</td><td>0.399</td><td>0.925</td><td>0.345</td><td>2002</td><td>2010</td><td>12</td></tr>\n",
       "\t<tr><th scope=row>34</th><td>zhuanzh01</td><td>Zhiming</td><td>Zhuang</td><td>1985</td><td>186</td><td>74</td><td>R</td><td>R</td><td>0</td><td>0</td><td>4479</td><td>636</td><td>1089</td><td>236</td><td>24</td><td>139</td><td>509</td><td>265</td><td>80</td><td>531</td><td>2.451</td><td>5089</td><td>1792</td><td>0.508</td><td>0.389</td><td>0.889</td><td>0.393</td><td>2006</td><td>2013</td><td>7</td></tr>\n",
       "\t<tr><th scope=row>35</th><td>zhangxi01</td><td>Xiaobang</td><td>Zhang</td><td>1975</td><td>185</td><td>74</td><td>L</td><td>L</td><td>0</td><td>0</td><td>900</td><td>133</td><td>228</td><td>57</td><td>5</td><td>34</td><td>123</td><td>17</td><td>19</td><td>82</td><td>1.221</td><td>1005</td><td>399</td><td>0.567</td><td>0.338</td><td>0.89</td><td>0.305</td><td>2001</td><td>2003</td><td>3</td></tr>\n",
       "\t<tr><th scope=row>36</th><td>chenti01</td><td>Tianlin</td><td>Chen</td><td>1975</td><td>205</td><td>71</td><td>R</td><td>R</td><td>0</td><td>0</td><td>1610</td><td>165</td><td>432</td><td>85</td><td>2</td><td>47</td><td>199</td><td>7</td><td>5</td><td>66</td><td>1.042</td><td>1723</td><td>660</td><td>0.452</td><td>0.332</td><td>0.783</td><td>0.288</td><td>2007</td><td>2009</td><td>5</td></tr>\n",
       "\t<tr><th scope=row>37</th><td>fengju01</td><td>Jun</td><td>Feng</td><td>1983</td><td>230</td><td>74</td><td>L</td><td>R</td><td>0</td><td>0</td><td>4357</td><td>522</td><td>1184</td><td>241</td><td>4</td><td>200</td><td>737</td><td>23</td><td>9</td><td>446</td><td>2.72</td><td>4891</td><td>2030</td><td>0.572</td><td>0.385</td><td>0.96</td><td>0.332</td><td>2005</td><td>2014</td><td>8</td></tr>\n",
       "\t<tr><th scope=row>38</th><td>guoda01</td><td>Danfeng</td><td>Guo</td><td>1986</td><td>196</td><td>73</td><td>L</td><td>L</td><td>0</td><td>0</td><td>2738</td><td>408</td><td>671</td><td>142</td><td>17</td><td>117</td><td>353</td><td>28</td><td>14</td><td>262</td><td>1.658</td><td>3040</td><td>1197</td><td>0.506</td><td>0.358</td><td>0.863</td><td>0.356</td><td>2009</td><td>2014</td><td>7</td></tr>\n",
       "\t<tr><th scope=row>39</th><td>niulo01</td><td>Longjia</td><td>Niu</td><td>1988</td><td>185</td><td>71</td><td>R</td><td>R</td><td>0</td><td>0</td><td>69</td><td>6</td><td>20</td><td>1</td><td>0</td><td>0</td><td>9</td><td>0</td><td>0</td><td>4</td><td>1.317</td><td>82</td><td>21</td><td>0.67</td><td>0.668</td><td>1.326</td><td>0.667</td><td>2011</td><td>2013</td><td>2</td></tr>\n",
       "\t<tr><th scope=row>40</th><td>wongnpi01</td><td>Piraya</td><td>Wongnimmarn</td><td>1978</td><td>186</td><td>73</td><td>L</td><td>L</td><td>0</td><td>0</td><td>704</td><td>80</td><td>174</td><td>33</td><td>8</td><td>26</td><td>100</td><td>7</td><td>7</td><td>83</td><td>0.958</td><td>804</td><td>294</td><td>0.458</td><td>0.348</td><td>0.798</td><td>0.287</td><td>2004</td><td>2007</td><td>3</td></tr>\n",
       "\t<tr><th scope=row>41</th><td>wangbi01</td><td>Bingling</td><td>Wang</td><td>1981</td><td>214</td><td>74</td><td>B</td><td>R</td><td>0</td><td>0</td><td>6156</td><td>999</td><td>1682</td><td>370</td><td>19</td><td>363</td><td>1174</td><td>23</td><td>8</td><td>813</td><td>3.792</td><td>7130</td><td>3177</td><td>0.632</td><td>0.445</td><td>1.088</td><td>0.343</td><td>2002</td><td>2014</td><td>13</td></tr>\n",
       "\t<tr><th scope=row>42</th><td>gaoti01</td><td>Tianyun</td><td>Gao</td><td>1975</td><td>229</td><td>77</td><td>R</td><td>R</td><td>0</td><td>0</td><td>2712</td><td>281</td><td>694</td><td>152</td><td>15</td><td>76</td><td>374</td><td>3</td><td>12</td><td>220</td><td>3.279</td><td>3026</td><td>1097</td><td>0.614</td><td>0.39</td><td>0.956</td><td>0.383</td><td>2000</td><td>2010</td><td>12</td></tr>\n",
       "\t<tr><th scope=row>43</th><td>hashese01</td><td>Sepideh</td><td>Hashemzadeh</td><td>1981</td><td>164</td><td>69</td><td>L</td><td>R</td><td>0</td><td>0</td><td>1414</td><td>176</td><td>374</td><td>86</td><td>12</td><td>28</td><td>162</td><td>17</td><td>10</td><td>141</td><td>1.91</td><td>1587</td><td>566</td><td>0.511</td><td>0.598</td><td>0.91</td><td>0.373</td><td>2009</td><td>2011</td><td>3</td></tr>\n",
       "\t<tr><th scope=row>44</th><td>ubaleru01</td><td>Rutuja</td><td>Ubale</td><td>1987</td><td>209</td><td>75</td><td>L</td><td>R</td><td>0</td><td>0</td><td>888</td><td>96</td><td>226</td><td>52</td><td>5</td><td>26</td><td>126</td><td>1</td><td>4</td><td>89</td><td>1.615</td><td>1001</td><td>368</td><td>0.522</td><td>0.412</td><td>0.885</td><td>0.384</td><td>2012</td><td>2014</td><td>4</td></tr>\n",
       "\t<tr><th scope=row>45</th><td>xuji01</td><td>Jie</td><td>Xu</td><td>1986</td><td>226</td><td>74</td><td>R</td><td>R</td><td>0</td><td>0</td><td>4181</td><td>600</td><td>1170</td><td>204</td><td>23</td><td>170</td><td>578</td><td>81</td><td>30</td><td>196</td><td>2.424</td><td>4488</td><td>1929</td><td>0.505</td><td>0.338</td><td>0.845</td><td>0.333</td><td>2009</td><td>2015</td><td>7</td></tr>\n",
       "\t<tr><th scope=row>46</th><td>jainni01</td><td>Nishtha</td><td>Jain</td><td>1981</td><td>196</td><td>68</td><td>R</td><td>R</td><td>0</td><td>0</td><td>2891</td><td>414</td><td>783</td><td>160</td><td>28</td><td>36</td><td>274</td><td>304</td><td>80</td><td>174</td><td>2.612</td><td>3134</td><td>1100</td><td>0.419</td><td>0.363</td><td>0.782</td><td>0.361</td><td>2009</td><td>2015</td><td>6</td></tr>\n",
       "\t<tr><th scope=row>47</th><td>kamalai01</td><td>Aishwarya</td><td>Kamal</td><td>1986</td><td>191</td><td>70</td><td>R</td><td>R</td><td>0</td><td>0</td><td>3300</td><td>548</td><td>987</td><td>199</td><td>37</td><td>128</td><td>461</td><td>144</td><td>49</td><td>444</td><td>1.8</td><td>3820</td><td>1643</td><td>0.557</td><td>0.41</td><td>0.953</td><td>0.376</td><td>2009</td><td>2015</td><td>5</td></tr>\n",
       "\t<tr><th scope=row>48</th><td>limi01</td><td>Mingda</td><td>Li</td><td>1983</td><td>199</td><td>75</td><td>L</td><td>L</td><td>0</td><td>0</td><td>3875</td><td>636</td><td>1030</td><td>234</td><td>46</td><td>143</td><td>485</td><td>139</td><td>43</td><td>462</td><td>2.536</td><td>4429</td><td>1791</td><td>0.533</td><td>0.391</td><td>0.91</td><td>0.339</td><td>2005</td><td>2014</td><td>9</td></tr>\n",
       "\t<tr><th scope=row>49</th><td>luzh01</td><td>Zhaoyu</td><td>Lu</td><td>1984</td><td>194</td><td>69</td><td>B</td><td>R</td><td>0</td><td>0</td><td>2193</td><td>257</td><td>545</td><td>104</td><td>18</td><td>28</td><td>190</td><td>77</td><td>26</td><td>204</td><td>1.746</td><td>2454</td><td>767</td><td>0.417</td><td>0.342</td><td>0.76</td><td>0.343</td><td>2011</td><td>2015</td><td>6</td></tr>\n",
       "\t<tr><th scope=row>50</th><td>woodal01</td><td>Alexander</td><td>Wood</td><td>1984</td><td>236</td><td>73</td><td>R</td><td>R</td><td>0</td><td>0</td><td>2216</td><td>273</td><td>549</td><td>132</td><td>4</td><td>92</td><td>323</td><td>3</td><td>3</td><td>281</td><td>2.748</td><td>2531</td><td>965</td><td>0.667</td><td>0.433</td><td>1.1</td><td>0.475</td><td>2009</td><td>2015</td><td>8</td></tr>\n",
       "\t<tr><th scope=row>51</th><td>goplasa01</td><td>Sakshi</td><td>Goplani</td><td>1984</td><td>191</td><td>71</td><td>L</td><td>L</td><td>0</td><td>0</td><td>1024</td><td>113</td><td>264</td><td>39</td><td>17</td><td>22</td><td>80</td><td>26</td><td>17</td><td>54</td><td>1.587</td><td>1092</td><td>404</td><td>0.461</td><td>0.338</td><td>0.804</td><td>0.4</td><td>2013</td><td>2012</td><td>2</td></tr>\n",
       "\t<tr><th scope=row>52</th><td>chiuhs01</td><td>Hsin</td><td>Chiu</td><td>1980</td><td>191</td><td>72</td><td>L</td><td>L</td><td>0</td><td>0</td><td>261</td><td>39</td><td>73</td><td>19</td><td>0</td><td>12</td><td>35</td><td>2</td><td>3</td><td>19</td><td>0.778</td><td>286</td><td>127</td><td>0.564</td><td>0.374</td><td>0.933</td><td>0.35</td><td>2006</td><td>2007</td><td>2</td></tr>\n",
       "\t<tr><th scope=row>53</th><td>gengda01</td><td>Daniel</td><td>Geng</td><td>1990</td><td>194</td><td>73</td><td>R</td><td>R</td><td>0</td><td>0</td><td>1313</td><td>138</td><td>331</td><td>54</td><td>13</td><td>28</td><td>125</td><td>11</td><td>11</td><td>85</td><td>0.781</td><td>1417</td><td>488</td><td>0.415</td><td>0.336</td><td>0.751</td><td>0.312</td><td>2014</td><td>2015</td><td>1</td></tr>\n",
       "\t<tr><th scope=row>54</th><td>kotkapa01</td><td>Pallavi</td><td>Kotkar</td><td>1981</td><td>225</td><td>75</td><td>B</td><td>R</td><td>0</td><td>0</td><td>503</td><td>64</td><td>116</td><td>21</td><td>2</td><td>9</td><td>37</td><td>9</td><td>0</td><td>45</td><td>1.307</td><td>558</td><td>169</td><td>0.455</td><td>0.354</td><td>0.811</td><td>0.371</td><td>2006</td><td>2006</td><td>1</td></tr>\n",
       "\t<tr><th scope=row>55</th><td>nerkaas01</td><td>Ashish</td><td>Nerkar</td><td>1977</td><td>234</td><td>73</td><td>L</td><td>R</td><td>0</td><td>0</td><td>330</td><td>17</td><td>68</td><td>14</td><td>0</td><td>3</td><td>27</td><td>0</td><td>0</td><td>20</td><td>1.398</td><td>378</td><td>89</td><td>0.529</td><td>0.346</td><td>0.849</td><td>0.388</td><td>2002</td><td>2010</td><td>8</td></tr>\n",
       "\t<tr><th scope=row>56</th><td>renqi01</td><td>Qing</td><td>Ren</td><td>1983</td><td>189</td><td>71</td><td>R</td><td>R</td><td>0</td><td>0</td><td>1011</td><td>132</td><td>266</td><td>54</td><td>7</td><td>16</td><td>111</td><td>35</td><td>12</td><td>44</td><td>1.115</td><td>1076</td><td>380</td><td>0.447</td><td>0.4</td><td>0.855</td><td>0.615</td><td>2005</td><td>2010</td><td>5</td></tr>\n",
       "\t<tr><th scope=row>57</th><td>shahma01</td><td>Mansi</td><td>Shah</td><td>1979</td><td>229</td><td>74</td><td>R</td><td>R</td><td>0</td><td>0</td><td>3911</td><td>563</td><td>989</td><td>217</td><td>15</td><td>195</td><td>633</td><td>34</td><td>10</td><td>554</td><td>2.972</td><td>4616</td><td>1820</td><td>0.524</td><td>0.407</td><td>0.884</td><td>0.39</td><td>2005</td><td>2015</td><td>8</td></tr>\n",
       "\t<tr><th scope=row>58</th><td>sharmsu01</td><td>Suket</td><td>Sharma</td><td>1977</td><td>235</td><td>74</td><td>L</td><td>R</td><td>0</td><td>0</td><td>6635</td><td>755</td><td>1868</td><td>368</td><td>22</td><td>176</td><td>836</td><td>15</td><td>22</td><td>282</td><td>5.055</td><td>7118</td><td>2812</td><td>0.501</td><td>0.384</td><td>0.827</td><td>0.344</td><td>2000</td><td>2015</td><td>15</td></tr>\n",
       "\t<tr><th scope=row>59</th><td>yueyu01</td><td>Yuguang</td><td>Yue</td><td>1987</td><td>200</td><td>71</td><td>L</td><td>L</td><td>0</td><td>0</td><td>2778</td><td>347</td><td>760</td><td>145</td><td>33</td><td>43</td><td>260</td><td>54</td><td>34</td><td>205</td><td>1.9</td><td>3045</td><td>1097</td><td>0.425</td><td>0.358</td><td>0.791</td><td>0.348</td><td>2010</td><td>2013</td><td>6</td></tr>\n",
       "\t<tr><th scope=row>60</th><td>lyuxi01</td><td>Xiangning</td><td>Lyu</td><td>1985</td><td>221</td><td>73</td><td>R</td><td>R</td><td>0</td><td>0</td><td>1442</td><td>148</td><td>379</td><td>83</td><td>7</td><td>38</td><td>185</td><td>6</td><td>9</td><td>84</td><td>1.721</td><td>1545</td><td>582</td><td>0.553</td><td>0.349</td><td>0.887</td><td>0.354</td><td>2010</td><td>2014</td><td>3</td></tr>\n",
       "\t<tr><th scope=row>61</th><td>zhouta01</td><td>Tao</td><td>Zhou</td><td>1979</td><td>215</td><td>76</td><td>R</td><td>R</td><td>0</td><td>0</td><td>22</td><td>2</td><td>1</td><td>2</td><td>0</td><td>2</td><td>1</td><td>0</td><td>0</td><td>4</td><td>0.268</td><td>29</td><td>7</td><td>0.5</td><td>0.252</td><td>0.722</td><td>0.251</td><td>2005</td><td>2007</td><td>1</td></tr>\n",
       "\t<tr><th scope=row>62</th><td>wangji01</td><td>Jin</td><td>Wang</td><td>1984</td><td>204</td><td>71</td><td>B</td><td>R</td><td>0</td><td>0</td><td>1219</td><td>136</td><td>316</td><td>69</td><td>2</td><td>32</td><td>156</td><td>8</td><td>4</td><td>141</td><td>1.628</td><td>1391</td><td>487</td><td>0.45</td><td>0.445</td><td>0.898</td><td>0.365</td><td>2006</td><td>2010</td><td>4</td></tr>\n",
       "\t<tr><th scope=row>63</th><td>leeja01</td><td>Jamie</td><td>Lee</td><td>1977</td><td>201</td><td>72</td><td>R</td><td>R</td><td>0</td><td>0</td><td>4889</td><td>564</td><td>1294</td><td>244</td><td>33</td><td>62</td><td>427</td><td>42</td><td>31</td><td>271</td><td>3.515</td><td>5340</td><td>1789</td><td>0.462</td><td>0.349</td><td>0.798</td><td>0.328</td><td>2002</td><td>2013</td><td>12</td></tr>\n",
       "\t<tr><th scope=row>64</th><td>liji01</td><td>Jiayu</td><td>Li</td><td>1983</td><td>201</td><td>73</td><td>L</td><td>R</td><td>0</td><td>0</td><td>3930</td><td>568</td><td>984</td><td>206</td><td>39</td><td>130</td><td>468</td><td>81</td><td>34</td><td>468</td><td>2.836</td><td>4469</td><td>1662</td><td>0.496</td><td>0.373</td><td>0.87</td><td>0.343</td><td>2007</td><td>2013</td><td>8</td></tr>\n",
       "\t<tr><th scope=row>65</th><td>mishrso01</td><td>Sonu</td><td>Mishra</td><td>1979</td><td>200</td><td>71</td><td>L</td><td>L</td><td>0</td><td>0</td><td>1110</td><td>150</td><td>253</td><td>44</td><td>16</td><td>30</td><td>116</td><td>55</td><td>14</td><td>47</td><td>2.768</td><td>1185</td><td>422</td><td>0.603</td><td>0.336</td><td>0.927</td><td>0.343</td><td>2000</td><td>2012</td><td>13</td></tr>\n",
       "\t<tr><th scope=row>66</th><td>pangfa01</td><td>Fan</td><td>Pang</td><td>1975</td><td>180</td><td>74</td><td>L</td><td>L</td><td>0</td><td>0</td><td>16</td><td>3</td><td>4</td><td>3</td><td>0</td><td>0</td><td>4</td><td>0</td><td>0</td><td>0</td><td>0.415</td><td>15</td><td>9</td><td>0.667</td><td>0.418</td><td>1.076</td><td>0.558</td><td>2002</td><td>2004</td><td>3</td></tr>\n",
       "\t<tr><th scope=row>67</th><td>sumbaro01</td><td>Ronak</td><td>Sumbaly</td><td>1978</td><td>199</td><td>70</td><td>L</td><td>R</td><td>0</td><td>0</td><td>1544</td><td>221</td><td>412</td><td>74</td><td>22</td><td>16</td><td>117</td><td>31</td><td>16</td><td>184</td><td>1.16</td><td>1754</td><td>578</td><td>0.411</td><td>0.357</td><td>0.765</td><td>0.357</td><td>2008</td><td>2010</td><td>5</td></tr>\n",
       "\t<tr><th scope=row>68</th><td>jiangpe01</td><td>Pei</td><td>Jiang</td><td>1990</td><td>214</td><td>77</td><td>R</td><td>R</td><td>0</td><td>0</td><td>75</td><td>1</td><td>11</td><td>4</td><td>0</td><td>0</td><td>6</td><td>0</td><td>0</td><td>0</td><td>0.42</td><td>86</td><td>14</td><td>0.442</td><td>0.331</td><td>0.769</td><td>0.549</td><td>2012</td><td>2013</td><td>2</td></tr>\n",
       "\t<tr><th scope=row>69</th><td>shenyu01</td><td>Yujia</td><td>Shen</td><td>1980</td><td>219</td><td>73</td><td>L</td><td>L</td><td>0</td><td>0</td><td>187</td><td>11</td><td>32</td><td>7</td><td>0</td><td>1</td><td>13</td><td>0</td><td>0</td><td>7</td><td>2.129</td><td>214</td><td>41</td><td>2</td><td>0.606</td><td>1.499</td><td>0.757</td><td>2014</td><td>2015</td><td>3</td></tr>\n",
       "\t<tr><th scope=row>70</th><td>buzh01</td><td>Zhaoxing</td><td>Bu</td><td>1987</td><td>209</td><td>74</td><td>R</td><td>R</td><td>0</td><td>0</td><td>798</td><td>92</td><td>192</td><td>36</td><td>4</td><td>17</td><td>76</td><td>16</td><td>16</td><td>41</td><td>0.697</td><td>864</td><td>291</td><td>0.429</td><td>0.29</td><td>0.723</td><td>0.362</td><td>2012</td><td>2015</td><td>2</td></tr>\n",
       "\t<tr><th scope=row>71</th><td>kanetsa01</td><td>Salil</td><td>Kanetkar</td><td>1981</td><td>206</td><td>72</td><td>L</td><td>R</td><td>0</td><td>0</td><td>884</td><td>125</td><td>218</td><td>47</td><td>7</td><td>16</td><td>112</td><td>16</td><td>5</td><td>85</td><td>1.205</td><td>992</td><td>330</td><td>0.532</td><td>0.358</td><td>0.879</td><td>0.286</td><td>2005</td><td>2007</td><td>2</td></tr>\n",
       "\t<tr><th scope=row>72</th><td>fandi01</td><td>Dijia</td><td>Fan</td><td>1980</td><td>241</td><td>76</td><td>L</td><td>L</td><td>0</td><td>0</td><td>3738</td><td>586</td><td>1092</td><td>226</td><td>25</td><td>191</td><td>677</td><td>51</td><td>15</td><td>343</td><td>2.319</td><td>4168</td><td>1942</td><td>0.628</td><td>0.411</td><td>1.045</td><td>0.39</td><td>2008</td><td>2013</td><td>7</td></tr>\n",
       "\t<tr><th scope=row>73</th><td>huoji01</td><td>Jiaqi</td><td>Huo</td><td>1989</td><td>211</td><td>72</td><td>R</td><td>R</td><td>0</td><td>0</td><td>1554</td><td>207</td><td>427</td><td>80</td><td>14</td><td>18</td><td>123</td><td>48</td><td>28</td><td>128</td><td>1.363</td><td>1723</td><td>590</td><td>0.429</td><td>0.349</td><td>0.771</td><td>0.34</td><td>2011</td><td>2015</td><td>5</td></tr>\n",
       "\t<tr><th scope=row>74</th><td>pawdekh01</td><td>Khyati</td><td>Pawde</td><td>1976</td><td>181</td><td>70</td><td>L</td><td>R</td><td>0</td><td>0</td><td>298</td><td>34</td><td>77</td><td>19</td><td>0</td><td>8</td><td>36</td><td>4</td><td>3</td><td>20</td><td>1.169</td><td>326</td><td>118</td><td>0.754</td><td>0.44</td><td>1.184</td><td>0.42</td><td>2004</td><td>2004</td><td>2</td></tr>\n",
       "\t<tr><th scope=row>75</th><td>shenxi01</td><td>Xin</td><td>Shen</td><td>1981</td><td>211</td><td>74</td><td>R</td><td>R</td><td>0</td><td>0</td><td>2558</td><td>329</td><td>606</td><td>145</td><td>9</td><td>61</td><td>276</td><td>34</td><td>12</td><td>242</td><td>1.811</td><td>2845</td><td>953</td><td>0.453</td><td>0.346</td><td>0.798</td><td>0.306</td><td>2004</td><td>2009</td><td>7</td></tr>\n",
       "\t<tr><th scope=row>76</th><td>weilu01</td><td>Lupei</td><td>Wei</td><td>1988</td><td>260</td><td>76</td><td>L</td><td>R</td><td>0</td><td>0</td><td>909</td><td>110</td><td>257</td><td>55</td><td>4</td><td>33</td><td>132</td><td>4</td><td>4</td><td>54</td><td>0.811</td><td>973</td><td>424</td><td>0.505</td><td>0.335</td><td>0.845</td><td>0.341</td><td>2013</td><td>2015</td><td>2</td></tr>\n",
       "\t<tr><th scope=row>77</th><td>zhangyu01</td><td>Yujing</td><td>Zhang</td><td>1986</td><td>206</td><td>72</td><td>B</td><td>R</td><td>0</td><td>0</td><td>3636</td><td>495</td><td>972</td><td>219</td><td>18</td><td>87</td><td>451</td><td>72</td><td>26</td><td>313</td><td>2.381</td><td>4070</td><td>1488</td><td>0.459</td><td>0.359</td><td>0.799</td><td>0.36</td><td>2007</td><td>2013</td><td>6</td></tr>\n",
       "\t<tr><th scope=row>78</th><td>hsury01</td><td>Ryan</td><td>Hsu</td><td>1975</td><td>206</td><td>73</td><td>R</td><td>R</td><td>0</td><td>0</td><td>59</td><td>5</td><td>15</td><td>5</td><td>0</td><td>0</td><td>3</td><td>0</td><td>0</td><td>4</td><td>0.402</td><td>63</td><td>18</td><td>0.459</td><td>0.415</td><td>0.873</td><td>0.415</td><td>2002</td><td>2000</td><td>2</td></tr>\n",
       "\t<tr><th scope=row>79</th><td>zhouju01</td><td>Jun</td><td>Zhou</td><td>1983</td><td>199</td><td>73</td><td>L</td><td>R</td><td>0</td><td>0</td><td>245</td><td>29</td><td>56</td><td>11</td><td>2</td><td>9</td><td>33</td><td>2</td><td>4</td><td>28</td><td>0.856</td><td>277</td><td>94</td><td>0.443</td><td>0.341</td><td>0.796</td><td>0.366</td><td>2008</td><td>2008</td><td>0</td></tr>\n",
       "\t<tr><th scope=row>80</th><td>zousi01</td><td>Simon</td><td>Zou</td><td>1990</td><td>239</td><td>77</td><td>R</td><td>R</td><td>0</td><td>0</td><td>462</td><td>57</td><td>127</td><td>15</td><td>2</td><td>13</td><td>62</td><td>6</td><td>7</td><td>25</td><td>1.097</td><td>498</td><td>190</td><td>0.445</td><td>0.371</td><td>0.774</td><td>0.405</td><td>2012</td><td>2013</td><td>3</td></tr>\n",
       "\t<tr><th scope=row>81</th><td>sunji01</td><td>Jiajing</td><td>Sun</td><td>1978</td><td>229</td><td>71</td><td>R</td><td>R</td><td>0</td><td>0</td><td>3764</td><td>434</td><td>906</td><td>178</td><td>26</td><td>146</td><td>489</td><td>53</td><td>35</td><td>159</td><td>3.54</td><td>3994</td><td>1568</td><td>0.496</td><td>0.343</td><td>0.821</td><td>0.417</td><td>2002</td><td>2012</td><td>12</td></tr>\n",
       "\t<tr><th scope=row>82</th><td>chauqu01</td><td>Quan</td><td>Chau</td><td>1979</td><td>189</td><td>73</td><td>R</td><td>R</td><td>0</td><td>0</td><td>2927</td><td>398</td><td>836</td><td>170</td><td>6</td><td>100</td><td>489</td><td>7</td><td>5</td><td>292</td><td>2.141</td><td>3272</td><td>1316</td><td>0.554</td><td>0.422</td><td>0.959</td><td>0.36</td><td>2005</td><td>2011</td><td>6</td></tr>\n",
       "\t<tr><th scope=row>83</th><td>leepo01</td><td>Po-Hsuan</td><td>Lee</td><td>1981</td><td>200</td><td>74</td><td>R</td><td>R</td><td>0</td><td>0</td><td>223</td><td>30</td><td>51</td><td>14</td><td>4</td><td>8</td><td>27</td><td>3</td><td>3</td><td>26</td><td>0.648</td><td>254</td><td>93</td><td>0.467</td><td>0.333</td><td>0.78</td><td>0.328</td><td>2007</td><td>2006</td><td>2</td></tr>\n",
       "\t<tr><th scope=row>84</th><td>pandeak01</td><td>Akanksha</td><td>Pandey</td><td>1980</td><td>220</td><td>75</td><td>R</td><td>R</td><td>0</td><td>0</td><td>1722</td><td>232</td><td>460</td><td>106</td><td>16</td><td>52</td><td>227</td><td>14</td><td>1</td><td>131</td><td>3.134</td><td>1879</td><td>748</td><td>0.827</td><td>0.383</td><td>1.196</td><td>0.423</td><td>2005</td><td>2014</td><td>11</td></tr>\n",
       "\t<tr><th scope=row>85</th><td>rumneke01</td><td>Keith</td><td>Rumney</td><td>1983</td><td>205</td><td>75</td><td>L</td><td>L</td><td>0</td><td>0</td><td>2470</td><td>335</td><td>621</td><td>104</td><td>37</td><td>76</td><td>275</td><td>120</td><td>29</td><td>216</td><td>1.782</td><td>2738</td><td>1021</td><td>0.486</td><td>0.341</td><td>0.789</td><td>0.329</td><td>2012</td><td>2013</td><td>4</td></tr>\n",
       "\t<tr><th scope=row>86</th><td>zhangju01</td><td>Junchi</td><td>Zhang</td><td>1982</td><td>194</td><td>72</td><td>B</td><td>R</td><td>0</td><td>0</td><td>6086</td><td>973</td><td>1771</td><td>312</td><td>116</td><td>111</td><td>567</td><td>456</td><td>112</td><td>468</td><td>3.497</td><td>6631</td><td>2647</td><td>0.495</td><td>0.383</td><td>0.877</td><td>0.353</td><td>2004</td><td>2013</td><td>11</td></tr>\n",
       "\t<tr><th scope=row>87</th><td>zhouzi01</td><td>Zishan</td><td>Zhou</td><td>1979</td><td>190</td><td>72</td><td>L</td><td>L</td><td>0</td><td>0</td><td>1894</td><td>251</td><td>499</td><td>133</td><td>8</td><td>57</td><td>267</td><td>20</td><td>9</td><td>187</td><td>2.291</td><td>2128</td><td>817</td><td>0.526</td><td>0.366</td><td>0.895</td><td>0.393</td><td>2005</td><td>2009</td><td>7</td></tr>\n",
       "\t<tr><th scope=row>88</th><td>fangge01</td><td>George</td><td>Fang</td><td>1976</td><td>194</td><td>74</td><td>R</td><td>R</td><td>0</td><td>0</td><td>520</td><td>61</td><td>128</td><td>32</td><td>6</td><td>16</td><td>66</td><td>2</td><td>3</td><td>56</td><td>1.172</td><td>587</td><td>221</td><td>0.488</td><td>0.393</td><td>0.882</td><td>0.388</td><td>2001</td><td>2002</td><td>4</td></tr>\n",
       "\t<tr><th scope=row>89</th><td>liju01</td><td>Jun</td><td>Li</td><td>1980</td><td>199</td><td>72</td><td>L</td><td>R</td><td>0</td><td>0</td><td>5003</td><td>854</td><td>1284</td><td>226</td><td>83</td><td>238</td><td>671</td><td>131</td><td>37</td><td>594</td><td>2.8</td><td>5697</td><td>2385</td><td>0.555</td><td>0.363</td><td>0.916</td><td>0.36</td><td>2005</td><td>2013</td><td>8</td></tr>\n",
       "\t<tr><th scope=row>90</th><td>shindak01</td><td>Akshay</td><td>Shinde</td><td>1980</td><td>209</td><td>73</td><td>L</td><td>R</td><td>0</td><td>0</td><td>1651</td><td>168</td><td>382</td><td>94</td><td>4</td><td>30</td><td>174</td><td>7</td><td>3</td><td>192</td><td>1.833</td><td>1876</td><td>572</td><td>0.42</td><td>0.371</td><td>0.801</td><td>0.356</td><td>2007</td><td>2015</td><td>8</td></tr>\n",
       "\t<tr><th scope=row>91</th><td>zhouyi01</td><td>Yichao</td><td>Zhou</td><td>1981</td><td>216</td><td>76</td><td>R</td><td>R</td><td>0</td><td>0</td><td>385</td><td>64</td><td>85</td><td>19</td><td>3</td><td>8</td><td>34</td><td>17</td><td>8</td><td>22</td><td>0.719</td><td>420</td><td>136</td><td>0.505</td><td>0.339</td><td>0.856</td><td>0.484</td><td>2006</td><td>2006</td><td>2</td></tr>\n",
       "\t<tr><th scope=row>92</th><td>chenje01</td><td>Jeffrey</td><td>Chen</td><td>1976</td><td>231</td><td>74</td><td>R</td><td>R</td><td>0</td><td>0</td><td>485</td><td>50</td><td>108</td><td>18</td><td>2</td><td>16</td><td>72</td><td>2</td><td>3</td><td>55</td><td>1.341</td><td>553</td><td>174</td><td>0.462</td><td>0.333</td><td>0.77</td><td>0.4</td><td>2005</td><td>2006</td><td>4</td></tr>\n",
       "\t<tr><th scope=row>93</th><td>songsh01</td><td>Shuo</td><td>Song</td><td>1983</td><td>189</td><td>73</td><td>R</td><td>R</td><td>0</td><td>0</td><td>1234</td><td>132</td><td>321</td><td>57</td><td>6</td><td>14</td><td>111</td><td>6</td><td>4</td><td>62</td><td>1.705</td><td>1351</td><td>433</td><td>0.455</td><td>0.383</td><td>0.827</td><td>0.366</td><td>2007</td><td>2014</td><td>8</td></tr>\n",
       "\t<tr><th scope=row>94</th><td>chenwe01</td><td>Wei-Ting</td><td>Chen</td><td>1980</td><td>200</td><td>73</td><td>R</td><td>R</td><td>0</td><td>0</td><td>1562</td><td>221</td><td>423</td><td>87</td><td>13</td><td>43</td><td>219</td><td>30</td><td>20</td><td>173</td><td>2.139</td><td>1770</td><td>659</td><td>0.505</td><td>0.5</td><td>0</td><td>0.663</td><td>2007</td><td>2012</td><td>5</td></tr>\n",
       "</tbody>\n",
       "</table>\n"
      ],
      "text/latex": [
       "\\begin{tabular}{r|llllllllllllllllllllllllllllll}\n",
       "  & playerID & nameFirst & nameLast & birthYear & weight & height & bats & throws & HallOfFameYear & HallOfFame & AB & R & H & X2B & X3B & HR & RBI & SB & CS & BB & BA & PA & TB & SlugPct & OBP & OPS & BABIP & startYear & endYear & totalYears\\\\\n",
       "\\hline\n",
       "\t1 & fornean01 & Andrew & Forney & 1982 & 234 & 72 & R & R & 0 & 0 & 32 & 3 & 5 & 0 & 0 & 1 & 2 & 0 & 0 & 0 & 0.263 & 35 & 11 & 0.437 & 0.261 & 0.696 & 0.33 & 2007 & 2013 & 6\\\\\n",
       "\t2 & mokasta01 & Tanaya & Mokashi & 1991 & 226 & 76 & L & R & 0 & 0 & 1309 & 211 & 357 & 61 & 13 & 56 & 149 & 30 & 13 & 154 & 0.813 & 1490 & 608 & 0.486 & 0.371 & 0.854 & 0.351 & 2012 & 2013 & 3\\\\\n",
       "\t3 & shahma01 & Mauli & Shah & 1987 & 204 & 74 & R & R & 0 & 0 & 958 & 90 & 270 & 57 & 3 & 7 & 106 & 7 & 3 & 43 & 1.346 & 1021 & 360 & 0.421 & 0.341 & 0.762 & 0.341 & 2013 & 2013 & 4\\\\\n",
       "\t4 & vahabar01 & Arash & Vahabpour & 1983 & 226 & 75 & L & L & 0 & 0 & 389 & 42 & 95 & 13 & 7 & 9 & 40 & 0 & 2 & 21 & 1.786 & 448 & 146 & 0.642 & 0.4 & 1.029 & 0.425 & 2002 & 2011 & 9\\\\\n",
       "\t5 & wenigbr01 & Brooke & Wenig & 1983 & 194 & 73 & L & L & 0 & 0 & 3408 & 430 & 932 & 197 & 12 & 146 & 520 & 7 & 5 & 274 & 2.544 & 3727 & 1590 & 0.597 & 0.412 & 1.015 & 0.431 & 2008 & 2015 & 6\\\\\n",
       "\t6 & wangha01 & Haoying & Wang & 1975 & 191 & 72 & L & L & 0 & 0 & 1674 & 194 & 469 & 93 & 10 & 34 & 222 & 11 & 8 & 106 & 2.602 & 1818 & 684 & 0.484 & 0.378 & 0.856 & 0.351 & 2005 & 2011 & 9\\\\\n",
       "\t7 & zhangzi01 & Zihao & Zhang & 1988 & 216 & 74 & R & R & 0 & 0 & 1262 & 123 & 295 & 48 & 1 & 42 & 153 & 0 & 3 & 66 & 0.984 & 1357 & 472 & 0.48 & 0.31 & 0.787 & 0.301 & 2014 & 2014 & 1\\\\\n",
       "\t8 & lyuha01 & Hanci & Lyu & 1979 & 186 & 72 & R & R & 0 & 0 & 387 & 52 & 101 & 13 & 4 & 13 & 52 & 4 & 2 & 42 & 1.044 & 439 & 160 & 0.577 & 0.39 & 0.976 & 0.393 & 2001 & 2006 & 7\\\\\n",
       "\t9 & shettpu01 & Punit & Shetty & 1988 & 229 & 73 & L & R & 0 & 0 & 1268 & 118 & 342 & 76 & 2 & 26 & 152 & 16 & 1 & 121 & 1.33 & 1410 & 501 & 0.547 & 0.398 & 0.945 & 0.385 & 2013 & 2013 & 2\\\\\n",
       "\t10 & harrikr01 & Kristina & Harris & 1978 & 194 & 74 & R & R & 0 & 0 & 2692 & 369 & 677 & 147 & 9 & 114 & 434 & 18 & 18 & 189 & 2.261 & 2923 & 1186 & 0.49 & 0.337 & 0.818 & 0.322 & 2003 & 2008 & 5\\\\\n",
       "\t11 & wangha01 & Han & Wang & 1993 & 181 & 74 & R & R & 0 & 0 & 1186 & 149 & 331 & 74 & 5 & 34 & 129 & 11 & 6 & 57 & 0.823 & 1265 & 513 & 0.445 & 0.324 & 0.757 & 0.321 & 2012 & 2013 & 1\\\\\n",
       "\t12 & ketenma01 & Mark & Ketenjian & 1991 & 171 & 71 & L & R & 0 & 0 & 654 & 83 & 197 & 41 & 5 & 15 & 76 & 9 & 4 & 32 & 0.616 & 705 & 294 & 0.482 & 0.357 & 0.842 & 0.38 & 2015 & 2015 & 2\\\\\n",
       "\t13 & quyi01 & Yingze & Qu & 1982 & 220 & 71 & R & R & 0 & 0 & 3184 & 498 & 820 & 170 & 7 & 186 & 526 & 29 & 17 & 465 & 2.326 & 3731 & 1564 & 0.628 & 0.418 & 1.053 & 0.364 & 2008 & 2015 & 8\\\\\n",
       "\t14 & moataba01 & Babak & Moatamed & 1976 & 191 & 76 & L & R & 0 & 0 & 1227 & 165 & 327 & 56 & 3 & 32 & 138 & 25 & 7 & 118 & 1.673 & 1367 & 485 & 0.453 & 0.368 & 0.821 & 0.378 & 2003 & 2005 & 2\\\\\n",
       "\t15 & oberoav01 & Avneet & Oberoi & 1985 & 191 & 75 & L & L & 0 & 0 & 993 & 133 & 243 & 45 & 14 & 17 & 100 & 22 & 10 & 69 & 1.358 & 1081 & 366 & 0.434 & 0.326 & 0.759 & 0.35 & 2009 & 2012 & 4\\\\\n",
       "\t16 & guoya01 & Yang & Guo & 1980 & 174 & 70 & B & R & 0 & 0 & 2435 & 296 & 593 & 84 & 17 & 30 & 215 & 31 & 15 & 204 & 3.037 & 2793 & 802 & 0.459 & 0.417 & 0.874 & 0.333 & 2004 & 2013 & 13\\\\\n",
       "\t17 & liyo01 & Youfu & Li & 1986 & 191 & 70 & R & R & 0 & 0 & 1471 & 217 & 355 & 76 & 7 & 48 & 169 & 43 & 15 & 155 & 0.717 & 1668 & 586 & 0.413 & 0.342 & 0.756 & 0.277 & 2014 & 2013 & 1\\\\\n",
       "\t18 & zhuyu01 & Yunwen & Zhu & 1982 & 276 & 77 & B & R & 0 & 0 & 694 & 75 & 165 & 27 & 3 & 25 & 72 & 0 & 0 & 9 & 2.461 & 745 & 268 & 0.556 & 0.348 & 0.894 & 0.433 & 2002 & 2012 & 10\\\\\n",
       "\t19 & heyu01 & Yunzhong & He & 1978 & 180 & 70 & L & L & 0 & 0 & 7526 & 1075 & 2217 & 254 & 95 & 17 & 518 & 615 & 204 & 465 & 4.111 & 8278 & 2713 & 0.418 & 0.379 & 0.796 & 0.341 & 2001 & 2012 & 12\\\\\n",
       "\t20 & tanpa01 & Patrick & Tan & 1985 & 195 & 73 & L & L & 0 & 0 & 1953 & 278 & 525 & 103 & 22 & 39 & 189 & 80 & 37 & 165 & 2.197 & 2177 & 788 & 0.534 & 0.4 & 0.928 & 0.404 & 2008 & 2015 & 7\\\\\n",
       "\t21 & zhoupe01 & Peipei & Zhou & 1983 & 220 & 75 & R & R & 0 & 0 & 4753 & 672 & 1349 & 247 & 45 & 185 & 689 & 103 & 49 & 380 & 2.837 & 5183 & 2242 & 0.556 & 0.392 & 0.958 & 0.379 & 2009 & 2015 & 7\\\\\n",
       "\t22 & weipe01 & Peng & Wei & 1982 & 211 & 72 & R & R & 0 & 0 & 495 & 57 & 99 & 27 & 0 & 21 & 69 & 0 & 0 & 38 & 1.389 & 549 & 188 & 0.809 & 0.396 & 1.205 & 0.407 & 2010 & 2014 & 6\\\\\n",
       "\t23 & sangqi01 & Qi & Sang & 1979 & 185 & 71 & B & R & 0 & 0 & 5359 & 813 & 1448 & 275 & 52 & 116 & 578 & 297 & 73 & 501 & 3.447 & 5991 & 2178 & 0.468 & 0.347 & 0.808 & 0.32 & 2003 & 2014 & 12\\\\\n",
       "\t24 & zhangyu01 & Yu & Zhang & 1982 & 169 & 74 & B & R & 0 & 0 & 662 & 90 & 160 & 32 & 15 & 8 & 71 & 30 & 10 & 39 & 0.97 & 717 & 242 & 0.636 & 0.387 & 1.021 & 0.377 & 2008 & 2009 & 3\\\\\n",
       "\t25 & zhangyu01 & Yutong & Zhang & 1984 & 196 & 71 & R & R & 0 & 0 & 950 & 96 & 226 & 47 & 6 & 3 & 91 & 3 & 4 & 44 & 1.951 & 1024 & 299 & 0.531 & 0.404 & 0.93 & 0.381 & 2010 & 2012 & 3\\\\\n",
       "\t26 & jadhama01 & Mansee & Jadhav & 1985 & 199 & 73 & L & L & 0 & 0 & 1323 & 159 & 311 & 56 & 9 & 28 & 122 & 60 & 11 & 120 & 2.025 & 1479 & 467 & 0.714 & 0.443 & 1.162 & 0.359 & 2011 & 2014 & 1\\\\\n",
       "\t27 & yaoch01 & Chunnan & Yao & 1983 & 221 & 72 & R & R & 0 & 0 & 4570 & 452 & 1298 & 248 & 3 & 96 & 583 & 40 & 27 & 355 & 3.071 & 5046 & 1839 & 0.501 & 0.373 & 0.876 & 0.338 & 2005 & 2014 & 11\\\\\n",
       "\t28 & alladya01 & Yashaswi & Alladi & 1983 & 185 & 71 & R & R & 0 & 0 & 128 & 16 & 21 & 3 & 0 & 4 & 10 & 0 & 2 & 7 & 0.464 & 139 & 32 & 0.447 & 0.212 & 0.551 & 0.22 & 2009 & 2009 & 2\\\\\n",
       "\t29 & correre01 & Rebecca & Correia & 1986 & 195 & 71 & L & R & 0 & 0 & 1805 & 246 & 493 & 109 & 17 & 31 & 158 & 34 & 19 & 172 & 1.511 & 2013 & 728 & 0.462 & 0.389 & 0.844 & 0.361 & 2011 & 2014 & 5\\\\\n",
       "\t30 & hongda01 & David & Hong & 1978 & 178 & 68 & R & R & 0 & 0 & 448 & 69 & 108 & 16 & 1 & 15 & 51 & 7 & 0 & 36 & 0.854 & 498 & 171 & 0.491 & 0.312 & 0.809 & 0.288 & 2002 & 2002 & 2\\\\\n",
       "\t31 & jiangka01 & Kai & Jiang & 1981 & 219 & 71 & R & R & 0 & 0 & 1615 & 208 & 362 & 91 & 1 & 71 & 217 & 0 & 0 & 156 & 2 & 1854 & 666 & 0.517 & 0.346 & 0.865 & 0.407 & 2005 & 2014 & 9\\\\\n",
       "\t32 & zhouyu01 & Yuyang & Zhou & 1977 & 244 & 71 & R & R & 0 & 0 & 4957 & 671 & 1377 & 281 & 35 & 132 & 617 & 55 & 31 & 343 & 4.213 & 5449 & 2118 & 0.518 & 0.403 & 0.841 & 0.399 & 2002 & 2013 & 11\\\\\n",
       "\t33 & buonoch01 & Chris & Buonocore & 1976 & 236 & 76 & R & R & 0 & 0 & 5502 & 768 & 1392 & 298 & 17 & 293 & 975 & 8 & 2 & 933 & 3.26 & 6521 & 2600 & 0.544 & 0.399 & 0.925 & 0.345 & 2002 & 2010 & 12\\\\\n",
       "\t34 & zhuanzh01 & Zhiming & Zhuang & 1985 & 186 & 74 & R & R & 0 & 0 & 4479 & 636 & 1089 & 236 & 24 & 139 & 509 & 265 & 80 & 531 & 2.451 & 5089 & 1792 & 0.508 & 0.389 & 0.889 & 0.393 & 2006 & 2013 & 7\\\\\n",
       "\t35 & zhangxi01 & Xiaobang & Zhang & 1975 & 185 & 74 & L & L & 0 & 0 & 900 & 133 & 228 & 57 & 5 & 34 & 123 & 17 & 19 & 82 & 1.221 & 1005 & 399 & 0.567 & 0.338 & 0.89 & 0.305 & 2001 & 2003 & 3\\\\\n",
       "\t36 & chenti01 & Tianlin & Chen & 1975 & 205 & 71 & R & R & 0 & 0 & 1610 & 165 & 432 & 85 & 2 & 47 & 199 & 7 & 5 & 66 & 1.042 & 1723 & 660 & 0.452 & 0.332 & 0.783 & 0.288 & 2007 & 2009 & 5\\\\\n",
       "\t37 & fengju01 & Jun & Feng & 1983 & 230 & 74 & L & R & 0 & 0 & 4357 & 522 & 1184 & 241 & 4 & 200 & 737 & 23 & 9 & 446 & 2.72 & 4891 & 2030 & 0.572 & 0.385 & 0.96 & 0.332 & 2005 & 2014 & 8\\\\\n",
       "\t38 & guoda01 & Danfeng & Guo & 1986 & 196 & 73 & L & L & 0 & 0 & 2738 & 408 & 671 & 142 & 17 & 117 & 353 & 28 & 14 & 262 & 1.658 & 3040 & 1197 & 0.506 & 0.358 & 0.863 & 0.356 & 2009 & 2014 & 7\\\\\n",
       "\t39 & niulo01 & Longjia & Niu & 1988 & 185 & 71 & R & R & 0 & 0 & 69 & 6 & 20 & 1 & 0 & 0 & 9 & 0 & 0 & 4 & 1.317 & 82 & 21 & 0.67 & 0.668 & 1.326 & 0.667 & 2011 & 2013 & 2\\\\\n",
       "\t40 & wongnpi01 & Piraya & Wongnimmarn & 1978 & 186 & 73 & L & L & 0 & 0 & 704 & 80 & 174 & 33 & 8 & 26 & 100 & 7 & 7 & 83 & 0.958 & 804 & 294 & 0.458 & 0.348 & 0.798 & 0.287 & 2004 & 2007 & 3\\\\\n",
       "\t41 & wangbi01 & Bingling & Wang & 1981 & 214 & 74 & B & R & 0 & 0 & 6156 & 999 & 1682 & 370 & 19 & 363 & 1174 & 23 & 8 & 813 & 3.792 & 7130 & 3177 & 0.632 & 0.445 & 1.088 & 0.343 & 2002 & 2014 & 13\\\\\n",
       "\t42 & gaoti01 & Tianyun & Gao & 1975 & 229 & 77 & R & R & 0 & 0 & 2712 & 281 & 694 & 152 & 15 & 76 & 374 & 3 & 12 & 220 & 3.279 & 3026 & 1097 & 0.614 & 0.39 & 0.956 & 0.383 & 2000 & 2010 & 12\\\\\n",
       "\t43 & hashese01 & Sepideh & Hashemzadeh & 1981 & 164 & 69 & L & R & 0 & 0 & 1414 & 176 & 374 & 86 & 12 & 28 & 162 & 17 & 10 & 141 & 1.91 & 1587 & 566 & 0.511 & 0.598 & 0.91 & 0.373 & 2009 & 2011 & 3\\\\\n",
       "\t44 & ubaleru01 & Rutuja & Ubale & 1987 & 209 & 75 & L & R & 0 & 0 & 888 & 96 & 226 & 52 & 5 & 26 & 126 & 1 & 4 & 89 & 1.615 & 1001 & 368 & 0.522 & 0.412 & 0.885 & 0.384 & 2012 & 2014 & 4\\\\\n",
       "\t45 & xuji01 & Jie & Xu & 1986 & 226 & 74 & R & R & 0 & 0 & 4181 & 600 & 1170 & 204 & 23 & 170 & 578 & 81 & 30 & 196 & 2.424 & 4488 & 1929 & 0.505 & 0.338 & 0.845 & 0.333 & 2009 & 2015 & 7\\\\\n",
       "\t46 & jainni01 & Nishtha & Jain & 1981 & 196 & 68 & R & R & 0 & 0 & 2891 & 414 & 783 & 160 & 28 & 36 & 274 & 304 & 80 & 174 & 2.612 & 3134 & 1100 & 0.419 & 0.363 & 0.782 & 0.361 & 2009 & 2015 & 6\\\\\n",
       "\t47 & kamalai01 & Aishwarya & Kamal & 1986 & 191 & 70 & R & R & 0 & 0 & 3300 & 548 & 987 & 199 & 37 & 128 & 461 & 144 & 49 & 444 & 1.8 & 3820 & 1643 & 0.557 & 0.41 & 0.953 & 0.376 & 2009 & 2015 & 5\\\\\n",
       "\t48 & limi01 & Mingda & Li & 1983 & 199 & 75 & L & L & 0 & 0 & 3875 & 636 & 1030 & 234 & 46 & 143 & 485 & 139 & 43 & 462 & 2.536 & 4429 & 1791 & 0.533 & 0.391 & 0.91 & 0.339 & 2005 & 2014 & 9\\\\\n",
       "\t49 & luzh01 & Zhaoyu & Lu & 1984 & 194 & 69 & B & R & 0 & 0 & 2193 & 257 & 545 & 104 & 18 & 28 & 190 & 77 & 26 & 204 & 1.746 & 2454 & 767 & 0.417 & 0.342 & 0.76 & 0.343 & 2011 & 2015 & 6\\\\\n",
       "\t50 & woodal01 & Alexander & Wood & 1984 & 236 & 73 & R & R & 0 & 0 & 2216 & 273 & 549 & 132 & 4 & 92 & 323 & 3 & 3 & 281 & 2.748 & 2531 & 965 & 0.667 & 0.433 & 1.1 & 0.475 & 2009 & 2015 & 8\\\\\n",
       "\t51 & goplasa01 & Sakshi & Goplani & 1984 & 191 & 71 & L & L & 0 & 0 & 1024 & 113 & 264 & 39 & 17 & 22 & 80 & 26 & 17 & 54 & 1.587 & 1092 & 404 & 0.461 & 0.338 & 0.804 & 0.4 & 2013 & 2012 & 2\\\\\n",
       "\t52 & chiuhs01 & Hsin & Chiu & 1980 & 191 & 72 & L & L & 0 & 0 & 261 & 39 & 73 & 19 & 0 & 12 & 35 & 2 & 3 & 19 & 0.778 & 286 & 127 & 0.564 & 0.374 & 0.933 & 0.35 & 2006 & 2007 & 2\\\\\n",
       "\t53 & gengda01 & Daniel & Geng & 1990 & 194 & 73 & R & R & 0 & 0 & 1313 & 138 & 331 & 54 & 13 & 28 & 125 & 11 & 11 & 85 & 0.781 & 1417 & 488 & 0.415 & 0.336 & 0.751 & 0.312 & 2014 & 2015 & 1\\\\\n",
       "\t54 & kotkapa01 & Pallavi & Kotkar & 1981 & 225 & 75 & B & R & 0 & 0 & 503 & 64 & 116 & 21 & 2 & 9 & 37 & 9 & 0 & 45 & 1.307 & 558 & 169 & 0.455 & 0.354 & 0.811 & 0.371 & 2006 & 2006 & 1\\\\\n",
       "\t55 & nerkaas01 & Ashish & Nerkar & 1977 & 234 & 73 & L & R & 0 & 0 & 330 & 17 & 68 & 14 & 0 & 3 & 27 & 0 & 0 & 20 & 1.398 & 378 & 89 & 0.529 & 0.346 & 0.849 & 0.388 & 2002 & 2010 & 8\\\\\n",
       "\t56 & renqi01 & Qing & Ren & 1983 & 189 & 71 & R & R & 0 & 0 & 1011 & 132 & 266 & 54 & 7 & 16 & 111 & 35 & 12 & 44 & 1.115 & 1076 & 380 & 0.447 & 0.4 & 0.855 & 0.615 & 2005 & 2010 & 5\\\\\n",
       "\t57 & shahma01 & Mansi & Shah & 1979 & 229 & 74 & R & R & 0 & 0 & 3911 & 563 & 989 & 217 & 15 & 195 & 633 & 34 & 10 & 554 & 2.972 & 4616 & 1820 & 0.524 & 0.407 & 0.884 & 0.39 & 2005 & 2015 & 8\\\\\n",
       "\t58 & sharmsu01 & Suket & Sharma & 1977 & 235 & 74 & L & R & 0 & 0 & 6635 & 755 & 1868 & 368 & 22 & 176 & 836 & 15 & 22 & 282 & 5.055 & 7118 & 2812 & 0.501 & 0.384 & 0.827 & 0.344 & 2000 & 2015 & 15\\\\\n",
       "\t59 & yueyu01 & Yuguang & Yue & 1987 & 200 & 71 & L & L & 0 & 0 & 2778 & 347 & 760 & 145 & 33 & 43 & 260 & 54 & 34 & 205 & 1.9 & 3045 & 1097 & 0.425 & 0.358 & 0.791 & 0.348 & 2010 & 2013 & 6\\\\\n",
       "\t60 & lyuxi01 & Xiangning & Lyu & 1985 & 221 & 73 & R & R & 0 & 0 & 1442 & 148 & 379 & 83 & 7 & 38 & 185 & 6 & 9 & 84 & 1.721 & 1545 & 582 & 0.553 & 0.349 & 0.887 & 0.354 & 2010 & 2014 & 3\\\\\n",
       "\t61 & zhouta01 & Tao & Zhou & 1979 & 215 & 76 & R & R & 0 & 0 & 22 & 2 & 1 & 2 & 0 & 2 & 1 & 0 & 0 & 4 & 0.268 & 29 & 7 & 0.5 & 0.252 & 0.722 & 0.251 & 2005 & 2007 & 1\\\\\n",
       "\t62 & wangji01 & Jin & Wang & 1984 & 204 & 71 & B & R & 0 & 0 & 1219 & 136 & 316 & 69 & 2 & 32 & 156 & 8 & 4 & 141 & 1.628 & 1391 & 487 & 0.45 & 0.445 & 0.898 & 0.365 & 2006 & 2010 & 4\\\\\n",
       "\t63 & leeja01 & Jamie & Lee & 1977 & 201 & 72 & R & R & 0 & 0 & 4889 & 564 & 1294 & 244 & 33 & 62 & 427 & 42 & 31 & 271 & 3.515 & 5340 & 1789 & 0.462 & 0.349 & 0.798 & 0.328 & 2002 & 2013 & 12\\\\\n",
       "\t64 & liji01 & Jiayu & Li & 1983 & 201 & 73 & L & R & 0 & 0 & 3930 & 568 & 984 & 206 & 39 & 130 & 468 & 81 & 34 & 468 & 2.836 & 4469 & 1662 & 0.496 & 0.373 & 0.87 & 0.343 & 2007 & 2013 & 8\\\\\n",
       "\t65 & mishrso01 & Sonu & Mishra & 1979 & 200 & 71 & L & L & 0 & 0 & 1110 & 150 & 253 & 44 & 16 & 30 & 116 & 55 & 14 & 47 & 2.768 & 1185 & 422 & 0.603 & 0.336 & 0.927 & 0.343 & 2000 & 2012 & 13\\\\\n",
       "\t66 & pangfa01 & Fan & Pang & 1975 & 180 & 74 & L & L & 0 & 0 & 16 & 3 & 4 & 3 & 0 & 0 & 4 & 0 & 0 & 0 & 0.415 & 15 & 9 & 0.667 & 0.418 & 1.076 & 0.558 & 2002 & 2004 & 3\\\\\n",
       "\t67 & sumbaro01 & Ronak & Sumbaly & 1978 & 199 & 70 & L & R & 0 & 0 & 1544 & 221 & 412 & 74 & 22 & 16 & 117 & 31 & 16 & 184 & 1.16 & 1754 & 578 & 0.411 & 0.357 & 0.765 & 0.357 & 2008 & 2010 & 5\\\\\n",
       "\t68 & jiangpe01 & Pei & Jiang & 1990 & 214 & 77 & R & R & 0 & 0 & 75 & 1 & 11 & 4 & 0 & 0 & 6 & 0 & 0 & 0 & 0.42 & 86 & 14 & 0.442 & 0.331 & 0.769 & 0.549 & 2012 & 2013 & 2\\\\\n",
       "\t69 & shenyu01 & Yujia & Shen & 1980 & 219 & 73 & L & L & 0 & 0 & 187 & 11 & 32 & 7 & 0 & 1 & 13 & 0 & 0 & 7 & 2.129 & 214 & 41 & 2 & 0.606 & 1.499 & 0.757 & 2014 & 2015 & 3\\\\\n",
       "\t70 & buzh01 & Zhaoxing & Bu & 1987 & 209 & 74 & R & R & 0 & 0 & 798 & 92 & 192 & 36 & 4 & 17 & 76 & 16 & 16 & 41 & 0.697 & 864 & 291 & 0.429 & 0.29 & 0.723 & 0.362 & 2012 & 2015 & 2\\\\\n",
       "\t71 & kanetsa01 & Salil & Kanetkar & 1981 & 206 & 72 & L & R & 0 & 0 & 884 & 125 & 218 & 47 & 7 & 16 & 112 & 16 & 5 & 85 & 1.205 & 992 & 330 & 0.532 & 0.358 & 0.879 & 0.286 & 2005 & 2007 & 2\\\\\n",
       "\t72 & fandi01 & Dijia & Fan & 1980 & 241 & 76 & L & L & 0 & 0 & 3738 & 586 & 1092 & 226 & 25 & 191 & 677 & 51 & 15 & 343 & 2.319 & 4168 & 1942 & 0.628 & 0.411 & 1.045 & 0.39 & 2008 & 2013 & 7\\\\\n",
       "\t73 & huoji01 & Jiaqi & Huo & 1989 & 211 & 72 & R & R & 0 & 0 & 1554 & 207 & 427 & 80 & 14 & 18 & 123 & 48 & 28 & 128 & 1.363 & 1723 & 590 & 0.429 & 0.349 & 0.771 & 0.34 & 2011 & 2015 & 5\\\\\n",
       "\t74 & pawdekh01 & Khyati & Pawde & 1976 & 181 & 70 & L & R & 0 & 0 & 298 & 34 & 77 & 19 & 0 & 8 & 36 & 4 & 3 & 20 & 1.169 & 326 & 118 & 0.754 & 0.44 & 1.184 & 0.42 & 2004 & 2004 & 2\\\\\n",
       "\t75 & shenxi01 & Xin & Shen & 1981 & 211 & 74 & R & R & 0 & 0 & 2558 & 329 & 606 & 145 & 9 & 61 & 276 & 34 & 12 & 242 & 1.811 & 2845 & 953 & 0.453 & 0.346 & 0.798 & 0.306 & 2004 & 2009 & 7\\\\\n",
       "\t76 & weilu01 & Lupei & Wei & 1988 & 260 & 76 & L & R & 0 & 0 & 909 & 110 & 257 & 55 & 4 & 33 & 132 & 4 & 4 & 54 & 0.811 & 973 & 424 & 0.505 & 0.335 & 0.845 & 0.341 & 2013 & 2015 & 2\\\\\n",
       "\t77 & zhangyu01 & Yujing & Zhang & 1986 & 206 & 72 & B & R & 0 & 0 & 3636 & 495 & 972 & 219 & 18 & 87 & 451 & 72 & 26 & 313 & 2.381 & 4070 & 1488 & 0.459 & 0.359 & 0.799 & 0.36 & 2007 & 2013 & 6\\\\\n",
       "\t78 & hsury01 & Ryan & Hsu & 1975 & 206 & 73 & R & R & 0 & 0 & 59 & 5 & 15 & 5 & 0 & 0 & 3 & 0 & 0 & 4 & 0.402 & 63 & 18 & 0.459 & 0.415 & 0.873 & 0.415 & 2002 & 2000 & 2\\\\\n",
       "\t79 & zhouju01 & Jun & Zhou & 1983 & 199 & 73 & L & R & 0 & 0 & 245 & 29 & 56 & 11 & 2 & 9 & 33 & 2 & 4 & 28 & 0.856 & 277 & 94 & 0.443 & 0.341 & 0.796 & 0.366 & 2008 & 2008 & 0\\\\\n",
       "\t80 & zousi01 & Simon & Zou & 1990 & 239 & 77 & R & R & 0 & 0 & 462 & 57 & 127 & 15 & 2 & 13 & 62 & 6 & 7 & 25 & 1.097 & 498 & 190 & 0.445 & 0.371 & 0.774 & 0.405 & 2012 & 2013 & 3\\\\\n",
       "\t81 & sunji01 & Jiajing & Sun & 1978 & 229 & 71 & R & R & 0 & 0 & 3764 & 434 & 906 & 178 & 26 & 146 & 489 & 53 & 35 & 159 & 3.54 & 3994 & 1568 & 0.496 & 0.343 & 0.821 & 0.417 & 2002 & 2012 & 12\\\\\n",
       "\t82 & chauqu01 & Quan & Chau & 1979 & 189 & 73 & R & R & 0 & 0 & 2927 & 398 & 836 & 170 & 6 & 100 & 489 & 7 & 5 & 292 & 2.141 & 3272 & 1316 & 0.554 & 0.422 & 0.959 & 0.36 & 2005 & 2011 & 6\\\\\n",
       "\t83 & leepo01 & Po-Hsuan & Lee & 1981 & 200 & 74 & R & R & 0 & 0 & 223 & 30 & 51 & 14 & 4 & 8 & 27 & 3 & 3 & 26 & 0.648 & 254 & 93 & 0.467 & 0.333 & 0.78 & 0.328 & 2007 & 2006 & 2\\\\\n",
       "\t84 & pandeak01 & Akanksha & Pandey & 1980 & 220 & 75 & R & R & 0 & 0 & 1722 & 232 & 460 & 106 & 16 & 52 & 227 & 14 & 1 & 131 & 3.134 & 1879 & 748 & 0.827 & 0.383 & 1.196 & 0.423 & 2005 & 2014 & 11\\\\\n",
       "\t85 & rumneke01 & Keith & Rumney & 1983 & 205 & 75 & L & L & 0 & 0 & 2470 & 335 & 621 & 104 & 37 & 76 & 275 & 120 & 29 & 216 & 1.782 & 2738 & 1021 & 0.486 & 0.341 & 0.789 & 0.329 & 2012 & 2013 & 4\\\\\n",
       "\t86 & zhangju01 & Junchi & Zhang & 1982 & 194 & 72 & B & R & 0 & 0 & 6086 & 973 & 1771 & 312 & 116 & 111 & 567 & 456 & 112 & 468 & 3.497 & 6631 & 2647 & 0.495 & 0.383 & 0.877 & 0.353 & 2004 & 2013 & 11\\\\\n",
       "\t87 & zhouzi01 & Zishan & Zhou & 1979 & 190 & 72 & L & L & 0 & 0 & 1894 & 251 & 499 & 133 & 8 & 57 & 267 & 20 & 9 & 187 & 2.291 & 2128 & 817 & 0.526 & 0.366 & 0.895 & 0.393 & 2005 & 2009 & 7\\\\\n",
       "\t88 & fangge01 & George & Fang & 1976 & 194 & 74 & R & R & 0 & 0 & 520 & 61 & 128 & 32 & 6 & 16 & 66 & 2 & 3 & 56 & 1.172 & 587 & 221 & 0.488 & 0.393 & 0.882 & 0.388 & 2001 & 2002 & 4\\\\\n",
       "\t89 & liju01 & Jun & Li & 1980 & 199 & 72 & L & R & 0 & 0 & 5003 & 854 & 1284 & 226 & 83 & 238 & 671 & 131 & 37 & 594 & 2.8 & 5697 & 2385 & 0.555 & 0.363 & 0.916 & 0.36 & 2005 & 2013 & 8\\\\\n",
       "\t90 & shindak01 & Akshay & Shinde & 1980 & 209 & 73 & L & R & 0 & 0 & 1651 & 168 & 382 & 94 & 4 & 30 & 174 & 7 & 3 & 192 & 1.833 & 1876 & 572 & 0.42 & 0.371 & 0.801 & 0.356 & 2007 & 2015 & 8\\\\\n",
       "\t91 & zhouyi01 & Yichao & Zhou & 1981 & 216 & 76 & R & R & 0 & 0 & 385 & 64 & 85 & 19 & 3 & 8 & 34 & 17 & 8 & 22 & 0.719 & 420 & 136 & 0.505 & 0.339 & 0.856 & 0.484 & 2006 & 2006 & 2\\\\\n",
       "\t92 & chenje01 & Jeffrey & Chen & 1976 & 231 & 74 & R & R & 0 & 0 & 485 & 50 & 108 & 18 & 2 & 16 & 72 & 2 & 3 & 55 & 1.341 & 553 & 174 & 0.462 & 0.333 & 0.77 & 0.4 & 2005 & 2006 & 4\\\\\n",
       "\t93 & songsh01 & Shuo & Song & 1983 & 189 & 73 & R & R & 0 & 0 & 1234 & 132 & 321 & 57 & 6 & 14 & 111 & 6 & 4 & 62 & 1.705 & 1351 & 433 & 0.455 & 0.383 & 0.827 & 0.366 & 2007 & 2014 & 8\\\\\n",
       "\t94 & chenwe01 & Wei-Ting & Chen & 1980 & 200 & 73 & R & R & 0 & 0 & 1562 & 221 & 423 & 87 & 13 & 43 & 219 & 30 & 20 & 173 & 2.139 & 1770 & 659 & 0.505 & 0.5 & 0 & 0.663 & 2007 & 2012 & 5\\\\\n",
       "\\end{tabular}\n"
      ],
      "text/plain": [
       "    playerID nameFirst    nameLast birthYear weight height bats throws\n",
       "1  fornean01    Andrew      Forney      1982    234     72    R      R\n",
       "2  mokasta01    Tanaya     Mokashi      1991    226     76    L      R\n",
       "3   shahma01     Mauli        Shah      1987    204     74    R      R\n",
       "4  vahabar01     Arash   Vahabpour      1983    226     75    L      L\n",
       "5  wenigbr01    Brooke       Wenig      1983    194     73    L      L\n",
       "6   wangha01   Haoying        Wang      1975    191     72    L      L\n",
       "7  zhangzi01     Zihao       Zhang      1988    216     74    R      R\n",
       "8    lyuha01     Hanci         Lyu      1979    186     72    R      R\n",
       "9  shettpu01     Punit      Shetty      1988    229     73    L      R\n",
       "10 harrikr01  Kristina      Harris      1978    194     74    R      R\n",
       "11  wangha01       Han        Wang      1993    181     74    R      R\n",
       "12 ketenma01      Mark   Ketenjian      1991    171     71    L      R\n",
       "13    quyi01    Yingze          Qu      1982    220     71    R      R\n",
       "14 moataba01     Babak    Moatamed      1976    191     76    L      R\n",
       "15 oberoav01    Avneet      Oberoi      1985    191     75    L      L\n",
       "16   guoya01      Yang         Guo      1980    174     70    B      R\n",
       "17    liyo01     Youfu          Li      1986    191     70    R      R\n",
       "18   zhuyu01    Yunwen         Zhu      1982    276     77    B      R\n",
       "19    heyu01  Yunzhong          He      1978    180     70    L      L\n",
       "20   tanpa01   Patrick         Tan      1985    195     73    L      L\n",
       "21  zhoupe01    Peipei        Zhou      1983    220     75    R      R\n",
       "22   weipe01      Peng         Wei      1982    211     72    R      R\n",
       "23  sangqi01        Qi        Sang      1979    185     71    B      R\n",
       "24 zhangyu01        Yu       Zhang      1982    169     74    B      R\n",
       "25 zhangyu01    Yutong       Zhang      1984    196     71    R      R\n",
       "26 jadhama01    Mansee      Jadhav      1985    199     73    L      L\n",
       "27   yaoch01   Chunnan         Yao      1983    221     72    R      R\n",
       "28 alladya01  Yashaswi      Alladi      1983    185     71    R      R\n",
       "29 correre01   Rebecca     Correia      1986    195     71    L      R\n",
       "30  hongda01     David        Hong      1978    178     68    R      R\n",
       "31 jiangka01       Kai       Jiang      1981    219     71    R      R\n",
       "32  zhouyu01    Yuyang        Zhou      1977    244     71    R      R\n",
       "33 buonoch01     Chris   Buonocore      1976    236     76    R      R\n",
       "34 zhuanzh01   Zhiming      Zhuang      1985    186     74    R      R\n",
       "35 zhangxi01  Xiaobang       Zhang      1975    185     74    L      L\n",
       "36  chenti01   Tianlin        Chen      1975    205     71    R      R\n",
       "37  fengju01       Jun        Feng      1983    230     74    L      R\n",
       "38   guoda01   Danfeng         Guo      1986    196     73    L      L\n",
       "39   niulo01   Longjia         Niu      1988    185     71    R      R\n",
       "40 wongnpi01    Piraya Wongnimmarn      1978    186     73    L      L\n",
       "41  wangbi01  Bingling        Wang      1981    214     74    B      R\n",
       "42   gaoti01   Tianyun         Gao      1975    229     77    R      R\n",
       "43 hashese01   Sepideh Hashemzadeh      1981    164     69    L      R\n",
       "44 ubaleru01    Rutuja       Ubale      1987    209     75    L      R\n",
       "45    xuji01       Jie          Xu      1986    226     74    R      R\n",
       "46  jainni01   Nishtha        Jain      1981    196     68    R      R\n",
       "47 kamalai01 Aishwarya       Kamal      1986    191     70    R      R\n",
       "48    limi01    Mingda          Li      1983    199     75    L      L\n",
       "49    luzh01    Zhaoyu          Lu      1984    194     69    B      R\n",
       "50  woodal01 Alexander        Wood      1984    236     73    R      R\n",
       "51 goplasa01    Sakshi     Goplani      1984    191     71    L      L\n",
       "52  chiuhs01      Hsin        Chiu      1980    191     72    L      L\n",
       "53  gengda01    Daniel        Geng      1990    194     73    R      R\n",
       "54 kotkapa01   Pallavi      Kotkar      1981    225     75    B      R\n",
       "55 nerkaas01    Ashish      Nerkar      1977    234     73    L      R\n",
       "56   renqi01      Qing         Ren      1983    189     71    R      R\n",
       "57  shahma01     Mansi        Shah      1979    229     74    R      R\n",
       "58 sharmsu01     Suket      Sharma      1977    235     74    L      R\n",
       "59   yueyu01   Yuguang         Yue      1987    200     71    L      L\n",
       "60   lyuxi01 Xiangning         Lyu      1985    221     73    R      R\n",
       "61  zhouta01       Tao        Zhou      1979    215     76    R      R\n",
       "62  wangji01       Jin        Wang      1984    204     71    B      R\n",
       "63   leeja01     Jamie         Lee      1977    201     72    R      R\n",
       "64    liji01     Jiayu          Li      1983    201     73    L      R\n",
       "65 mishrso01      Sonu      Mishra      1979    200     71    L      L\n",
       "66  pangfa01       Fan        Pang      1975    180     74    L      L\n",
       "67 sumbaro01     Ronak     Sumbaly      1978    199     70    L      R\n",
       "68 jiangpe01       Pei       Jiang      1990    214     77    R      R\n",
       "69  shenyu01     Yujia        Shen      1980    219     73    L      L\n",
       "70    buzh01  Zhaoxing          Bu      1987    209     74    R      R\n",
       "71 kanetsa01     Salil    Kanetkar      1981    206     72    L      R\n",
       "72   fandi01     Dijia         Fan      1980    241     76    L      L\n",
       "73   huoji01     Jiaqi         Huo      1989    211     72    R      R\n",
       "74 pawdekh01    Khyati       Pawde      1976    181     70    L      R\n",
       "75  shenxi01       Xin        Shen      1981    211     74    R      R\n",
       "76   weilu01     Lupei         Wei      1988    260     76    L      R\n",
       "77 zhangyu01    Yujing       Zhang      1986    206     72    B      R\n",
       "78   hsury01      Ryan         Hsu      1975    206     73    R      R\n",
       "79  zhouju01       Jun        Zhou      1983    199     73    L      R\n",
       "80   zousi01     Simon         Zou      1990    239     77    R      R\n",
       "81   sunji01   Jiajing         Sun      1978    229     71    R      R\n",
       "82  chauqu01      Quan        Chau      1979    189     73    R      R\n",
       "83   leepo01  Po-Hsuan         Lee      1981    200     74    R      R\n",
       "84 pandeak01  Akanksha      Pandey      1980    220     75    R      R\n",
       "85 rumneke01     Keith      Rumney      1983    205     75    L      L\n",
       "86 zhangju01    Junchi       Zhang      1982    194     72    B      R\n",
       "87  zhouzi01    Zishan        Zhou      1979    190     72    L      L\n",
       "88  fangge01    George        Fang      1976    194     74    R      R\n",
       "89    liju01       Jun          Li      1980    199     72    L      R\n",
       "90 shindak01    Akshay      Shinde      1980    209     73    L      R\n",
       "91  zhouyi01    Yichao        Zhou      1981    216     76    R      R\n",
       "92  chenje01   Jeffrey        Chen      1976    231     74    R      R\n",
       "93  songsh01      Shuo        Song      1983    189     73    R      R\n",
       "94  chenwe01  Wei-Ting        Chen      1980    200     73    R      R\n",
       "   HallOfFameYear HallOfFame   AB    R    H X2B X3B  HR  RBI  SB  CS  BB    BA\n",
       "1               0          0   32    3    5   0   0   1    2   0   0   0 0.263\n",
       "2               0          0 1309  211  357  61  13  56  149  30  13 154 0.813\n",
       "3               0          0  958   90  270  57   3   7  106   7   3  43 1.346\n",
       "4               0          0  389   42   95  13   7   9   40   0   2  21 1.786\n",
       "5               0          0 3408  430  932 197  12 146  520   7   5 274 2.544\n",
       "6               0          0 1674  194  469  93  10  34  222  11   8 106 2.602\n",
       "7               0          0 1262  123  295  48   1  42  153   0   3  66 0.984\n",
       "8               0          0  387   52  101  13   4  13   52   4   2  42 1.044\n",
       "9               0          0 1268  118  342  76   2  26  152  16   1 121 1.330\n",
       "10              0          0 2692  369  677 147   9 114  434  18  18 189 2.261\n",
       "11              0          0 1186  149  331  74   5  34  129  11   6  57 0.823\n",
       "12              0          0  654   83  197  41   5  15   76   9   4  32 0.616\n",
       "13              0          0 3184  498  820 170   7 186  526  29  17 465 2.326\n",
       "14              0          0 1227  165  327  56   3  32  138  25   7 118 1.673\n",
       "15              0          0  993  133  243  45  14  17  100  22  10  69 1.358\n",
       "16              0          0 2435  296  593  84  17  30  215  31  15 204 3.037\n",
       "17              0          0 1471  217  355  76   7  48  169  43  15 155 0.717\n",
       "18              0          0  694   75  165  27   3  25   72   0   0   9 2.461\n",
       "19              0          0 7526 1075 2217 254  95  17  518 615 204 465 4.111\n",
       "20              0          0 1953  278  525 103  22  39  189  80  37 165 2.197\n",
       "21              0          0 4753  672 1349 247  45 185  689 103  49 380 2.837\n",
       "22              0          0  495   57   99  27   0  21   69   0   0  38 1.389\n",
       "23              0          0 5359  813 1448 275  52 116  578 297  73 501 3.447\n",
       "24              0          0  662   90  160  32  15   8   71  30  10  39 0.970\n",
       "25              0          0  950   96  226  47   6   3   91   3   4  44 1.951\n",
       "26              0          0 1323  159  311  56   9  28  122  60  11 120 2.025\n",
       "27              0          0 4570  452 1298 248   3  96  583  40  27 355 3.071\n",
       "28              0          0  128   16   21   3   0   4   10   0   2   7 0.464\n",
       "29              0          0 1805  246  493 109  17  31  158  34  19 172 1.511\n",
       "30              0          0  448   69  108  16   1  15   51   7   0  36 0.854\n",
       "31              0          0 1615  208  362  91   1  71  217   0   0 156 2.000\n",
       "32              0          0 4957  671 1377 281  35 132  617  55  31 343 4.213\n",
       "33              0          0 5502  768 1392 298  17 293  975   8   2 933 3.260\n",
       "34              0          0 4479  636 1089 236  24 139  509 265  80 531 2.451\n",
       "35              0          0  900  133  228  57   5  34  123  17  19  82 1.221\n",
       "36              0          0 1610  165  432  85   2  47  199   7   5  66 1.042\n",
       "37              0          0 4357  522 1184 241   4 200  737  23   9 446 2.720\n",
       "38              0          0 2738  408  671 142  17 117  353  28  14 262 1.658\n",
       "39              0          0   69    6   20   1   0   0    9   0   0   4 1.317\n",
       "40              0          0  704   80  174  33   8  26  100   7   7  83 0.958\n",
       "41              0          0 6156  999 1682 370  19 363 1174  23   8 813 3.792\n",
       "42              0          0 2712  281  694 152  15  76  374   3  12 220 3.279\n",
       "43              0          0 1414  176  374  86  12  28  162  17  10 141 1.910\n",
       "44              0          0  888   96  226  52   5  26  126   1   4  89 1.615\n",
       "45              0          0 4181  600 1170 204  23 170  578  81  30 196 2.424\n",
       "46              0          0 2891  414  783 160  28  36  274 304  80 174 2.612\n",
       "47              0          0 3300  548  987 199  37 128  461 144  49 444 1.800\n",
       "48              0          0 3875  636 1030 234  46 143  485 139  43 462 2.536\n",
       "49              0          0 2193  257  545 104  18  28  190  77  26 204 1.746\n",
       "50              0          0 2216  273  549 132   4  92  323   3   3 281 2.748\n",
       "51              0          0 1024  113  264  39  17  22   80  26  17  54 1.587\n",
       "52              0          0  261   39   73  19   0  12   35   2   3  19 0.778\n",
       "53              0          0 1313  138  331  54  13  28  125  11  11  85 0.781\n",
       "54              0          0  503   64  116  21   2   9   37   9   0  45 1.307\n",
       "55              0          0  330   17   68  14   0   3   27   0   0  20 1.398\n",
       "56              0          0 1011  132  266  54   7  16  111  35  12  44 1.115\n",
       "57              0          0 3911  563  989 217  15 195  633  34  10 554 2.972\n",
       "58              0          0 6635  755 1868 368  22 176  836  15  22 282 5.055\n",
       "59              0          0 2778  347  760 145  33  43  260  54  34 205 1.900\n",
       "60              0          0 1442  148  379  83   7  38  185   6   9  84 1.721\n",
       "61              0          0   22    2    1   2   0   2    1   0   0   4 0.268\n",
       "62              0          0 1219  136  316  69   2  32  156   8   4 141 1.628\n",
       "63              0          0 4889  564 1294 244  33  62  427  42  31 271 3.515\n",
       "64              0          0 3930  568  984 206  39 130  468  81  34 468 2.836\n",
       "65              0          0 1110  150  253  44  16  30  116  55  14  47 2.768\n",
       "66              0          0   16    3    4   3   0   0    4   0   0   0 0.415\n",
       "67              0          0 1544  221  412  74  22  16  117  31  16 184 1.160\n",
       "68              0          0   75    1   11   4   0   0    6   0   0   0 0.420\n",
       "69              0          0  187   11   32   7   0   1   13   0   0   7 2.129\n",
       "70              0          0  798   92  192  36   4  17   76  16  16  41 0.697\n",
       "71              0          0  884  125  218  47   7  16  112  16   5  85 1.205\n",
       "72              0          0 3738  586 1092 226  25 191  677  51  15 343 2.319\n",
       "73              0          0 1554  207  427  80  14  18  123  48  28 128 1.363\n",
       "74              0          0  298   34   77  19   0   8   36   4   3  20 1.169\n",
       "75              0          0 2558  329  606 145   9  61  276  34  12 242 1.811\n",
       "76              0          0  909  110  257  55   4  33  132   4   4  54 0.811\n",
       "77              0          0 3636  495  972 219  18  87  451  72  26 313 2.381\n",
       "78              0          0   59    5   15   5   0   0    3   0   0   4 0.402\n",
       "79              0          0  245   29   56  11   2   9   33   2   4  28 0.856\n",
       "80              0          0  462   57  127  15   2  13   62   6   7  25 1.097\n",
       "81              0          0 3764  434  906 178  26 146  489  53  35 159 3.540\n",
       "82              0          0 2927  398  836 170   6 100  489   7   5 292 2.141\n",
       "83              0          0  223   30   51  14   4   8   27   3   3  26 0.648\n",
       "84              0          0 1722  232  460 106  16  52  227  14   1 131 3.134\n",
       "85              0          0 2470  335  621 104  37  76  275 120  29 216 1.782\n",
       "86              0          0 6086  973 1771 312 116 111  567 456 112 468 3.497\n",
       "87              0          0 1894  251  499 133   8  57  267  20   9 187 2.291\n",
       "88              0          0  520   61  128  32   6  16   66   2   3  56 1.172\n",
       "89              0          0 5003  854 1284 226  83 238  671 131  37 594 2.800\n",
       "90              0          0 1651  168  382  94   4  30  174   7   3 192 1.833\n",
       "91              0          0  385   64   85  19   3   8   34  17   8  22 0.719\n",
       "92              0          0  485   50  108  18   2  16   72   2   3  55 1.341\n",
       "93              0          0 1234  132  321  57   6  14  111   6   4  62 1.705\n",
       "94              0          0 1562  221  423  87  13  43  219  30  20 173 2.139\n",
       "     PA   TB SlugPct   OBP   OPS BABIP startYear endYear totalYears\n",
       "1    35   11   0.437 0.261 0.696 0.330      2007    2013          6\n",
       "2  1490  608   0.486 0.371 0.854 0.351      2012    2013          3\n",
       "3  1021  360   0.421 0.341 0.762 0.341      2013    2013          4\n",
       "4   448  146   0.642 0.400 1.029 0.425      2002    2011          9\n",
       "5  3727 1590   0.597 0.412 1.015 0.431      2008    2015          6\n",
       "6  1818  684   0.484 0.378 0.856 0.351      2005    2011          9\n",
       "7  1357  472   0.480 0.310 0.787 0.301      2014    2014          1\n",
       "8   439  160   0.577 0.390 0.976 0.393      2001    2006          7\n",
       "9  1410  501   0.547 0.398 0.945 0.385      2013    2013          2\n",
       "10 2923 1186   0.490 0.337 0.818 0.322      2003    2008          5\n",
       "11 1265  513   0.445 0.324 0.757 0.321      2012    2013          1\n",
       "12  705  294   0.482 0.357 0.842 0.380      2015    2015          2\n",
       "13 3731 1564   0.628 0.418 1.053 0.364      2008    2015          8\n",
       "14 1367  485   0.453 0.368 0.821 0.378      2003    2005          2\n",
       "15 1081  366   0.434 0.326 0.759 0.350      2009    2012          4\n",
       "16 2793  802   0.459 0.417 0.874 0.333      2004    2013         13\n",
       "17 1668  586   0.413 0.342 0.756 0.277      2014    2013          1\n",
       "18  745  268   0.556 0.348 0.894 0.433      2002    2012         10\n",
       "19 8278 2713   0.418 0.379 0.796 0.341      2001    2012         12\n",
       "20 2177  788   0.534 0.400 0.928 0.404      2008    2015          7\n",
       "21 5183 2242   0.556 0.392 0.958 0.379      2009    2015          7\n",
       "22  549  188   0.809 0.396 1.205 0.407      2010    2014          6\n",
       "23 5991 2178   0.468 0.347 0.808 0.320      2003    2014         12\n",
       "24  717  242   0.636 0.387 1.021 0.377      2008    2009          3\n",
       "25 1024  299   0.531 0.404 0.930 0.381      2010    2012          3\n",
       "26 1479  467   0.714 0.443 1.162 0.359      2011    2014          1\n",
       "27 5046 1839   0.501 0.373 0.876 0.338      2005    2014         11\n",
       "28  139   32   0.447 0.212 0.551 0.220      2009    2009          2\n",
       "29 2013  728   0.462 0.389 0.844 0.361      2011    2014          5\n",
       "30  498  171   0.491 0.312 0.809 0.288      2002    2002          2\n",
       "31 1854  666   0.517 0.346 0.865 0.407      2005    2014          9\n",
       "32 5449 2118   0.518 0.403 0.841 0.399      2002    2013         11\n",
       "33 6521 2600   0.544 0.399 0.925 0.345      2002    2010         12\n",
       "34 5089 1792   0.508 0.389 0.889 0.393      2006    2013          7\n",
       "35 1005  399   0.567 0.338 0.890 0.305      2001    2003          3\n",
       "36 1723  660   0.452 0.332 0.783 0.288      2007    2009          5\n",
       "37 4891 2030   0.572 0.385 0.960 0.332      2005    2014          8\n",
       "38 3040 1197   0.506 0.358 0.863 0.356      2009    2014          7\n",
       "39   82   21   0.670 0.668 1.326 0.667      2011    2013          2\n",
       "40  804  294   0.458 0.348 0.798 0.287      2004    2007          3\n",
       "41 7130 3177   0.632 0.445 1.088 0.343      2002    2014         13\n",
       "42 3026 1097   0.614 0.390 0.956 0.383      2000    2010         12\n",
       "43 1587  566   0.511 0.598 0.910 0.373      2009    2011          3\n",
       "44 1001  368   0.522 0.412 0.885 0.384      2012    2014          4\n",
       "45 4488 1929   0.505 0.338 0.845 0.333      2009    2015          7\n",
       "46 3134 1100   0.419 0.363 0.782 0.361      2009    2015          6\n",
       "47 3820 1643   0.557 0.410 0.953 0.376      2009    2015          5\n",
       "48 4429 1791   0.533 0.391 0.910 0.339      2005    2014          9\n",
       "49 2454  767   0.417 0.342 0.760 0.343      2011    2015          6\n",
       "50 2531  965   0.667 0.433 1.100 0.475      2009    2015          8\n",
       "51 1092  404   0.461 0.338 0.804 0.400      2013    2012          2\n",
       "52  286  127   0.564 0.374 0.933 0.350      2006    2007          2\n",
       "53 1417  488   0.415 0.336 0.751 0.312      2014    2015          1\n",
       "54  558  169   0.455 0.354 0.811 0.371      2006    2006          1\n",
       "55  378   89   0.529 0.346 0.849 0.388      2002    2010          8\n",
       "56 1076  380   0.447 0.400 0.855 0.615      2005    2010          5\n",
       "57 4616 1820   0.524 0.407 0.884 0.390      2005    2015          8\n",
       "58 7118 2812   0.501 0.384 0.827 0.344      2000    2015         15\n",
       "59 3045 1097   0.425 0.358 0.791 0.348      2010    2013          6\n",
       "60 1545  582   0.553 0.349 0.887 0.354      2010    2014          3\n",
       "61   29    7   0.500 0.252 0.722 0.251      2005    2007          1\n",
       "62 1391  487   0.450 0.445 0.898 0.365      2006    2010          4\n",
       "63 5340 1789   0.462 0.349 0.798 0.328      2002    2013         12\n",
       "64 4469 1662   0.496 0.373 0.870 0.343      2007    2013          8\n",
       "65 1185  422   0.603 0.336 0.927 0.343      2000    2012         13\n",
       "66   15    9   0.667 0.418 1.076 0.558      2002    2004          3\n",
       "67 1754  578   0.411 0.357 0.765 0.357      2008    2010          5\n",
       "68   86   14   0.442 0.331 0.769 0.549      2012    2013          2\n",
       "69  214   41   2.000 0.606 1.499 0.757      2014    2015          3\n",
       "70  864  291   0.429 0.290 0.723 0.362      2012    2015          2\n",
       "71  992  330   0.532 0.358 0.879 0.286      2005    2007          2\n",
       "72 4168 1942   0.628 0.411 1.045 0.390      2008    2013          7\n",
       "73 1723  590   0.429 0.349 0.771 0.340      2011    2015          5\n",
       "74  326  118   0.754 0.440 1.184 0.420      2004    2004          2\n",
       "75 2845  953   0.453 0.346 0.798 0.306      2004    2009          7\n",
       "76  973  424   0.505 0.335 0.845 0.341      2013    2015          2\n",
       "77 4070 1488   0.459 0.359 0.799 0.360      2007    2013          6\n",
       "78   63   18   0.459 0.415 0.873 0.415      2002    2000          2\n",
       "79  277   94   0.443 0.341 0.796 0.366      2008    2008          0\n",
       "80  498  190   0.445 0.371 0.774 0.405      2012    2013          3\n",
       "81 3994 1568   0.496 0.343 0.821 0.417      2002    2012         12\n",
       "82 3272 1316   0.554 0.422 0.959 0.360      2005    2011          6\n",
       "83  254   93   0.467 0.333 0.780 0.328      2007    2006          2\n",
       "84 1879  748   0.827 0.383 1.196 0.423      2005    2014         11\n",
       "85 2738 1021   0.486 0.341 0.789 0.329      2012    2013          4\n",
       "86 6631 2647   0.495 0.383 0.877 0.353      2004    2013         11\n",
       "87 2128  817   0.526 0.366 0.895 0.393      2005    2009          7\n",
       "88  587  221   0.488 0.393 0.882 0.388      2001    2002          4\n",
       "89 5697 2385   0.555 0.363 0.916 0.360      2005    2013          8\n",
       "90 1876  572   0.420 0.371 0.801 0.356      2007    2015          8\n",
       "91  420  136   0.505 0.339 0.856 0.484      2006    2006          2\n",
       "92  553  174   0.462 0.333 0.770 0.400      2005    2006          4\n",
       "93 1351  433   0.455 0.383 0.827 0.366      2007    2014          8\n",
       "94 1770  659   0.505 0.500 0.000 0.663      2007    2012          5"
      ]
     },
     "execution_count": 17,
     "metadata": {},
     "output_type": "execute_result"
    }
   ],
   "source": [
    "RecentPlayersAndStatsAndSalary_test = read.csv( file(\"/Users/rutuja/Documents/Current Topics - Data Science/HW4/HW4_Baseball/HW4_Baseball_Salary_test.csv\"), header=TRUE )\n",
    "\n",
    "RecentPlayersAndStatsAndSalary_test "
   ]
  },
  {
   "cell_type": "code",
   "execution_count": 56,
   "metadata": {
    "collapsed": false
   },
   "outputs": [
    {
     "data": {
      "text/html": [
       "55617146737502712"
      ],
      "text/latex": [
       "55617146737502712"
      ],
      "text/markdown": [
       "55617146737502712"
      ],
      "text/plain": [
       "[1] 5.561715e+16"
      ]
     },
     "execution_count": 56,
     "metadata": {},
     "output_type": "execute_result"
    },
    {
     "data": {
      "text/html": [
       "8178776989849353"
      ],
      "text/latex": [
       "8178776989849353"
      ],
      "text/markdown": [
       "8178776989849353"
      ],
      "text/plain": [
       "[1] 8.178777e+15"
      ]
     },
     "execution_count": 56,
     "metadata": {},
     "output_type": "execute_result"
    }
   ],
   "source": [
    "regression_RSS = function( model, test.data, test.solutions,intercept=1) {\n",
    "   \n",
    "     predictions = predict (model, test.data)\n",
    "     RSS = sum((10^predictions-(test.solutions))^2)\n",
    " }\n",
    "\n",
    "BaselineSalaryModel_RSS = regression_RSS(BaselineSalaryModel,RecentPlayersAndStatsAndSalary,RecentPlayersAndStatsAndSalary$max_salary)\n",
    "BaselineSalaryModel_RSS\n",
    "\n",
    "MySalaryModel_RSS = regression_RSS(MySalaryModel,RecentPlayersAndStatsAndSalary,RecentPlayersAndStatsAndSalary$max_salary)\n",
    "MySalaryModel_RSS\n",
    "\n"
   ]
  },
  {
   "cell_type": "code",
   "execution_count": 57,
   "metadata": {
    "collapsed": true
   },
   "outputs": [],
   "source": [
    "regression_accuracy = function( model, test.data, test.solutions ) {\n",
    "    predictions = predict( model, subset(test.data))\n",
    "    mse = sum((predictions-log10(test.solutions))^2)/sum((log10(test.solutions) - mean(log10(test.solutions)))^2)\n",
    "    accuracy = 1-mse\n",
    "    return(accuracy)\n",
    " }"
   ]
  },
  {
   "cell_type": "code",
   "execution_count": 58,
   "metadata": {
    "collapsed": false
   },
   "outputs": [
    {
     "data": {
      "text/html": [
       "0.734863405852501"
      ],
      "text/latex": [
       "0.734863405852501"
      ],
      "text/markdown": [
       "0.734863405852501"
      ],
      "text/plain": [
       "[1] 0.7348634"
      ]
     },
     "execution_count": 58,
     "metadata": {},
     "output_type": "execute_result"
    },
    {
     "data": {
      "text/html": [
       "0.877220429429771"
      ],
      "text/latex": [
       "0.877220429429771"
      ],
      "text/markdown": [
       "0.877220429429771"
      ],
      "text/plain": [
       "[1] 0.8772204"
      ]
     },
     "execution_count": 58,
     "metadata": {},
     "output_type": "execute_result"
    }
   ],
   "source": [
    "BaselineSalaryModel_RSquared = regression_accuracy(BaselineSalaryModel,RecentPlayersAndStatsAndSalary,RecentPlayersAndStatsAndSalary$max_salary)\n",
    "BaselineSalaryModel_RSquared\n",
    "\n",
    "MySalaryModel_RSquared = regression_accuracy(MySalaryModel,RecentPlayersAndStatsAndSalary,RecentPlayersAndStatsAndSalary$max_salary)\n",
    "MySalaryModel_RSquared"
   ]
  },
  {
   "cell_type": "code",
   "execution_count": 24,
   "metadata": {
    "collapsed": true
   },
   "outputs": [],
   "source": [
    "testSalaryData = read.csv( file(\"/Users/rutuja/Documents/Current Topics - Data Science/HW4/HW4_Baseball/HW4_Baseball_Salary_test.csv\"), header=TRUE )"
   ]
  },
  {
   "cell_type": "code",
   "execution_count": 25,
   "metadata": {
    "collapsed": false
   },
   "outputs": [],
   "source": [
    "predictedLogSalary = predict(MySalaryModel, testSalaryData)\n",
    "predictedSalary = 10^predictedLogSalary\n",
    "\n",
    "write.table(predictedSalary, file=\"/Users/rutuja/Documents/Current Topics - Data Science/HW4/HW4_Baseball_Salary_predictions.csv\",sep=\",\",append=TRUE,row.names=FALSE,col.names=FALSE)"
   ]
  },
  {
   "cell_type": "markdown",
   "metadata": {
    "collapsed": true
   },
   "source": [
    "## Upload the predictions of your model on HW4_Baseball_Salary_test.csv\n",
    "\n",
    "\n",
    "Generate predictions for your model for players in the file  <tt>HW4_Baseball_Salary_test.csv</tt>.\n",
    "Your predictions will be evaluated by its RSS (sum of squares of residuals).\n"
   ]
  },
  {
   "cell_type": "markdown",
   "metadata": {},
   "source": [
    "# Problem 2: construct a model with better performance  (higher accuracy) than this Baseline Hall of Fame Model"
   ]
  },
  {
   "cell_type": "markdown",
   "metadata": {},
   "source": [
    "###  Hall of Fame election rules:\n",
    "\n",
    "\n",
    "A. A baseball player must have been active as a player in the Major Leagues at some time during a period beginning fifteen (15) years before and ending five (5) years prior to election.\n",
    "\n",
    "B. Player must have played in each of ten (10) Major League championship seasons, some part of which must have been within the period described in 3(A).\n",
    "\n",
    "C. Player shall have ceased to be an active player in the Major Leagues at least five (5) calendar years preceding the election but may be otherwise connected with baseball.\n",
    "\n",
    "### Consequently:   only consider players born before 1970\n",
    "(They must start around 20 years of age, play at least 10 years, have stopped playing at least 5 years earlier, and take perhaps 10 years to win the ballot -- so born at least 45 years ago.)"
   ]
  },
  {
   "cell_type": "code",
   "execution_count": 26,
   "metadata": {
    "collapsed": false
   },
   "outputs": [
    {
     "data": {
      "text/html": [
       "<table>\n",
       "<thead><tr><th></th><th scope=col>playerID</th><th scope=col>nameFirst</th><th scope=col>nameLast</th><th scope=col>birthYear</th><th scope=col>weight</th><th scope=col>height</th><th scope=col>bats</th><th scope=col>throws</th><th scope=col>HallOfFameYear</th><th scope=col>HallOfFame</th><th scope=col>AB</th><th scope=col>R</th><th scope=col>H</th><th scope=col>X2B</th><th scope=col>X3B</th><th scope=col>HR</th><th scope=col>RBI</th><th scope=col>SB</th><th scope=col>CS</th><th scope=col>BB</th><th scope=col>BA</th><th scope=col>PA</th><th scope=col>TB</th><th scope=col>SlugPct</th><th scope=col>OBP</th><th scope=col>OPS</th><th scope=col>BABIP</th></tr></thead>\n",
       "<tbody>\n",
       "\t<tr><th scope=row>2</th><td>aaronha01</td><td>Hank</td><td>Aaron</td><td>1934</td><td>180</td><td>72</td><td>R</td><td>R</td><td>1982</td><td>1</td><td>12364</td><td>2174</td><td>3771</td><td>624</td><td>98</td><td>755</td><td>2297</td><td>240</td><td>73</td><td>1402</td><td>6.927</td><td>13940</td><td>6856</td><td>0.669</td><td>0.41</td><td>1.079</td><td>0.338</td></tr>\n",
       "\t<tr><th scope=row>3</th><td>aaronto01</td><td>Tommie</td><td>Aaron</td><td>1939</td><td>190</td><td>75</td><td>R</td><td>R</td><td>0</td><td>0</td><td>944</td><td>102</td><td>216</td><td>42</td><td>6</td><td>13</td><td>94</td><td>9</td><td>8</td><td>86</td><td>1.545</td><td>1045</td><td>309</td><td>0.374</td><td>0.318</td><td>0.686</td><td>0.276</td></tr>\n",
       "\t<tr><th scope=row>4</th><td>aasedo01</td><td>Don</td><td>Aase</td><td>1954</td><td>190</td><td>75</td><td>R</td><td>R</td><td>0</td><td>0</td><td>5</td><td>0</td><td>0</td><td>0</td><td>0</td><td>0</td><td>0</td><td>0</td><td>0</td><td>0</td><td>0</td><td>5</td><td>0</td><td>0</td><td>0</td><td>0</td><td>0</td></tr>\n",
       "\t<tr><th scope=row>7</th><td>abadijo01</td><td>John</td><td>Abadie</td><td>1854</td><td>192</td><td>72</td><td>R</td><td>R</td><td>0</td><td>0</td><td>49</td><td>4</td><td>11</td><td>0</td><td>0</td><td>0</td><td>5</td><td>1</td><td>0</td><td>0</td><td>0.472</td><td>49</td><td>11</td><td>0.25</td><td>0.25</td><td>0.5</td><td>0.25</td></tr>\n",
       "\t<tr><th scope=row>9</th><td>abbotji01</td><td>Jim</td><td>Abbott</td><td>1967</td><td>200</td><td>75</td><td>L</td><td>L</td><td>0</td><td>0</td><td>21</td><td>0</td><td>2</td><td>0</td><td>0</td><td>0</td><td>3</td><td>0</td><td>0</td><td>0</td><td>0.095</td><td>24</td><td>2</td><td>0.095</td><td>0.095</td><td>0.19</td><td>0.182</td></tr>\n",
       "\t<tr><th scope=row>10</th><td>abbotku01</td><td>Kurt</td><td>Abbott</td><td>1969</td><td>180</td><td>71</td><td>R</td><td>R</td><td>0</td><td>0</td><td>2044</td><td>273</td><td>523</td><td>109</td><td>23</td><td>62</td><td>242</td><td>22</td><td>11</td><td>133</td><td>2.511</td><td>2227</td><td>864</td><td>0.465</td><td>0.326</td><td>0.77</td><td>0.354</td></tr>\n",
       "</tbody>\n",
       "</table>\n"
      ],
      "text/latex": [
       "\\begin{tabular}{r|lllllllllllllllllllllllllll}\n",
       "  & playerID & nameFirst & nameLast & birthYear & weight & height & bats & throws & HallOfFameYear & HallOfFame & AB & R & H & X2B & X3B & HR & RBI & SB & CS & BB & BA & PA & TB & SlugPct & OBP & OPS & BABIP\\\\\n",
       "\\hline\n",
       "\t2 & aaronha01 & Hank & Aaron & 1934 & 180 & 72 & R & R & 1982 & 1 & 12364 & 2174 & 3771 & 624 & 98 & 755 & 2297 & 240 & 73 & 1402 & 6.927 & 13940 & 6856 & 0.669 & 0.41 & 1.079 & 0.338\\\\\n",
       "\t3 & aaronto01 & Tommie & Aaron & 1939 & 190 & 75 & R & R & 0 & 0 & 944 & 102 & 216 & 42 & 6 & 13 & 94 & 9 & 8 & 86 & 1.545 & 1045 & 309 & 0.374 & 0.318 & 0.686 & 0.276\\\\\n",
       "\t4 & aasedo01 & Don & Aase & 1954 & 190 & 75 & R & R & 0 & 0 & 5 & 0 & 0 & 0 & 0 & 0 & 0 & 0 & 0 & 0 & 0 & 5 & 0 & 0 & 0 & 0 & 0\\\\\n",
       "\t7 & abadijo01 & John & Abadie & 1854 & 192 & 72 & R & R & 0 & 0 & 49 & 4 & 11 & 0 & 0 & 0 & 5 & 1 & 0 & 0 & 0.472 & 49 & 11 & 0.25 & 0.25 & 0.5 & 0.25\\\\\n",
       "\t9 & abbotji01 & Jim & Abbott & 1967 & 200 & 75 & L & L & 0 & 0 & 21 & 0 & 2 & 0 & 0 & 0 & 3 & 0 & 0 & 0 & 0.095 & 24 & 2 & 0.095 & 0.095 & 0.19 & 0.182\\\\\n",
       "\t10 & abbotku01 & Kurt & Abbott & 1969 & 180 & 71 & R & R & 0 & 0 & 2044 & 273 & 523 & 109 & 23 & 62 & 242 & 22 & 11 & 133 & 2.511 & 2227 & 864 & 0.465 & 0.326 & 0.77 & 0.354\\\\\n",
       "\\end{tabular}\n"
      ],
      "text/plain": [
       "    playerID nameFirst nameLast birthYear weight height bats throws\n",
       "2  aaronha01      Hank    Aaron      1934    180     72    R      R\n",
       "3  aaronto01    Tommie    Aaron      1939    190     75    R      R\n",
       "4   aasedo01       Don     Aase      1954    190     75    R      R\n",
       "7  abadijo01      John   Abadie      1854    192     72    R      R\n",
       "9  abbotji01       Jim   Abbott      1967    200     75    L      L\n",
       "10 abbotku01      Kurt   Abbott      1969    180     71    R      R\n",
       "   HallOfFameYear HallOfFame    AB    R    H X2B X3B  HR  RBI  SB CS   BB    BA\n",
       "2            1982          1 12364 2174 3771 624  98 755 2297 240 73 1402 6.927\n",
       "3               0          0   944  102  216  42   6  13   94   9  8   86 1.545\n",
       "4               0          0     5    0    0   0   0   0    0   0  0    0 0.000\n",
       "7               0          0    49    4   11   0   0   0    5   1  0    0 0.472\n",
       "9               0          0    21    0    2   0   0   0    3   0  0    0 0.095\n",
       "10              0          0  2044  273  523 109  23  62  242  22 11  133 2.511\n",
       "      PA   TB SlugPct   OBP   OPS BABIP\n",
       "2  13940 6856   0.669 0.410 1.079 0.338\n",
       "3   1045  309   0.374 0.318 0.686 0.276\n",
       "4      5    0   0.000 0.000 0.000 0.000\n",
       "7     49   11   0.250 0.250 0.500 0.250\n",
       "9     24    2   0.095 0.095 0.190 0.182\n",
       "10  2227  864   0.465 0.326 0.770 0.354"
      ]
     },
     "execution_count": 26,
     "metadata": {},
     "output_type": "execute_result"
    },
    {
     "data": {
      "text/html": [
       "8111"
      ],
      "text/latex": [
       "8111"
      ],
      "text/markdown": [
       "8111"
      ],
      "text/plain": [
       "[1] 8111"
      ]
     },
     "execution_count": 26,
     "metadata": {},
     "output_type": "execute_result"
    }
   ],
   "source": [
    "HallOfFameContenders = subset( PlayersAndStats, birthYear < 1970 )\n",
    "head(HallOfFameContenders)\n",
    "nrow(HallOfFameContenders)"
   ]
  },
  {
   "cell_type": "code",
   "execution_count": 27,
   "metadata": {
    "collapsed": false
   },
   "outputs": [
    {
     "data": {
      "text/plain": [
       "\n",
       "Call:\n",
       "glm(formula = HallOfFame ~ AB + R + H + X2B + X3B + HR + RBI + \n",
       "    SB + CS + BB + BA + PA + SlugPct + OBP + BABIP, family = binomial, \n",
       "    data = HallOfFameContenders)\n",
       "\n",
       "Deviance Residuals: \n",
       "    Min       1Q   Median       3Q      Max  \n",
       "-2.0236  -0.1609  -0.1354  -0.1225   3.2096  \n",
       "\n",
       "Coefficients:\n",
       "             Estimate Std. Error z value Pr(>|z|)    \n",
       "(Intercept) -5.177921   0.245464 -21.094  < 2e-16 ***\n",
       "AB          -0.015193   0.002452  -6.195 5.82e-10 ***\n",
       "R            0.004717   0.001993   2.366  0.01797 *  \n",
       "H            0.004591   0.001633   2.812  0.00493 ** \n",
       "X2B         -0.017811   0.003509  -5.076 3.86e-07 ***\n",
       "X3B          0.021059   0.006559   3.210  0.00133 ** \n",
       "HR          -0.007845   0.003394  -2.312  0.02080 *  \n",
       "RBI          0.006136   0.001578   3.890  0.00010 ***\n",
       "SB           0.005979   0.002021   2.958  0.00309 ** \n",
       "CS          -0.034386   0.007499  -4.586 4.53e-06 ***\n",
       "BB          -0.013913   0.002313  -6.015 1.80e-09 ***\n",
       "BA           0.065975   0.135318   0.488  0.62587    \n",
       "PA           0.013597   0.002289   5.941 2.83e-09 ***\n",
       "SlugPct      0.539446   0.509461   1.059  0.28966    \n",
       "OBP          0.570971   1.114045   0.513  0.60829    \n",
       "BABIP        0.035612   0.804150   0.044  0.96468    \n",
       "---\n",
       "Signif. codes:  0 ‘***’ 0.001 ‘**’ 0.01 ‘*’ 0.05 ‘.’ 0.1 ‘ ’ 1\n",
       "\n",
       "(Dispersion parameter for binomial family taken to be 1)\n",
       "\n",
       "    Null deviance: 1824.3  on 8110  degrees of freedom\n",
       "Residual deviance: 1295.1  on 8095  degrees of freedom\n",
       "AIC: 1327.1\n",
       "\n",
       "Number of Fisher Scoring iterations: 7\n"
      ]
     },
     "execution_count": 27,
     "metadata": {},
     "output_type": "execute_result"
    }
   ],
   "source": [
    "BaselineHallOfFameModel = glm( HallOfFame ~ AB+R+H+X2B+X3B+HR+RBI+SB+CS+BB+BA+PA+SlugPct+OBP+BABIP,\n",
    "                         data = HallOfFameContenders, family=binomial)\n",
    "\n",
    "summary(BaselineHallOfFameModel)"
   ]
  },
  {
   "cell_type": "code",
   "execution_count": 28,
   "metadata": {
    "collapsed": false
   },
   "outputs": [
    {
     "data": {
      "text/plain": [
       "   \n",
       "       0    1\n",
       "  0 7899  155\n",
       "  1   19   38"
      ]
     },
     "execution_count": 28,
     "metadata": {},
     "output_type": "execute_result"
    }
   ],
   "source": [
    "confusionMatrix = table( round(predict(BaselineHallOfFameModel, type=\"response\")), HallOfFameContenders$HallOfFame )\n",
    "confusionMatrix\n",
    "# terrible prediction accuracy:  only 38 Hall-of-Fame players were identified correctly:"
   ]
  },
  {
   "cell_type": "markdown",
   "metadata": {},
   "source": [
    "##  Warning!  This dataset is severely imbalanced.  Read Ch.16 of [APM]\n",
    "\n",
    "Only about 1% or 2% of all players are inducted into the Hall of Fame:"
   ]
  },
  {
   "cell_type": "code",
   "execution_count": 29,
   "metadata": {
    "collapsed": false
   },
   "outputs": [
    {
     "data": {
      "text/plain": [
       "\n",
       "   0    1 \n",
       "7918  193 "
      ]
     },
     "execution_count": 29,
     "metadata": {},
     "output_type": "execute_result"
    }
   ],
   "source": [
    "( FameTally = table( HallOfFameContenders$HallOfFame ) )"
   ]
  },
  {
   "cell_type": "code",
   "execution_count": 30,
   "metadata": {
    "collapsed": false
   },
   "outputs": [
    {
     "data": {
      "text/html": [
       "<table>\n",
       "<thead><tr><th></th><th scope=col>percentageOfHallOfFamers</th></tr></thead>\n",
       "<tbody>\n",
       "\t<tr><th scope=row>1</th><td>0.02379485</td></tr>\n",
       "</tbody>\n",
       "</table>\n"
      ],
      "text/latex": [
       "\\begin{tabular}{r|l}\n",
       "  & percentageOfHallOfFamers\\\\\n",
       "\\hline\n",
       "\t1 & 0.02379485\\\\\n",
       "\\end{tabular}\n"
      ],
      "text/plain": [
       "  percentageOfHallOfFamers\n",
       "1               0.02379485"
      ]
     },
     "execution_count": 30,
     "metadata": {},
     "output_type": "execute_result"
    }
   ],
   "source": [
    "data.frame( percentageOfHallOfFamers = FameTally[2] / sum(FameTally) )"
   ]
  },
  {
   "cell_type": "markdown",
   "metadata": {
    "collapsed": true
   },
   "source": [
    "## Finally:  Upload the predictions of your model on HW4_Baseball_HallOfFame_test.csv\n",
    "\n",
    "Use your model to generate predictions for players in the file <tt>HW4_Baseball_HallOfFame_test.csv</tt>,\n",
    "and upload them to CCLE.\n"
   ]
  },
  {
   "cell_type": "markdown",
   "metadata": {},
   "source": [
    "##  Important:  The test dataset has as many Hall-of-Fame players as non-Hall-of-Fame players\n",
    "\n",
    "\n",
    "Even though classifying everybody as a NON-Hall-of-Fame player is correct\n",
    "for about 98% of all players, the weighting of Hall-of-Fame players is the same as for non-Hall-of-Fame players\n",
    "in this test data.\n",
    "Ignoring these players will get a very low score on this assignment.\n",
    "\n",
    "Specifically, your predictions will be evaluated by their <b>Accuracy-Rate</b>:\n",
    "<blockquote>\n",
    "This rate is a weighted percentage of correct predictions\n",
    "for players in the Hall of Fame.  Because half of the test data are in the Hall of Fame,\n",
    "<u>correct prediction for players in the Hall of Fame is weighted heavily.</u>\n",
    "</blockquote>\n"
   ]
  },
  {
   "cell_type": "code",
   "execution_count": 31,
   "metadata": {
    "collapsed": false
   },
   "outputs": [
    {
     "name": "stderr",
     "output_type": "stream",
     "text": [
      "\n",
      "Attaching package: ‘kernlab’\n",
      "\n",
      "The following object is masked from ‘package:ggplot2’:\n",
      "\n",
      "    alpha\n",
      "\n"
     ]
    }
   ],
   "source": [
    "not.installed <- function(pkg) !is.element(pkg, installed.packages()[,1])\n",
    "\n",
    "if (not.installed(\"MASS\"))  install.packages(\"MASS\")  # we need the MASS package\n",
    "\n",
    "library(MASS)  #  load the MASS package\n",
    "\n",
    "#install.packages('kernlab', dependencies=TRUE, repos='http://cran.rstudio.com/')\n",
    "library(kernlab) \n",
    "#install.packages('e1071', dependencies=TRUE, , repos='http://cran.rstudio.com/')\n",
    "library(e1071)\n",
    "\n",
    "#if (not.installed(\"caret\"))  install.packages(\"caret\")  # we need the caret package\n",
    "\n",
    "library(caret)  #  load the caret package\n",
    "\n",
    "detach(package:caret)  # reload the package, since the code here modifies GermanCredit\n",
    "library(caret)\n",
    "\n",
    "\n"
   ]
  },
  {
   "cell_type": "code",
   "execution_count": 32,
   "metadata": {
    "collapsed": true
   },
   "outputs": [],
   "source": [
    "upSampledData = upSample(x= HallOfFameContenders, y = as.factor(HallOfFameContenders$HallOfFame), yname = \"HallOfFame\")"
   ]
  },
  {
   "cell_type": "code",
   "execution_count": 33,
   "metadata": {
    "collapsed": false
   },
   "outputs": [
    {
     "name": "stderr",
     "output_type": "stream",
     "text": [
      "Warning message:\n",
      "In train.default(x, y, weights = w, ...): You are trying to do regression and your outcome only has two possible values Are you trying to do classification? If so, use a 2 level factor as your outcome column."
     ]
    },
    {
     "data": {
      "text/plain": [
       "\n",
       "Call:\n",
       "cubist.default(x = x, y = y, committees = param$committees)\n",
       "\n",
       "\n",
       "Cubist [Release 2.07 GPL Edition]  Wed May 25 20:33:58 2016\n",
       "---------------------------------\n",
       "\n",
       "    Target attribute `outcome'\n",
       "\n",
       "Read 15836 cases (17 attributes) from undefined.data\n",
       "\n",
       "Model:\n",
       "\n",
       "  Rule 1: [7918 cases, mean 0.0, range 0 to 0, est err 0.0]\n",
       "\n",
       "    if\n",
       "\tHallOfFameYear <= -0.9998397\n",
       "    then\n",
       "\toutcome = 0\n",
       "\n",
       "  Rule 2: [7918 cases, mean 1.0, range 1 to 1, est err 0.0]\n",
       "\n",
       "    if\n",
       "\tHallOfFameYear > -0.9998397\n",
       "    then\n",
       "\toutcome = 1\n",
       "\n",
       "\n",
       "Evaluation on training data (15836 cases):\n",
       "\n",
       "    Average  |error|                0.0\n",
       "    Relative |error|               0.00\n",
       "    Correlation coefficient        1.00\n",
       "\n",
       "\n",
       "\tAttribute usage:\n",
       "\t  Conds  Model\n",
       "\n",
       "\t  100%           HallOfFameYear\n",
       "\n",
       "\n",
       "Time: 1.0 secs\n"
      ]
     },
     "execution_count": 33,
     "metadata": {},
     "output_type": "execute_result"
    }
   ],
   "source": [
    "HallOfFameModel <- train(HallOfFame ~ AB+R+H+X2B+X3B+HR+RBI+SB+CS+BB+BA+PA+SlugPct+OBP+BABIP+HallOfFameYear, data=upSampledData, method=\"cubist\", preProc = c(\"center\", \"scale\"), trControl = trainControl(method = \"repeatedcv\", repeats = 5))\n",
    "\n",
    "summary(HallOfFameModel)"
   ]
  },
  {
   "cell_type": "code",
   "execution_count": 34,
   "metadata": {
    "collapsed": true
   },
   "outputs": [],
   "source": [
    "Hall_of_Fame_Accuracy_Rate = function( model, test.data, test.solutions ) {\n",
    "    \n",
    "    predictions = predict( model, test.data)\n",
    "    \n",
    "    NON_Hall_of_Fame_sum = length(predictions)-sum(test.solutions)\n",
    "    \n",
    "    Hall_of_Fame_sum = sum(test.solutions)\n",
    "\n",
    "    NON_Hall_of_Fame_correct_predictions  = sum(ifelse(I(as.numeric(as.character(predictions))>0) == test.solutions&test.solutions == 0,1,0  ))\n",
    "    \n",
    "    Hall_of_Fame_correct_predictions =  sum(ifelse(I(as.numeric(as.character(predictions))>0) == test.solutions&test.solutions == 1,1,0  ))\n",
    "     \n",
    "    accuracy = (NON_Hall_of_Fame_correct_predictions + Hall_of_Fame_correct_predictions )/(NON_Hall_of_Fame_sum + Hall_of_Fame_sum)\n",
    "    \n",
    "}"
   ]
  },
  {
   "cell_type": "code",
   "execution_count": 35,
   "metadata": {
    "collapsed": false
   },
   "outputs": [
    {
     "data": {
      "text/html": [
       "0.97854765133769"
      ],
      "text/latex": [
       "0.97854765133769"
      ],
      "text/markdown": [
       "0.97854765133769"
      ],
      "text/plain": [
       "[1] 0.9785477"
      ]
     },
     "execution_count": 35,
     "metadata": {},
     "output_type": "execute_result"
    },
    {
     "data": {
      "text/html": [
       "1"
      ],
      "text/latex": [
       "1"
      ],
      "text/markdown": [
       "1"
      ],
      "text/plain": [
       "[1] 1"
      ]
     },
     "execution_count": 35,
     "metadata": {},
     "output_type": "execute_result"
    }
   ],
   "source": [
    "BaselineHallOfFameModel_Accuracy = Hall_of_Fame_Accuracy_Rate(BaselineHallOfFameModel, HallOfFameContenders,  HallOfFameContenders$HallOfFame)\n",
    "BaselineHallOfFameModel_Accuracy\n",
    "\n",
    "HallOfFameModel_Accuracy = Hall_of_Fame_Accuracy_Rate(HallOfFameModel, HallOfFameContenders, HallOfFameContenders$HallOfFame)\n",
    "HallOfFameModel_Accuracy"
   ]
  },
  {
   "cell_type": "code",
   "execution_count": 41,
   "metadata": {
    "collapsed": false
   },
   "outputs": [],
   "source": [
    "testData = read.csv( file(\"/Users/rutuja/Documents/Current Topics - Data Science/HW4/HW4_Baseball/HW4_Baseball_HallOfFame_test.csv\"), header=TRUE )\n",
    "predictedHallOfFame <- predict(HallOfFameModel, testData)\n",
    "\n",
    "write.table(predictedHallOfFame, file=\"/Users/rutuja/Documents/Current Topics - Data Science/HW4/HW4_Baseball_HallOfFame_predictions.csv\",sep=\",\",append=TRUE,row.names=FALSE,col.names=FALSE)"
   ]
  },
  {
   "cell_type": "code",
   "execution_count": 61,
   "metadata": {
    "collapsed": false
   },
   "outputs": [],
   "source": [
    "models = cbind(MySalaryModel_RSS, \"train(log10(max_salary) ~ AB+R+H+X2B+X3B+HR+RBI+SB+CS+BB+BA+PA+SlugPct+OBP+BABIP + startYear + totalYears + birthYear + height + weight + endYear, data = RecentPlayersAndStatsAndSalary, method='cubist', preProc = c('center', 'scale'), trControl = trainControl(method = 'repeatedcv', repeats = 5))\")\n",
    "write.table(models, file=\"/Users/rutuja/Documents/Current Topics - Data Science/HW4/HW4_Baseball_Models.csv\",sep=\",\",append=TRUE,row.names=FALSE,col.names=FALSE)\n",
    "\n",
    "models = cbind(HallOfFameModel_Accuracy, \"train(HallOfFame ~ AB+R+H+X2B+X3B+HR+RBI+SB+CS+BB+BA+PA+SlugPct+OBP+BABIP+HallOfFameYear, data=upSampledData, method='cubist', preProc = c('center', 'scale'), trControl = trainControl(method = 'repeatedcv', repeats = 5))\")\n",
    "write.table(models, file=\"/Users/rutuja/Documents/Current Topics - Data Science/HW4/HW4_Baseball_Models.csv\",sep=\",\",append=TRUE,row.names=FALSE,col.names=FALSE)\n",
    "\n"
   ]
  },
  {
   "cell_type": "code",
   "execution_count": null,
   "metadata": {
    "collapsed": true
   },
   "outputs": [],
   "source": []
  }
 ],
 "metadata": {
  "kernelspec": {
   "display_name": "R",
   "language": "R",
   "name": "ir"
  },
  "language_info": {
   "codemirror_mode": "r",
   "file_extension": ".r",
   "mimetype": "text/x-r-source",
   "name": "R",
   "pygments_lexer": "r",
   "version": "3.2.2"
  }
 },
 "nbformat": 4,
 "nbformat_minor": 0
}
