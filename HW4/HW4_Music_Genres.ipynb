{
 "cells": [
  {
   "cell_type": "markdown",
   "metadata": {},
   "source": [
    "# HW4 Problem:  Classifying Music Genres\n",
    "\n",
    "This problem asks you to classify music into genres that include:  Blues, Classical, Jazz, Metal, Pop, Rock.\n",
    "\n",
    "Column 192 in the dataset is the \"GENRE\" attribute used for classification.\n",
    "The 191 columns before this are numeric features of music clips.\n",
    "<blockquote>\n",
    "A database of 60 music performers has been prepared for the competition. The material is divided into six categories: classical music, jazz, blues, pop, rock and heavy metal. For each of the performers 15-20 music pieces have been collected. All music pieces are partitioned into 20 segments and parameterized. The descriptors used in parametrization also those formulated within the MPEG-7 standard, are only listed here since they have already been thoroughly reviewed and explained in many studies.  <br /><br />The feature vector consists of 191 parameters, the first 127 parameters are based on the MPEG-7 standard, the remaining ones are cepstral coefficients descriptors and time-related dedicated parameters:<br /><br />a) parameter 1: Temporal Centroid, <br />b) parameter 2: Spectral Centroid average value, <br />c) parameter 3: Spectral Centroid variance, <br />d) parameters 4-37: Audio Spectrum Envelope (ASE)  average values in 34 frequency bands<br />e) parameter 38: ASE average value (averaged for all frequency bands)<br />f) parameters 39-72: ASE variance values in 34 frequency bands<br />g) parameter 73: averaged ASE variance parameters<br />h) parameters 74,75: Audio Spectrum Centroid -- average and variance values<br />i) parameters 76,77: Audio Spectrum Spread -- average and variance values<br />j) parameters 78-101: Spectral Flatness Measure (SFM) average values for 24 frequency bands<br />k) parameter 102: SFM average value (averaged for all frequency bands)<br />l) parameters 103-126: Spectral Flatness Measure (SFM) variance values for 24 frequency bands<br />m) parameter 127: averaged SFM variance parameters<br />n) parameters 128-147: 20 first mel cepstral coefficients average values <br />o) parameters 148-167: the same as 128-147<br />p) parameters 168-191: dedicated parameters in time domain based of the analysis of the distribution of the envelope in relation to the rms value.<br />\n",
    "</blockquote>"
   ]
  },
  {
   "cell_type": "markdown",
   "metadata": {},
   "source": [
    "The results of a contest for building classifiers for this dataset are reported in:\n",
    "<blockquote>\n",
    "http://duch.mimuw.edu.pl/~mwojnars/papers/ismis-2011-contest.pdf\n",
    "</blockquote>\n",
    "This paper offers some ideas about models to consider."
   ]
  },
  {
   "cell_type": "markdown",
   "metadata": {
    "collapsed": true
   },
   "source": [
    "#  The Goal\n",
    "\n",
    "In this assignment you are to generate the genre predictions you can for a set of test data:\n",
    "<ul><li>\n",
    "Given the file <tt>MusicGenres.csv</tt>, develop a classifier that is as accurate as possible.\n",
    "</li><li>\n",
    "Use your classifier to predict genre classifications for each row of data in <tt>MusicFeatures.csv</tt>.\n",
    "</li><li>\n",
    "Put your predictions in a .csv file called  <tt>HW4_predictions.csv</tt> and upload it to CCLE.\n",
    "</li></ul>\n",
    "\n",
    "## Step 1: download your data, using your UID\n",
    "\n",
    "<blockquote>\n",
    "\n",
    "Download the music data at:\n",
    "<br/>\n",
    "http://datamining.cs.ucla.edu/cs249/hw4/music/___PUT_YOUR_UID_HERE___.zip\n",
    "\n",
    "<br/>\n",
    "<br/>\n",
    "<i>For example, if your UID is  123456789, download the file</i>\n",
    "    http://datamining.cs.ucla.edu/cs249/hw4/music/123456789.zip\n",
    "    \n",
    "</blockquote>\n",
    "    \n",
    "This zip file has two csv data files:  a training set and a test set.\n",
    "\n",
    "## Step 2: construct a model from <tt>training_set.csv</tt>\n",
    "\n",
    "Using the <tt>training_set.csv</tt> data, construct a classifier.\n",
    "\n",
    "<br/>\n",
    "<b>YOU CAN USE ANY ENVIRONMENT YOU LIKE TO BUILD A CLASSIFIER.</b>\n",
    "Please construct the most accurate models you can.\n",
    "\n",
    "<hr style=\"border-width:20px;\">\n",
    "\n",
    "## Step 3: generate predictions from <tt>test_set.csv</tt>\n",
    "    \n",
    "The rows of file <tt>test_set.csv</tt> have input features for a number of music clips.\n",
    "Using your classifer, produce class predictions for each of them.\n",
    "\n",
    "<br/>\n",
    "Put one predicted class name per line in a CSV file <tt>HW4_Music_Predictions.csv</tt>.\n",
    "This file should also have the header line \"<tt>GENRE</tt>\".\n",
    "\n",
    "<br/>\n",
    "<i>Your score on this problem will be the accuracy of these predictions.</i>\n",
    "<br/>\n",
    "\n",
    "<hr style=\"border-width:20px;\">\n",
    "\n",
    "## Step 4: upload <tt>HW4_Music_Predictions.csv</tt> and your notebook to CCLE\n",
    "\n",
    "Finally, go to CCLE and upload:\n",
    "<ul><li>\n",
    "your output CSV file <tt>HW4_Music_Predictions.csv</tt>\n",
    "</li><li>\n",
    "your notebook file <tt>HW4_Music_Genres.ipynb</tt>\n",
    "</li></ul>\n",
    "\n",
    "We are not planning to run any of the uploaded notebooks.\n",
    "However, your notebook should have the commands you used in developing your models ---\n",
    "in order to show your work.\n",
    "As announced, all assignment grading in this course will be automated,\n",
    "and the notebook is needed in order to check results of the grading program."
   ]
  },
  {
   "cell_type": "code",
   "execution_count": 1,
   "metadata": {
    "collapsed": false
   },
   "outputs": [
    {
     "name": "stderr",
     "output_type": "stream",
     "text": [
      "Loading required package: lattice\n",
      "Loading required package: ggplot2\n",
      "\n",
      "Attaching package: ‘kernlab’\n",
      "\n",
      "The following object is masked from ‘package:ggplot2’:\n",
      "\n",
      "    alpha\n",
      "\n",
      "Loading required package: foreach\n",
      "Loading required package: iterators\n",
      "Loading required package: parallel\n"
     ]
    },
    {
     "data": {
      "text/plain": [
       "Support Vector Machines with Radial Basis Function Kernel \n",
       "\n",
       "5808 samples\n",
       " 191 predictor\n",
       "   2 classes: 'Classical', 'Jazz' \n",
       "\n",
       "Pre-processing: centered (191), scaled (191) \n",
       "Resampling: Cross-Validated (10 fold, repeated 5 times) \n",
       "Summary of sample sizes: 5227, 5228, 5226, 5226, 5227, 5228, ... \n",
       "Resampling results across tuning parameters:\n",
       "\n",
       "  C     Accuracy   Kappa      Accuracy SD  Kappa SD  \n",
       "  0.25  0.9340530  0.8674124  0.010984963  0.02211373\n",
       "  0.50  0.9513738  0.9022884  0.008552111  0.01719593\n",
       "  1.00  0.9668705  0.9334345  0.006700650  0.01347982\n",
       "\n",
       "Tuning parameter 'sigma' was held constant at a value of 0.003812233\n",
       "Accuracy was used to select the optimal model using  the largest value.\n",
       "The final values used for the model were sigma = 0.003812233 and C = 1. "
      ]
     },
     "execution_count": 1,
     "metadata": {},
     "output_type": "execute_result"
    }
   ],
   "source": [
    "music = read.csv( file(\"/Users/rutuja/Documents/Current Topics - Data Science/HW4/HW4_music_data/training_set.csv\"), header=TRUE )\n",
    "test = read.csv( file(\"/Users/rutuja/Documents/Current Topics - Data Science/HW4/HW4_music_data/test_set.csv\"), header=TRUE )\n",
    " \n",
    "library(caret)\n",
    "\n",
    "\n",
    "musicTrain <- music\n",
    "musicTest  <- test\n",
    "\n",
    "library(kernlab)\n",
    "set.seed(231)\n",
    "\n",
    "\n",
    "library(doMC)\n",
    "registerDoMC(4)\n",
    "svmFit <- train(GENRE ~ ., data = musicTrain, method = \"svmRadial\", preProc = c(\"center\", \"scale\"), trControl = trainControl(method = \"repeatedcv\", repeats = 5, classProbs = TRUE))\n",
    "svmFit\n"
   ]
  },
  {
   "cell_type": "code",
   "execution_count": 2,
   "metadata": {
    "collapsed": false
   },
   "outputs": [
    {
     "name": "stdout",
     "output_type": "stream",
     "text": [
      " Factor w/ 2 levels \"Classical\",\"Jazz\": 2 2 2 1 1 1 1 2 1 2 ...\n"
     ]
    },
    {
     "data": {
      "text/html": [
       "<table>\n",
       "<thead><tr><th></th><th scope=col>Classical</th><th scope=col>Jazz</th></tr></thead>\n",
       "<tbody>\n",
       "\t<tr><th scope=row>1</th><td>0.1414235</td><td>0.8585765</td></tr>\n",
       "\t<tr><th scope=row>2</th><td>0.1166714</td><td>0.8833286</td></tr>\n",
       "\t<tr><th scope=row>3</th><td>0.005092576</td><td>0.9949074</td></tr>\n",
       "\t<tr><th scope=row>4</th><td>0.8271298</td><td>0.1728702</td></tr>\n",
       "\t<tr><th scope=row>5</th><td>0.9998364</td><td>0.0001635534</td></tr>\n",
       "\t<tr><th scope=row>6</th><td>0.8518155</td><td>0.1481845</td></tr>\n",
       "</tbody>\n",
       "</table>\n"
      ],
      "text/latex": [
       "\\begin{tabular}{r|ll}\n",
       "  & Classical & Jazz\\\\\n",
       "\\hline\n",
       "\t1 & 0.1414235 & 0.8585765\\\\\n",
       "\t2 & 0.1166714 & 0.8833286\\\\\n",
       "\t3 & 0.005092576 & 0.9949074\\\\\n",
       "\t4 & 0.8271298 & 0.1728702\\\\\n",
       "\t5 & 0.9998364 & 0.0001635534\\\\\n",
       "\t6 & 0.8518155 & 0.1481845\\\\\n",
       "\\end{tabular}\n"
      ],
      "text/plain": [
       "    Classical         Jazz\n",
       "1 0.141423484 0.8585765165\n",
       "2 0.116671373 0.8833286267\n",
       "3 0.005092576 0.9949074244\n",
       "4 0.827129841 0.1728701588\n",
       "5 0.999836447 0.0001635534\n",
       "6 0.851815488 0.1481845122"
      ]
     },
     "execution_count": 2,
     "metadata": {},
     "output_type": "execute_result"
    },
    {
     "name": "stderr",
     "output_type": "stream",
     "text": [
      "Warning message:\n",
      "In write.table(Table, file = \"/Users/rutuja/Documents/Current Topics - Data Science/HW4/HW4_Music_Predictions.csv\", : appending column names to file"
     ]
    }
   ],
   "source": [
    "## Test set predictions\n",
    "\n",
    "predictedClasses <- predict(svmFit, musicTest)\n",
    "str(predictedClasses)\n",
    "\n",
    "## Use the \"type\" option to get class probabilities\n",
    "\n",
    "predictedProbs <- predict(svmFit, newdata = musicTest, type = \"prob\")\n",
    "head(predictedProbs)\n",
    "\n",
    "Table = predictedClasses\n",
    "write.table(Table, file=\"/Users/rutuja/Documents/Current Topics - Data Science/HW4/HW4_Music_Predictions.csv\",sep=\",\",append=TRUE,row.names=FALSE,col.names=\"GENRE\")"
   ]
  },
  {
   "cell_type": "code",
   "execution_count": null,
   "metadata": {
    "collapsed": true
   },
   "outputs": [],
   "source": []
  }
 ],
 "metadata": {
  "kernelspec": {
   "display_name": "R",
   "language": "R",
   "name": "ir"
  },
  "language_info": {
   "codemirror_mode": "r",
   "file_extension": ".r",
   "mimetype": "text/x-r-source",
   "name": "R",
   "pygments_lexer": "r",
   "version": "3.2.2"
  }
 },
 "nbformat": 4,
 "nbformat_minor": 0
}
