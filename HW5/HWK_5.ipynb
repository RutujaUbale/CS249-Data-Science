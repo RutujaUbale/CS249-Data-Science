{
 "cells": [
  {
   "cell_type": "code",
   "execution_count": 1,
   "metadata": {
    "collapsed": false
   },
   "outputs": [],
   "source": [
    "import numpy as np\n",
    "import os\n",
    "import csv\n",
    "from sklearn.metrics import accuracy_score\n",
    "from sklearn import svm\n",
    "from sklearn import cross_validation\n",
    "from sklearn.cross_validation import cross_val_score, KFold\n",
    "from sklearn.svm import SVC\n",
    "import pandas as pd\n",
    "from patsy import dmatrices\n",
    "from sklearn import datasets, svm\n",
    "from sklearn.pipeline import make_pipeline\n",
    "from sklearn import preprocessing\n",
    "from sklearn import metrics"
   ]
  },
  {
   "cell_type": "code",
   "execution_count": 2,
   "metadata": {
    "collapsed": false
   },
   "outputs": [],
   "source": [
    "df = pd.read_csv(\"HW5_jobs_data/train_data.csv\")\n",
    "\n",
    "df_train = df.drop(['JobID','Employer', 'class'], axis=1)\n",
    "df_class = df[\"class\"]"
   ]
  },
  {
   "cell_type": "markdown",
   "metadata": {},
   "source": [
    "# Using SVM"
   ]
  },
  {
   "cell_type": "code",
   "execution_count": 3,
   "metadata": {
    "collapsed": false
   },
   "outputs": [
    {
     "data": {
      "text/plain": [
       "0.89344262295081966"
      ]
     },
     "execution_count": 3,
     "metadata": {},
     "output_type": "execute_result"
    }
   ],
   "source": [
    "X_train, X_test, y_train, y_test = cross_validation.train_test_split(df_train, df_class, test_size=0.4, random_state=0)\n",
    "scaler = preprocessing.StandardScaler().fit(X_train)\n",
    "X_train_transformed = scaler.transform(X_train)\n",
    "clf = svm.SVC(kernel='linear', C=0.03125, gamma=0.5,degree=10).fit(X_train_transformed, y_train)\n",
    "X_test_transformed = scaler.transform(X_test)\n",
    "clf.score(X_test_transformed, y_test)"
   ]
  },
  {
   "cell_type": "code",
   "execution_count": 4,
   "metadata": {
    "collapsed": false
   },
   "outputs": [
    {
     "data": {
      "text/plain": [
       "0.85550082101806235"
      ]
     },
     "execution_count": 4,
     "metadata": {},
     "output_type": "execute_result"
    }
   ],
   "source": [
    "predicted = cross_validation.cross_val_predict(clf, df_train, df_class, cv=31)\n",
    "metrics.accuracy_score(df_class, predicted)"
   ]
  },
  {
   "cell_type": "markdown",
   "metadata": {},
   "source": [
    "### Using SVM predictions were about 17% DS jobs "
   ]
  },
  {
   "cell_type": "code",
   "execution_count": 5,
   "metadata": {
    "collapsed": false
   },
   "outputs": [],
   "source": [
    "df = pd.read_csv(\"HW5_jobs_data/test_data.csv\")\n",
    "df_test = df.drop(['JobID','Employer'], axis=1)\n",
    "df_test_transformed = scaler.transform(df_test)\n",
    "pred = clf.predict(df_test_transformed)"
   ]
  },
  {
   "cell_type": "markdown",
   "metadata": {},
   "source": [
    "# Using SVM Pipeline"
   ]
  },
  {
   "cell_type": "code",
   "execution_count": 6,
   "metadata": {
    "collapsed": false
   },
   "outputs": [
    {
     "name": "stdout",
     "output_type": "stream",
     "text": [
      "0.912568306011\n"
     ]
    }
   ],
   "source": [
    "n_samples = df_train.shape[0]\n",
    "cv = cross_validation.ShuffleSplit(n_samples, n_iter=3, test_size=0.1, random_state=0)\n",
    "pip_clf = make_pipeline(preprocessing.StandardScaler(), svm.SVC(kernel='linear', C=0.03125, gamma=0.5,degree=10))\n",
    "scores = cross_validation.cross_val_score(pip_clf, df_train, df_class, cv=cv)\n",
    "print scores.mean()"
   ]
  },
  {
   "cell_type": "code",
   "execution_count": 7,
   "metadata": {
    "collapsed": false
   },
   "outputs": [
    {
     "data": {
      "text/plain": [
       "0.909688013136289"
      ]
     },
     "execution_count": 7,
     "metadata": {},
     "output_type": "execute_result"
    }
   ],
   "source": [
    "predicted = cross_validation.cross_val_predict(pip_clf, df_train, df_class, cv=31)\n",
    "metrics.accuracy_score(df_class, predicted) \n",
    "#print predicted"
   ]
  },
  {
   "cell_type": "code",
   "execution_count": 8,
   "metadata": {
    "collapsed": true
   },
   "outputs": [],
   "source": [
    "df = pd.read_csv(\"HW5_jobs_data/test_data.csv\")\n",
    "df_test = df.drop(['JobID','Employer'], axis=1)"
   ]
  },
  {
   "cell_type": "code",
   "execution_count": 9,
   "metadata": {
    "collapsed": false
   },
   "outputs": [],
   "source": [
    "pip_clf.fit(df_train, df_class)\n",
    "pred_pip = pd.DataFrame(pip_clf.predict(df_test))"
   ]
  },
  {
   "cell_type": "markdown",
   "metadata": {},
   "source": [
    "### Using SVM Pipeline the predictions had about 20% DS jobs and 80% non DS jobs"
   ]
  },
  {
   "cell_type": "code",
   "execution_count": 10,
   "metadata": {
    "collapsed": false
   },
   "outputs": [],
   "source": [
    "pred_pip.to_csv('test_predictions.csv',index=False, column=False)"
   ]
  },
  {
   "cell_type": "code",
   "execution_count": 11,
   "metadata": {
    "collapsed": false
   },
   "outputs": [
    {
     "data": {
      "text/plain": [
       "array(['big_data', 'data', 'data_science', 'hadoop_tag', 'scala_tag',\n",
       "       'spark_tag', 'bigdata_tag', 'machinelearning_tag', 'oop_tag',\n",
       "       'warehouse_tag'], dtype=object)"
      ]
     },
     "execution_count": 11,
     "metadata": {},
     "output_type": "execute_result"
    }
   ],
   "source": [
    "from sklearn.datasets import load_iris\n",
    "from sklearn.feature_selection import SelectKBest\n",
    "from sklearn.feature_selection import chi2\n",
    "import numpy as np\n",
    "\n",
    "\n",
    "cols_names = df_train.columns\n",
    "cols_names = cols_names.map(lambda x: x.replace(' ', '_') if isinstance(x, (str, unicode)) else x)\n",
    "df_train.columns = cols_names\n",
    "#print cols\n",
    "\n",
    "best_features = SelectKBest(chi2, k=10)            \n",
    "XyTrain = best_features.fit_transform(df_train,df_class)\n",
    "\n",
    "feature_names = df_train.columns[best_features.get_support()]\n",
    "\n",
    "cols = feature_names\n",
    "cols = cols.map(lambda x: x.replace(' ', '_') if isinstance(x, (str, unicode)) else x)\n",
    "feature_names = cols\n",
    "feature_names"
   ]
  },
  {
   "cell_type": "code",
   "execution_count": 12,
   "metadata": {
    "collapsed": false
   },
   "outputs": [],
   "source": [
    "top_10_features = pd.DataFrame(feature_names)\n",
    "top_10_features\n",
    "top_10_features.to_csv('top_10_features.csv', header=False, index=False)"
   ]
  },
  {
   "cell_type": "code",
   "execution_count": null,
   "metadata": {
    "collapsed": true
   },
   "outputs": [],
   "source": []
  }
 ],
 "metadata": {
  "kernelspec": {
   "display_name": "Python 2",
   "language": "python",
   "name": "python2"
  },
  "language_info": {
   "codemirror_mode": {
    "name": "ipython",
    "version": 2
   },
   "file_extension": ".py",
   "mimetype": "text/x-python",
   "name": "python",
   "nbconvert_exporter": "python",
   "pygments_lexer": "ipython2",
   "version": "2.7.11"
  }
 },
 "nbformat": 4,
 "nbformat_minor": 0
}
