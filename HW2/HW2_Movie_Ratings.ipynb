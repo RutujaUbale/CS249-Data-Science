{
 "cells": [
  {
   "cell_type": "markdown",
   "metadata": {},
   "source": [
    "CS249 -- Spring 2016 -- D.S. Parker &copy; 2016"
   ]
  },
  {
   "cell_type": "markdown",
   "metadata": {},
   "source": [
    "# HW2:  The Distribution of Movie Ratings"
   ]
  },
  {
   "cell_type": "markdown",
   "metadata": {},
   "source": [
    "Movie ratings are numeric scores summarizing the quality of a movie.\n",
    "In this assignment, we study two sources of ratings:\n",
    "<ul><li>\n",
    "up-to-date, recently tweeted movie ratings (from MovieTweetings)\n",
    "</li><li>\n",
    "historical movie rating averages (from IMDb).\n",
    "</li></ul>\n",
    "\n",
    "Ratings from both of these sources are numeric values, ranging from 0 to 10.\n",
    "\n",
    "Perhaps remarkably, the distribution for the two kinds of ratings look the same.\n",
    "The goal of this assignment is to characterize the movie ratings distribution.\n",
    "\n",
    "<blockquote>\n",
    "<i style=\"color:blue;\">\n",
    "Your program is supposed to produce an output file answering four sets of questions\n",
    "(10 questions in all):\n",
    "<ul><li>\n",
    "characterizing the distribution of live MovieTweetings movie ratings\n",
    "</li><li>\n",
    "studying the differences between average and median MovieTweetings ratings.\n",
    "</li><li>\n",
    "characterizing the distribution of archival IMDb movie ratings\n",
    "</li><li>\n",
    "analyzing skewness of the Gamma distribution.\n",
    "</li></ul>\n",
    "</i>\n",
    "</blockquote>\n",
    "The details of these questions are laid out in the notebook.\n",
    "And as it explains, your program should produce a CSV file <tt>HW2_output.csv</tt> answering the questions.\n",
    "A correct output file could look like this:\n",
    "<pre>\n",
    "     lognormal,5.55555,1.11111\n",
    "     skewness,2.22222,\n",
    "     kurtosis,3.33333,\n",
    "     Batman: The Dark Knight,3.33333,8.88888\n",
    "     Batman v Superman: Dawn of Justice,9.11111,9.55555\n",
    "     lognormal,5.22222,1.44444\n",
    "     skewness,2.55555,\n",
    "     kurtosis,3.44444,\n",
    "     1,,\n",
    "     False,,\n",
    "</pre>\n",
    "This is just an example of the format of an output file; your output file will be different.\n",
    "\n",
    "\n",
    "This file characterizes the distribution of ratings as a <i>lognormal distribution</i>.\n",
    "This is not correct: the ratings distribution clearly cannot be lognormal,\n",
    "because it is <i>negatively skewed</i> (it leans to the right)\n",
    "whereas the lognormal distribution is <i>positively skewed</i> (it leans to the left).\n",
    "\n",
    "Another distribution is needed.\n",
    "The notebook suggests two possible distributions, but you job is to identify one,\n",
    "and obtain the best fit (i.e., maximal likelihood parameters) for the data.\n",
    "\n",
    "\n",
    "The notebook does not give as much guidance as the earlier assignment notebooks.\n",
    "However, this is also a short assignment.\n",
    "\n",
    "To complete this assignment, please upload two files to CCLE:\n",
    "<br/>\n",
    "<ul><li>\n",
    "your output CSV file <tt>HW2_output.csv</tt>\n",
    "</li><li>\n",
    "your notebook file <tt>HW2_Movie_Ratings.ipynb</tt> (to show your work).\n",
    "</li></ul>\n",
    "<br/>\n",
    "The notebook should have the commands you used to produce the output file.\n",
    "All assignment grading in this course will be automated, so please assume that when uploading files.\n",
    "\n",
    "We will use Paul Eggert's <b>Late Policy</b>:\n",
    "The number of days late is $N=0$ for the first 24 hrs, $N=1$ for the next 24 hrs, etc.,\n",
    "and if you submit an assignment $H$ hours late, $2^{\\lfloor H/24\\rfloor}$ points are deducted."
   ]
  },
  {
   "cell_type": "markdown",
   "metadata": {},
   "source": [
    "# Part 1:  Live Movie Ratings -- extracted from Tweets\n",
    "\n",
    "## Live Movie Ratings are available at GitHub\n",
    "\n",
    "These ratings are updated automatically online by a process scanning current Tweets;\n",
    "see the <a href=\"https://github.com/sidooms/MovieTweetings\">Movie Tweetings</a> page of\n",
    "<a href=\"https://scholar.google.be/citations?user=owaD8qkAAAAJ&hl=en\">Simon Dooms</a>.\n",
    "The information in the tweets has been digested into three tables -- about movies, users, and ratings.\n",
    "(Up-to-date snapshots and archives are also available.)"
   ]
  },
  {
   "cell_type": "code",
   "execution_count": 1,
   "metadata": {
    "collapsed": true
   },
   "outputs": [],
   "source": [
    "# bypass a problem with R reading of https connections\n",
    "remote.file = function(URL) {\n",
    "    temporaryFile <- tempfile()\n",
    "    download.file(URL,destfile=temporaryFile, method=\"curl\")\n",
    "    return( temporaryFile )\n",
    "}"
   ]
  },
  {
   "cell_type": "code",
   "execution_count": 2,
   "metadata": {
    "collapsed": false
   },
   "outputs": [
    {
     "data": {
      "text/html": [
       "<table>\n",
       "<thead><tr><th></th><th scope=col>UserID</th><th scope=col>MovieID</th><th scope=col>Rating</th><th scope=col>TwitterID</th></tr></thead>\n",
       "<tbody>\n",
       "\t<tr><th scope=row>1</th><td>1</td><td>68646</td><td>10</td><td>1381620027</td></tr>\n",
       "\t<tr><th scope=row>2</th><td>1</td><td>113277</td><td>10</td><td>1379466669</td></tr>\n",
       "\t<tr><th scope=row>3</th><td>2</td><td>422720</td><td>8</td><td>1412178746</td></tr>\n",
       "\t<tr><th scope=row>4</th><td>2</td><td>454876</td><td>8</td><td>1394818630</td></tr>\n",
       "\t<tr><th scope=row>5</th><td>2</td><td>790636</td><td>7</td><td>1389963947</td></tr>\n",
       "\t<tr><th scope=row>6</th><td>2</td><td>816711</td><td>8</td><td>1379963769</td></tr>\n",
       "</tbody>\n",
       "</table>\n"
      ],
      "text/latex": [
       "\\begin{tabular}{r|llll}\n",
       "  & UserID & MovieID & Rating & TwitterID\\\\\n",
       "\\hline\n",
       "\t1 & 1 & 68646 & 10 & 1381620027\\\\\n",
       "\t2 & 1 & 113277 & 10 & 1379466669\\\\\n",
       "\t3 & 2 & 422720 & 8 & 1412178746\\\\\n",
       "\t4 & 2 & 454876 & 8 & 1394818630\\\\\n",
       "\t5 & 2 & 790636 & 7 & 1389963947\\\\\n",
       "\t6 & 2 & 816711 & 8 & 1379963769\\\\\n",
       "\\end{tabular}\n"
      ],
      "text/plain": [
       "  UserID MovieID Rating  TwitterID\n",
       "1      1   68646     10 1381620027\n",
       "2      1  113277     10 1379466669\n",
       "3      2  422720      8 1412178746\n",
       "4      2  454876      8 1394818630\n",
       "5      2  790636      7 1389963947\n",
       "6      2  816711      8 1379963769"
      ]
     },
     "execution_count": 2,
     "metadata": {},
     "output_type": "execute_result"
    }
   ],
   "source": [
    "URL = \"https://raw.githubusercontent.com/sidooms/MovieTweetings/master/latest/ratings.dat\"\n",
    "\n",
    "Ratings = read.table( remote.file(URL), sep = \":\", header=FALSE )[,c(1,3,5,7)]\n",
    "colnames(Ratings) = c(\"UserID\", \"MovieID\", \"Rating\", \"TwitterID\")\n",
    "\n",
    "head(Ratings)\n",
    "\n",
    "# if your connection to github fails when retrieving this dataset, persist in trying"
   ]
  },
  {
   "cell_type": "code",
   "execution_count": 3,
   "metadata": {
    "collapsed": false
   },
   "outputs": [
    {
     "data": {
      "text/html": [
       "<ol class=list-inline>\n",
       "\t<li>491452</li>\n",
       "\t<li>4</li>\n",
       "</ol>\n"
      ],
      "text/latex": [
       "\\begin{enumerate*}\n",
       "\\item 491452\n",
       "\\item 4\n",
       "\\end{enumerate*}\n"
      ],
      "text/markdown": [
       "1. 491452\n",
       "2. 4\n",
       "\n",
       "\n"
      ],
      "text/plain": [
       "[1] 491452      4"
      ]
     },
     "execution_count": 3,
     "metadata": {},
     "output_type": "execute_result"
    }
   ],
   "source": [
    "dim(Ratings)  # not a tiny dataset"
   ]
  },
  {
   "cell_type": "markdown",
   "metadata": {},
   "source": [
    "## Exploration of the Live Ratings"
   ]
  },
  {
   "cell_type": "code",
   "execution_count": 4,
   "metadata": {
    "collapsed": false
   },
   "outputs": [
    {
     "data": {
      "text/plain": [
       "   Min. 1st Qu.  Median    Mean 3rd Qu.    Max. \n",
       "  0.000   6.000   7.000   7.303   9.000  10.000 "
      ]
     },
     "execution_count": 4,
     "metadata": {},
     "output_type": "execute_result"
    }
   ],
   "source": [
    "# Summary statistics\n",
    "\n",
    "summary( Ratings$Rating )"
   ]
  },
  {
   "cell_type": "code",
   "execution_count": 5,
   "metadata": {
    "collapsed": false
   },
   "outputs": [
    {
     "data": {
      "text/html": [
       "<table>\n",
       "<thead><tr><th></th><th scope=col>rating</th><th scope=col>count</th></tr></thead>\n",
       "<tbody>\n",
       "\t<tr><th scope=row>1</th><td>0</td><td>95</td></tr>\n",
       "\t<tr><th scope=row>2</th><td>1</td><td>5862</td></tr>\n",
       "\t<tr><th scope=row>3</th><td>2</td><td>5137</td></tr>\n",
       "\t<tr><th scope=row>4</th><td>3</td><td>8672</td></tr>\n",
       "\t<tr><th scope=row>5</th><td>4</td><td>16184</td></tr>\n",
       "\t<tr><th scope=row>6</th><td>5</td><td>35100</td></tr>\n",
       "\t<tr><th scope=row>7</th><td>6</td><td>64474</td></tr>\n",
       "\t<tr><th scope=row>8</th><td>7</td><td>110409</td></tr>\n",
       "\t<tr><th scope=row>9</th><td>8</td><td>119135</td></tr>\n",
       "\t<tr><th scope=row>10</th><td>9</td><td>69701</td></tr>\n",
       "\t<tr><th scope=row>11</th><td>10</td><td>56683</td></tr>\n",
       "</tbody>\n",
       "</table>\n"
      ],
      "text/latex": [
       "\\begin{tabular}{r|ll}\n",
       "  & rating & count\\\\\n",
       "\\hline\n",
       "\t1 & 0 & 95\\\\\n",
       "\t2 & 1 & 5862\\\\\n",
       "\t3 & 2 & 5137\\\\\n",
       "\t4 & 3 & 8672\\\\\n",
       "\t5 & 4 & 16184\\\\\n",
       "\t6 & 5 & 35100\\\\\n",
       "\t7 & 6 & 64474\\\\\n",
       "\t8 & 7 & 110409\\\\\n",
       "\t9 & 8 & 119135\\\\\n",
       "\t10 & 9 & 69701\\\\\n",
       "\t11 & 10 & 56683\\\\\n",
       "\\end{tabular}\n"
      ],
      "text/plain": [
       "   rating  count\n",
       "1       0     95\n",
       "2       1   5862\n",
       "3       2   5137\n",
       "4       3   8672\n",
       "5       4  16184\n",
       "6       5  35100\n",
       "7       6  64474\n",
       "8       7 110409\n",
       "9       8 119135\n",
       "10      9  69701\n",
       "11     10  56683"
      ]
     },
     "execution_count": 5,
     "metadata": {},
     "output_type": "execute_result"
    }
   ],
   "source": [
    "# Count rating values with table()\n",
    "\n",
    "CountOfRatings = as.data.frame(table( Ratings$Rating, dnn=\"rating\" ), responseName=\"count\")\n",
    "CountOfRatings"
   ]
  },
  {
   "cell_type": "code",
   "execution_count": 6,
   "metadata": {
    "collapsed": true
   },
   "outputs": [],
   "source": [
    "options( repr.plot.width=4, repr.plot.height=4 ) # control plot dimensions"
   ]
  },
  {
   "cell_type": "code",
   "execution_count": 7,
   "metadata": {
    "collapsed": false
   },
   "outputs": [
    {
     "data": {
      "image/png": "[encoded data removed]",
      "text/plain": [
       "Plot with title “Histogram of Ratings$Rating”"
      ]
     },
     "metadata": {
      "image/svg+xml": {
       "isolated": true
      }
     },
     "output_type": "display_data"
    }
   ],
   "source": [
    "# Histogram of Rating values (integer values from 0 to 10)\n",
    "\n",
    "h = hist( Ratings$Rating, breaks = 0:11, col=\"cyan\" )  # save and plot the histogram\n",
    "\n",
    "mtext( sprintf(\"histogram of %d tweeted ratings\", length(Ratings$Rating)) )"
   ]
  },
  {
   "cell_type": "code",
   "execution_count": 8,
   "metadata": {
    "collapsed": false
   },
   "outputs": [
    {
     "data": {
      "image/png": "[encoded data removed]",
      "text/plain": [
       "Plot with title “latest MovieTweetings rating values”"
      ]
     },
     "metadata": {
      "image/svg+xml": {
       "isolated": true
      }
     },
     "output_type": "display_data"
    }
   ],
   "source": [
    "barplot( h$counts, names.arg=0:10, col=\"aquamarine\",\n",
    "        main=\"latest MovieTweetings rating values\" )"
   ]
  },
  {
   "cell_type": "code",
   "execution_count": 9,
   "metadata": {
    "collapsed": false
   },
   "outputs": [
    {
     "data": {
      "image/png": "[encoded data removed]",
      "text/plain": [
       "Plot with title “Histogram of Ratings$Rating”"
      ]
     },
     "metadata": {
      "image/svg+xml": {
       "isolated": true
      }
     },
     "output_type": "display_data"
    }
   ],
   "source": [
    "hist( Ratings$Rating, probability=TRUE, col=\"palegreen\", breaks=0:11 )\n",
    "\n",
    "rating_avg = mean(Ratings$Rating)\n",
    "rating_sd  = sd(Ratings$Rating)\n",
    "\n",
    "curve( dnorm(x, mean=rating_avg, sd=rating_sd),\n",
    "      col=\"red\", add=TRUE )  #  add a curve with the normal MLE\n",
    "\n",
    "mtext(sprintf(\"Ratings with superimposed normal fit (mean %4.1f, sd %4.1f)\",\n",
    "              rating_avg, rating_sd), cex=0.65)"
   ]
  },
  {
   "cell_type": "markdown",
   "metadata": {},
   "source": [
    "# Problem 1: Find a distribution that fits the histogram of MovieTweetings Rating values"
   ]
  },
  {
   "cell_type": "markdown",
   "metadata": {
    "collapsed": true
   },
   "source": [
    "<p style=\"color:blue;\">\n",
    "<ul><li>\n",
    "<b>Question 1:</b>  <b>Give the name of a specific distribution (pdf), with maximum likelihood parameter values, that resembles the MovieTweetings Rating values (as closely as you can).</b>\n",
    "<br/><br/>\n",
    "To permit distributions like the Beta distribution to be considered,\n",
    "you can scale the rating values.\n",
    "For example, dividing the values by 10 puts them in the interval [0,1],\n",
    "as the Beta distribution requires.\n",
    "<br/><br/>\n",
    "</li><li>\n",
    "<b>Question 2:</b> determine the <a href=\"https://en.wikipedia.org/wiki/Skewness\"><b>skewness</b></a> of the MovieTweetings ratings.\n",
    "<br/><br/>\n",
    "</li><li>\n",
    "<b>Question 3:</b> determine the (excess) <a href=\"https://en.wikipedia.org/wiki/Kurtosis\"><b>kurtosis</b></a> of the MovieTweetings ratings.\n",
    "</li></ul>\n",
    "<br/><br/>\n",
    "The skewness and excess kurtosis values ought to be near zero\n",
    "if the data is normally distributed.\n",
    "Inspecting them is a simple check of whether the data follows a normal distribution.\n",
    "</p>"
   ]
  },
  {
   "cell_type": "markdown",
   "metadata": {},
   "source": [
    "## You can use the fitdistr() function in this assignment"
   ]
  },
  {
   "cell_type": "code",
   "execution_count": 10,
   "metadata": {
    "collapsed": false
   },
   "outputs": [],
   "source": [
    "not.installed = function(package_name)  !is.element(package_name, installed.packages()[,1])\n",
    "if (not.installed(\"MASS\")) install.packages(\"MASS\")\n",
    "\n",
    "library(MASS)\n",
    "\n",
    "# example(fitdistr)  #  run examples showing use of the fitdistr() function"
   ]
  },
  {
   "cell_type": "code",
   "execution_count": 11,
   "metadata": {
    "collapsed": false
   },
   "outputs": [
    {
     "data": {
      "image/png": "[encoded data removed]",
      "text/plain": [
       "Plot with title “Histogram of Ratings$Rating”"
      ]
     },
     "metadata": {
      "image/svg+xml": {
       "isolated": true
      }
     },
     "output_type": "display_data"
    }
   ],
   "source": [
    "# A start at analysis, which needs work:\n",
    "\n",
    "hist( Ratings$Rating, probability=TRUE, col=\"palegreen\", breaks=0:11 )\n",
    "\n",
    "theta = fitdistr( Ratings$Rating+1, \"lognormal\" )\n",
    "\n",
    "curve( dlnorm(x+0.5, meanlog=theta$estimate[1], sdlog=theta$estimate[2]),\n",
    "      col=\"red\", add=TRUE )  #  add a curve with the MLE fit for the lognormal density\n",
    "\n",
    "mtext( \"the lognormal distribution doesn't fit well\", col=\"red\" )\n",
    "mtext( sprintf(\"MLE parameters:  %5.2f, %5.2f\",\n",
    "               theta$estimate[1], theta$estimate[2]), side=1, col=\"blue\")"
   ]
  },
  {
   "cell_type": "markdown",
   "metadata": {},
   "source": [
    "### Problem 1 - Question 1"
   ]
  },
  {
   "cell_type": "code",
   "execution_count": 12,
   "metadata": {
    "collapsed": false
   },
   "outputs": [
    {
     "data": {
      "text/html": [
       "491452"
      ],
      "text/latex": [
       "491452"
      ],
      "text/markdown": [
       "491452"
      ],
      "text/plain": [
       "[1] 491452"
      ]
     },
     "execution_count": 12,
     "metadata": {},
     "output_type": "execute_result"
    },
    {
     "data": {
      "text/html": [
       "<ol class=list-inline>\n",
       "\t<li>0.0150218438357115</li>\n",
       "\t<li>10.9999828105792</li>\n",
       "</ol>\n"
      ],
      "text/latex": [
       "\\begin{enumerate*}\n",
       "\\item 0.0150218438357115\n",
       "\\item 10.9999828105792\n",
       "\\end{enumerate*}\n"
      ],
      "text/markdown": [
       "1. 0.0150218438357115\n",
       "2. 10.9999828105792\n",
       "\n",
       "\n"
      ],
      "text/plain": [
       "[1]  0.01502184 10.99998281"
      ]
     },
     "execution_count": 12,
     "metadata": {},
     "output_type": "execute_result"
    },
    {
     "data": {
      "text/html": [
       "<ol class=list-inline>\n",
       "\t<li>0.00136562216688286</li>\n",
       "\t<li>0.999998437325386</li>\n",
       "</ol>\n"
      ],
      "text/latex": [
       "\\begin{enumerate*}\n",
       "\\item 0.00136562216688286\n",
       "\\item 0.999998437325386\n",
       "\\end{enumerate*}\n"
      ],
      "text/markdown": [
       "1. 0.00136562216688286\n",
       "2. 0.999998437325386\n",
       "\n",
       "\n"
      ],
      "text/plain": [
       "[1] 0.001365622 0.999998437"
      ]
     },
     "execution_count": 12,
     "metadata": {},
     "output_type": "execute_result"
    },
    {
     "name": "stdout",
     "output_type": "stream",
     "text": [
      "Dataset is nonnegative\n",
      "normal 0.709414339489725 0.170912376753637\n",
      "               log-likelihood = 170861.021903\n",
      "t 0.720460947096591 0.147708368681072 7.72747257989182\n",
      "               log-likelihood = 177099.983801\n",
      "chi-squared 1.5070271035683\n",
      "               log-likelihood = -482546.409927\n",
      "lognormal -0.383815480816474 0.318890243368633\n",
      "               log-likelihood = 52971.275547\n",
      "exponential 1.40961345765761\n",
      "               log-likelihood = -322728.899443\n",
      "gamma 12.5102566389213 17.6346372299343\n",
      "               log-likelihood = 105577.021154\n",
      "logistic 0.720661464854305 0.0944716103671471\n",
      "               log-likelihood = 177039.387328\n",
      "beta 3.83515035184694 1.57006882349046\n",
      "               log-likelihood = 193963.436814\n",
      "weibull 5.00013426483781 0.772130636729446\n",
      "               log-likelihood = 180463.003679\n"
     ]
    },
    {
     "data": {
      "image/png": "[encoded data removed]",
      "text/plain": [
       "Plot with title “Histogram of Dataset”"
      ]
     },
     "metadata": {
      "image/svg+xml": {
       "isolated": true
      }
     },
     "output_type": "display_data"
    }
   ],
   "source": [
    "# include other distributions here\n",
    "Distribution_name = c(\n",
    "    \"normal\",\n",
    "    \"t\",\n",
    "    \"chi-squared\",\n",
    "    \"lognormal\",\n",
    "    \"exponential\",\n",
    "    \"gamma\",\n",
    "    \"logistic\",\n",
    "    \"beta\",\n",
    "    \"weibull\"\n",
    ")\n",
    "Distribution_can_have_negative_values = c(\n",
    "    TRUE,\n",
    "    TRUE,\n",
    "    FALSE,\n",
    "    FALSE,\n",
    "    FALSE,\n",
    "    FALSE,\n",
    "    TRUE,\n",
    "    FALSE,\n",
    "    FALSE\n",
    ")\n",
    "Distribution_function = c(\n",
    "    dnorm,\n",
    "    dt,\n",
    "    dchisq,\n",
    "    dlnorm,\n",
    "    dexp,\n",
    "    dgamma,\n",
    "    dlogis,\n",
    "    dbeta,\n",
    "    dweibull\n",
    ")\n",
    "\n",
    "Distribution_color = c(\n",
    "     \"blue\",\n",
    "    \"cyan\",\n",
    "    \"green\",\n",
    "    \"gold\",\n",
    "    \"magenta\",\n",
    "    \"red\",\n",
    "    \"purple\",\n",
    "    \"yellow\",\n",
    "    \"orange\"\n",
    ")\n",
    "\n",
    "add_curve = function( dist_name, p ) {\n",
    "    if (dist_name == \"normal\")      curve( dnorm(x, p[1], p[2] ),    col=\"blue\",   lwd=2, add=TRUE )\n",
    "    if (dist_name == \"t\")           curve( dt(x, p[1], p[2], p[3] ), col=\"cyan\",   lwd=2, add=TRUE )\n",
    "    if (dist_name == \"chi-squared\") curve( dnorm(x, p[1] ),          col=\"green\",  lwd=2, add=TRUE )\n",
    "    if (dist_name == \"lognormal\")   curve( dlnorm(x, p[1], p[2] ),   col=\"gold\",   lwd=2, add=TRUE )\n",
    "    if (dist_name == \"exponential\") curve( dexp(x, p[1] ),           col=\"magenta\",lwd=2, add=TRUE )\n",
    "    if (dist_name == \"gamma\")       curve( dgamma(x, p[1], p[2] ),   col=\"red\",    lwd=2, add=TRUE )\n",
    "    if (dist_name == \"logistic\" )   curve( dlogis(x, p[1], p[2] ),   col=\"purple\", lwd=2, add=TRUE )\n",
    "    if (dist_name == \"beta\" )       curve( dbeta(x, p[1], p[2]  ),   col=\"yellow\", lwd=2, add=TRUE )\n",
    "    if (dist_name == \"weibull\" )    curve( dweibull(x, p[1], p[2] ), col=\"orange\", lwd=2, add=TRUE )\n",
    "}\n",
    "\n",
    "n = length(Ratings$Rating)  #  These ratings are integers between 0 and 10, inclusive\n",
    "n\n",
    " \n",
    "UnroundedRatings = Ratings$Rating + runif(n)\n",
    "range(UnroundedRatings)\n",
    "#  The range of (Ratings + UniformNoise) should be the open interval (0,11)\n",
    " \n",
    "RescaledRatings = UnroundedRatings / 11.0\n",
    " \n",
    "#hist( RescaledRatings, probability=TRUE, col=\"palegreen\", breaks=seq(0,1, by=0.01) )\n",
    "range(RescaledRatings)\n",
    "# These range of these rescaled ratings should be the open interval (0,1)\n",
    "        \n",
    "\n",
    "Dataset = RescaledRatings  \n",
    "\n",
    "    \n",
    "Dataset_is_nonnegative = !any( Dataset < 0 )\n",
    "    if (Dataset_is_nonnegative) {\n",
    "        cat(\"Dataset is nonnegative\\n\")\n",
    "    } else {\n",
    "        cat(\"Dataset has some negative values, so it cannot follow nonnegative distributions\\n\")\n",
    "    }\n",
    "    \n",
    "    Dataset_is_between_0and1 = !any(Dataset < 0 ) && !any(Dataset > 1 )\n",
    "    if (!Dataset_is_between_0and1){\n",
    "        cat(\"Dataset is not between 0 and 1\\n\")\n",
    "    }\n",
    "    \n",
    "\n",
    "    hist( Dataset, probability=TRUE, col=\"palegreen\", breaks=seq(0,1, by=0.01))\n",
    "    \n",
    "    # display a histogram for each column Dataset\n",
    "    \n",
    "    legend( \"topright\", Distribution_name, col=Distribution_color, lwd=3 )\n",
    "    \n",
    "    dist_name_test = Distribution_name[1]\n",
    "    if (Distribution_can_have_negative_values[1] || Dataset_is_nonnegative) {\n",
    "            # don't fit a nonnegative distribution to data that is negative\n",
    "\n",
    "\n",
    "            if (dist_name_test == \"chi-squared\") {  # fitdistr requires special handling of chi-squared\n",
    "                fit = suppressWarnings( fitdistr( Dataset, dist_name_test,\n",
    "                                                 list(df=2), method=\"BFGS\" ) )\n",
    "            }\n",
    "            else if(dist_name_test == \"beta\"){\n",
    "                if (Dataset_is_between_0and1){\n",
    "                    fit = suppressWarnings( fitdistr( Dataset, dist_name, start=list(shape1=1, shape2=1)) )\n",
    "                }\n",
    "            }\n",
    "            else {\n",
    "                fit = suppressWarnings( fitdistr( Dataset, dist_name_test ) )\n",
    "            }\n",
    "    \n",
    "    fitted_parameters_test = fit$estimate\n",
    "    log_likelihood_test = fit$loglik\n",
    "    parameter_value_string = paste(round(fitted_parameters_test), collapse=\" \")\n",
    "    parameters_test = fitted_parameters_test\n",
    "    x1=round(parameters_test[0], 5)\n",
    "    x2=round(parameters_test[1], 5)\n",
    "    x3=round(parameters_test[2], 5)\n",
    "    }\n",
    "    \n",
    "    for (i in 1:length(Distribution_name)) {\n",
    "        dist_name = Distribution_name[i]\n",
    "        if (Distribution_can_have_negative_values[i] || Dataset_is_nonnegative) {\n",
    "            # don't fit a nonnegative distribution to data that is negative\n",
    "\n",
    "            if (dist_name == \"chi-squared\") {  # fitdistr requires special handling of chi-squared\n",
    "                fit = suppressWarnings( fitdistr( Dataset, dist_name,\n",
    "                                                 list(df=2), method=\"BFGS\" ) )\n",
    "            } \n",
    "            else if(dist_name == \"beta\" ){\n",
    "                if (Dataset_is_between_0and1){\n",
    "                    fit = suppressWarnings( fitdistr( Dataset, dist_name, start=list(shape1=1, shape2=1)) )\n",
    "                }\n",
    "                    \n",
    "            }\n",
    "            else {\n",
    "                fit = suppressWarnings( fitdistr( Dataset, dist_name ) )\n",
    "            }\n",
    "\n",
    "            # \"fit\" is the object returned by fitdistr, describing the fit\n",
    "\n",
    "            fitted_parameters = fit$estimate\n",
    "            log_likelihood = fit$loglik\n",
    "\n",
    "            parameter_value_string = paste((fitted_parameters), collapse=\" \")\n",
    "            # we round the parameter values so that they are integers.\n",
    "\n",
    "            # This is what the output is supposed to look like:\n",
    "            cat(sprintf(\"%s %s\\n\", dist_name, parameter_value_string))  \n",
    "\n",
    "            # To show how good the fit is, we also print the log-likelihood here\n",
    "            cat(sprintf(\"               log-likelihood = %f\\n\", log_likelihood))\n",
    "            \n",
    "            add_curve( dist_name, fitted_parameters )  # show the fit on the histogram\n",
    "\n",
    "            # The optimal distribution is the one with maximum-likelihood\n",
    "            #  (and:  maximum-likelihood == maximum-log-likelihood).\n",
    "            # Your program needs to determine which distribution maximizes this.\n",
    "            parameters = fitted_parameters\n",
    "            log_likelihood = round(log_likelihood)\n",
    "              if (log_likelihood>log_likelihood_test){\n",
    "                log_likelihood_test = log_likelihood\n",
    "                dist_name_test = dist_name\n",
    "                                x1=round(parameters[0], 5)\n",
    "                x2=round(parameters[1], 5)\n",
    "                x3=round(parameters[2], 5)\n",
    "                x4=round(parameters[3], 5)\n",
    "                if (is.na(x3)){\n",
    "                    x3 = \" \"\n",
    "                }\n",
    "                if(is.na(x4)){\n",
    "                    x4 = \" \"\n",
    "                }\n",
    "            }\n",
    "            \n",
    "        }\n",
    "    }\n",
    "Table2 = cbind( dist_name_test, x1, x2, x3, x4)\n",
    "write.table(Table2, file=\"HW2_output.csv\",sep=\",\",append=TRUE,row.names=FALSE,col.names=FALSE)"
   ]
  },
  {
   "cell_type": "markdown",
   "metadata": {},
   "source": [
    "### Problem 1 - Question 2 "
   ]
  },
  {
   "cell_type": "code",
   "execution_count": 13,
   "metadata": {
    "collapsed": false
   },
   "outputs": [
    {
     "data": {
      "text/html": [
       "-0.83429"
      ],
      "text/latex": [
       "-0.83429"
      ],
      "text/markdown": [
       "-0.83429"
      ],
      "text/plain": [
       "[1] -0.83429"
      ]
     },
     "execution_count": 13,
     "metadata": {},
     "output_type": "execute_result"
    }
   ],
   "source": [
    "#install.packages('moments', dependencies=TRUE, repos='http://cran.rstudio.com/')\n",
    "library(moments)\n",
    "skew1 = skewness(Ratings$Rating, na.rm = FALSE)\n",
    "skew1 = round(skew1, 5)\n",
    "skew1\n",
    "Skewness = cbind( \"skewness\", skew1)\n",
    "write.table(Skewness, file=\"HW2_output.csv\",sep=\",\",append=TRUE,row.names=FALSE,col.names=FALSE)"
   ]
  },
  {
   "cell_type": "markdown",
   "metadata": {},
   "source": [
    "### Problem 1 - Question 3"
   ]
  },
  {
   "cell_type": "code",
   "execution_count": 14,
   "metadata": {
    "collapsed": false
   },
   "outputs": [
    {
     "data": {
      "text/html": [
       "0.97456"
      ],
      "text/latex": [
       "0.97456"
      ],
      "text/markdown": [
       "0.97456"
      ],
      "text/plain": [
       "[1] 0.97456"
      ]
     },
     "execution_count": 14,
     "metadata": {},
     "output_type": "execute_result"
    }
   ],
   "source": [
    "kurt1 = kurtosis(Ratings$Rating, na.rm = FALSE)\n",
    "kurt1 = kurt1-3\n",
    "kurt1 = round(kurt1, 5)\n",
    "kurt1\n",
    "Kurtosis = cbind( \"kurtosis\", kurt1)\n",
    "write.table(Kurtosis, file=\"HW2_output.csv\",sep=\",\",append=TRUE,row.names=FALSE,col.names=FALSE)"
   ]
  },
  {
   "cell_type": "markdown",
   "metadata": {},
   "source": [
    "## \"Trending\" Movies:  movies with more than 50 current ratings"
   ]
  },
  {
   "cell_type": "code",
   "execution_count": 15,
   "metadata": {
    "collapsed": false
   },
   "outputs": [
    {
     "data": {
      "text/html": [
       "<table>\n",
       "<thead><tr><th></th><th scope=col>MovieID</th><th scope=col>NumberOfRatings</th></tr></thead>\n",
       "<tbody>\n",
       "\t<tr><th scope=row>225</th><td>21749</td><td>52</td></tr>\n",
       "\t<tr><th scope=row>235</th><td>22100</td><td>51</td></tr>\n",
       "\t<tr><th scope=row>451</th><td>27977</td><td>60</td></tr>\n",
       "\t<tr><th scope=row>555</th><td>31381</td><td>87</td></tr>\n",
       "\t<tr><th scope=row>590</th><td>32138</td><td>61</td></tr>\n",
       "\t<tr><th scope=row>655</th><td>33467</td><td>83</td></tr>\n",
       "</tbody>\n",
       "</table>\n"
      ],
      "text/latex": [
       "\\begin{tabular}{r|ll}\n",
       "  & MovieID & NumberOfRatings\\\\\n",
       "\\hline\n",
       "\t225 & 21749 & 52\\\\\n",
       "\t235 & 22100 & 51\\\\\n",
       "\t451 & 27977 & 60\\\\\n",
       "\t555 & 31381 & 87\\\\\n",
       "\t590 & 32138 & 61\\\\\n",
       "\t655 & 33467 & 83\\\\\n",
       "\\end{tabular}\n"
      ],
      "text/plain": [
       "    MovieID NumberOfRatings\n",
       "225   21749              52\n",
       "235   22100              51\n",
       "451   27977              60\n",
       "555   31381              87\n",
       "590   32138              61\n",
       "655   33467              83"
      ]
     },
     "execution_count": 15,
     "metadata": {},
     "output_type": "execute_result"
    }
   ],
   "source": [
    "NumberOfRatings = data.frame(aggregate( Rating ~ MovieID, length, data=Ratings ))\n",
    "colnames(NumberOfRatings) = c(\"MovieID\", \"NumberOfRatings\")\n",
    "\n",
    "TrendingMovies = subset( NumberOfRatings, NumberOfRatings > 50 )\n",
    "\n",
    "head(TrendingMovies)"
   ]
  },
  {
   "cell_type": "code",
   "execution_count": 16,
   "metadata": {
    "collapsed": false
   },
   "outputs": [
    {
     "data": {
      "text/html": [
       "1624"
      ],
      "text/latex": [
       "1624"
      ],
      "text/markdown": [
       "1624"
      ],
      "text/plain": [
       "[1] 1624"
      ]
     },
     "execution_count": 16,
     "metadata": {},
     "output_type": "execute_result"
    }
   ],
   "source": [
    "nrow(TrendingMovies)"
   ]
  },
  {
   "cell_type": "code",
   "execution_count": 17,
   "metadata": {
    "collapsed": false
   },
   "outputs": [
    {
     "data": {
      "text/html": [
       "2952"
      ],
      "text/latex": [
       "2952"
      ],
      "text/markdown": [
       "2952"
      ],
      "text/plain": [
       "[1] 2952"
      ]
     },
     "execution_count": 17,
     "metadata": {},
     "output_type": "execute_result"
    }
   ],
   "source": [
    "max(TrendingMovies$NumberOfRatings)"
   ]
  },
  {
   "cell_type": "markdown",
   "metadata": {},
   "source": [
    "## Averaged Ratings of Trending Movies"
   ]
  },
  {
   "cell_type": "code",
   "execution_count": 18,
   "metadata": {
    "collapsed": false
   },
   "outputs": [
    {
     "data": {
      "text/html": [
       "<table>\n",
       "<thead><tr><th></th><th scope=col>MovieID</th><th scope=col>UserID</th><th scope=col>Rating</th><th scope=col>TwitterID</th><th scope=col>NumberOfRatings</th></tr></thead>\n",
       "<tbody>\n",
       "\t<tr><th scope=row>1</th><td>21749</td><td>31733</td><td>7</td><td>1411560342</td><td>52</td></tr>\n",
       "\t<tr><th scope=row>2</th><td>21749</td><td>23184</td><td>10</td><td>1369431057</td><td>52</td></tr>\n",
       "\t<tr><th scope=row>3</th><td>21749</td><td>14803</td><td>10</td><td>1408217153</td><td>52</td></tr>\n",
       "\t<tr><th scope=row>4</th><td>21749</td><td>12736</td><td>10</td><td>1460754146</td><td>52</td></tr>\n",
       "\t<tr><th scope=row>5</th><td>21749</td><td>13801</td><td>10</td><td>1397268233</td><td>52</td></tr>\n",
       "\t<tr><th scope=row>6</th><td>21749</td><td>39198</td><td>8</td><td>1373123660</td><td>52</td></tr>\n",
       "</tbody>\n",
       "</table>\n"
      ],
      "text/latex": [
       "\\begin{tabular}{r|lllll}\n",
       "  & MovieID & UserID & Rating & TwitterID & NumberOfRatings\\\\\n",
       "\\hline\n",
       "\t1 & 21749 & 31733 & 7 & 1411560342 & 52\\\\\n",
       "\t2 & 21749 & 23184 & 10 & 1369431057 & 52\\\\\n",
       "\t3 & 21749 & 14803 & 10 & 1408217153 & 52\\\\\n",
       "\t4 & 21749 & 12736 & 10 & 1460754146 & 52\\\\\n",
       "\t5 & 21749 & 13801 & 10 & 1397268233 & 52\\\\\n",
       "\t6 & 21749 & 39198 & 8 & 1373123660 & 52\\\\\n",
       "\\end{tabular}\n"
      ],
      "text/plain": [
       "  MovieID UserID Rating  TwitterID NumberOfRatings\n",
       "1   21749  31733      7 1411560342              52\n",
       "2   21749  23184     10 1369431057              52\n",
       "3   21749  14803     10 1408217153              52\n",
       "4   21749  12736     10 1460754146              52\n",
       "5   21749  13801     10 1397268233              52\n",
       "6   21749  39198      8 1373123660              52"
      ]
     },
     "execution_count": 18,
     "metadata": {},
     "output_type": "execute_result"
    }
   ],
   "source": [
    "RatingsOfTrendingMovies = merge( Ratings, TrendingMovies, by=\"MovieID\" )  # join of tables\n",
    "head(RatingsOfTrendingMovies)"
   ]
  },
  {
   "cell_type": "code",
   "execution_count": 19,
   "metadata": {
    "collapsed": false
   },
   "outputs": [
    {
     "data": {
      "text/html": [
       "<table>\n",
       "<thead><tr><th></th><th scope=col>MovieID</th><th scope=col>Rating</th></tr></thead>\n",
       "<tbody>\n",
       "\t<tr><th scope=row>1</th><td>21749</td><td>8.730769</td></tr>\n",
       "\t<tr><th scope=row>2</th><td>22100</td><td>8.529412</td></tr>\n",
       "\t<tr><th scope=row>3</th><td>27977</td><td>8.633333</td></tr>\n",
       "\t<tr><th scope=row>4</th><td>31381</td><td>8.804598</td></tr>\n",
       "\t<tr><th scope=row>5</th><td>32138</td><td>8.721311</td></tr>\n",
       "\t<tr><th scope=row>6</th><td>33467</td><td>8.662651</td></tr>\n",
       "</tbody>\n",
       "</table>\n"
      ],
      "text/latex": [
       "\\begin{tabular}{r|ll}\n",
       "  & MovieID & Rating\\\\\n",
       "\\hline\n",
       "\t1 & 21749 & 8.730769\\\\\n",
       "\t2 & 22100 & 8.529412\\\\\n",
       "\t3 & 27977 & 8.633333\\\\\n",
       "\t4 & 31381 & 8.804598\\\\\n",
       "\t5 & 32138 & 8.721311\\\\\n",
       "\t6 & 33467 & 8.662651\\\\\n",
       "\\end{tabular}\n"
      ],
      "text/plain": [
       "  MovieID   Rating\n",
       "1   21749 8.730769\n",
       "2   22100 8.529412\n",
       "3   27977 8.633333\n",
       "4   31381 8.804598\n",
       "5   32138 8.721311\n",
       "6   33467 8.662651"
      ]
     },
     "execution_count": 19,
     "metadata": {},
     "output_type": "execute_result"
    },
    {
     "data": {
      "image/png": "[encoded data removed]",
      "text/plain": [
       "Plot with title “avg trending MovieTweeting ratings”"
      ]
     },
     "metadata": {
      "image/svg+xml": {
       "isolated": true
      }
     },
     "output_type": "display_data"
    }
   ],
   "source": [
    "AveragedRatingsOfTrendingMovies = aggregate( Rating ~ MovieID, mean, data=RatingsOfTrendingMovies )\n",
    "head(AveragedRatingsOfTrendingMovies)\n",
    "\n",
    "hist(AveragedRatingsOfTrendingMovies$Rating, breaks=25,\n",
    "     col=\"orange\", main=\"avg trending MovieTweeting ratings\")"
   ]
  },
  {
   "cell_type": "code",
   "execution_count": 20,
   "metadata": {
    "collapsed": false
   },
   "outputs": [
    {
     "data": {
      "text/html": [
       "9.43649635036496"
      ],
      "text/latex": [
       "9.43649635036496"
      ],
      "text/markdown": [
       "9.43649635036496"
      ],
      "text/plain": [
       "[1] 9.436496"
      ]
     },
     "execution_count": 20,
     "metadata": {},
     "output_type": "execute_result"
    }
   ],
   "source": [
    "maxAveragedRating = max(AveragedRatingsOfTrendingMovies$Rating)\n",
    "maxAveragedRating"
   ]
  },
  {
   "cell_type": "markdown",
   "metadata": {},
   "source": [
    "# Download the corresponding MovieTweetings movie Name &amp; Genre information"
   ]
  },
  {
   "cell_type": "code",
   "execution_count": 21,
   "metadata": {
    "collapsed": false
   },
   "outputs": [
    {
     "data": {
      "text/html": [
       "<table>\n",
       "<thead><tr><th scope=col>MovieID</th><th scope=col>MovieTitle</th><th scope=col>Year</th><th scope=col>Genres</th></tr></thead>\n",
       "<tbody>\n",
       "\t<tr><td>0000008                               </td><td>Edison Kinetoscopic Record of a Sneeze</td><td>1894                                  </td><td>Documentary|Short                     </td></tr>\n",
       "\t<tr><td>0000010                     </td><td>La sortie des usines Lumière</td><td>1895                        </td><td>Documentary|Short           </td></tr>\n",
       "\t<tr><td>0000012               </td><td>The Arrival of a Train</td><td>1896                  </td><td>Documentary|Short     </td></tr>\n",
       "\t<tr><td>0000091            </td><td>Le manoir du diable</td><td>1896               </td><td>Short|Horror       </td></tr>\n",
       "\t<tr><td>0000417                </td><td>Le voyage dans la lune </td><td>1902                   </td><td>Short|Adventure|Fantasy</td></tr>\n",
       "\t<tr><td>0000439                </td><td>The Great Train Robbery</td><td>1903                   </td><td>Short|Action|Crime     </td></tr>\n",
       "</tbody>\n",
       "</table>\n"
      ],
      "text/latex": [
       "\\begin{tabular}{llll}\n",
       " MovieID & MovieTitle & Year & Genres\\\\\n",
       "\\hline\n",
       "\t 0000008                                & Edison Kinetoscopic Record of a Sneeze & 1894                                   & Documentary|Short                     \\\\\n",
       "\t 0000010                      & La sortie des usines Lumière & 1895                         & Documentary|Short           \\\\\n",
       "\t 0000012                & The Arrival of a Train & 1896                   & Documentary|Short     \\\\\n",
       "\t 0000091             & Le manoir du diable & 1896                & Short|Horror       \\\\\n",
       "\t 0000417                 & Le voyage dans la lune  & 1902                    & Short|Adventure|Fantasy\\\\\n",
       "\t 0000439                 & The Great Train Robbery & 1903                    & Short|Action|Crime     \\\\\n",
       "\\end{tabular}\n"
      ],
      "text/markdown": [
       "1. '0000008'\n",
       "2. '0000010'\n",
       "3. '0000012'\n",
       "4. '0000091'\n",
       "5. '0000417'\n",
       "6. '0000439'\n",
       "7. 'Edison Kinetoscopic Record of a Sneeze'\n",
       "8. 'La sortie des usines Lumière'\n",
       "9. 'The Arrival of a Train'\n",
       "10. 'Le manoir du diable'\n",
       "11. 'Le voyage dans la lune'\n",
       "12. 'The Great Train Robbery'\n",
       "13. '1894'\n",
       "14. '1895'\n",
       "15. '1896'\n",
       "16. '1896'\n",
       "17. '1902'\n",
       "18. '1903'\n",
       "19. 'Documentary|Short'\n",
       "20. 'Documentary|Short'\n",
       "21. 'Documentary|Short'\n",
       "22. 'Short|Horror'\n",
       "23. 'Short|Adventure|Fantasy'\n",
       "24. 'Short|Action|Crime'\n",
       "\n",
       "\n"
      ],
      "text/plain": [
       "     MovieID   MovieTitle                               Year  \n",
       "[1,] \"0000008\" \"Edison Kinetoscopic Record of a Sneeze\" \"1894\"\n",
       "[2,] \"0000010\" \"La sortie des usines Lumière\"           \"1895\"\n",
       "[3,] \"0000012\" \"The Arrival of a Train\"                 \"1896\"\n",
       "[4,] \"0000091\" \"Le manoir du diable\"                    \"1896\"\n",
       "[5,] \"0000417\" \"Le voyage dans la lune\"                 \"1902\"\n",
       "[6,] \"0000439\" \"The Great Train Robbery\"                \"1903\"\n",
       "     Genres                   \n",
       "[1,] \"Documentary|Short\"      \n",
       "[2,] \"Documentary|Short\"      \n",
       "[3,] \"Documentary|Short\"      \n",
       "[4,] \"Short|Horror\"           \n",
       "[5,] \"Short|Adventure|Fantasy\"\n",
       "[6,] \"Short|Action|Crime\"     "
      ]
     },
     "execution_count": 21,
     "metadata": {},
     "output_type": "execute_result"
    }
   ],
   "source": [
    "URL = \"https://raw.githubusercontent.com/sidooms/MovieTweetings/master/latest/movies.dat\"\n",
    "MovieText = readLines( remote.file(URL) )\n",
    "Movies = matrix( sapply( MovieText,\n",
    "                function(x) unlist(strsplit(sub(\" [(]([0-9]+)[)]\", \"::\\\\1\",x),\"::\"))[1:4] ),\n",
    "                nrow=length(MovieText), ncol=4, byrow=TRUE )\n",
    "colnames(Movies) = c(\"MovieID\", \"MovieTitle\", \"Year\", \"Genres\")\n",
    "\n",
    "head(Movies)"
   ]
  },
  {
   "cell_type": "markdown",
   "metadata": {},
   "source": [
    "## joining the Ratings and Trending Movie information"
   ]
  },
  {
   "cell_type": "code",
   "execution_count": 22,
   "metadata": {
    "collapsed": false
   },
   "outputs": [
    {
     "data": {
      "text/html": [
       "<table>\n",
       "<thead><tr><th></th><th scope=col>MovieID</th><th scope=col>UserID</th><th scope=col>Rating</th><th scope=col>TwitterID</th><th scope=col>NumberOfRatings</th><th scope=col>MovieTitle</th><th scope=col>Year</th><th scope=col>Genres</th></tr></thead>\n",
       "<tbody>\n",
       "\t<tr><th scope=row>1</th><td>1001526</td><td>18464</td><td>8</td><td>1440953420</td><td>59</td><td>Megamind</td><td>2010</td><td>Animation|Action|Comedy</td></tr>\n",
       "\t<tr><th scope=row>2</th><td>1001526</td><td>5436</td><td>7</td><td>1383981834</td><td>59</td><td>Megamind</td><td>2010</td><td>Animation|Action|Comedy</td></tr>\n",
       "\t<tr><th scope=row>3</th><td>1001526</td><td>30479</td><td>6</td><td>1391912795</td><td>59</td><td>Megamind</td><td>2010</td><td>Animation|Action|Comedy</td></tr>\n",
       "\t<tr><th scope=row>4</th><td>1001526</td><td>20883</td><td>8</td><td>1402323417</td><td>59</td><td>Megamind</td><td>2010</td><td>Animation|Action|Comedy</td></tr>\n",
       "\t<tr><th scope=row>5</th><td>1001526</td><td>15718</td><td>7</td><td>1388871992</td><td>59</td><td>Megamind</td><td>2010</td><td>Animation|Action|Comedy</td></tr>\n",
       "\t<tr><th scope=row>6</th><td>1001526</td><td>24539</td><td>7</td><td>1394732974</td><td>59</td><td>Megamind</td><td>2010</td><td>Animation|Action|Comedy</td></tr>\n",
       "</tbody>\n",
       "</table>\n"
      ],
      "text/latex": [
       "\\begin{tabular}{r|llllllll}\n",
       "  & MovieID & UserID & Rating & TwitterID & NumberOfRatings & MovieTitle & Year & Genres\\\\\n",
       "\\hline\n",
       "\t1 & 1001526 & 18464 & 8 & 1440953420 & 59 & Megamind & 2010 & Animation|Action|Comedy\\\\\n",
       "\t2 & 1001526 & 5436 & 7 & 1383981834 & 59 & Megamind & 2010 & Animation|Action|Comedy\\\\\n",
       "\t3 & 1001526 & 30479 & 6 & 1391912795 & 59 & Megamind & 2010 & Animation|Action|Comedy\\\\\n",
       "\t4 & 1001526 & 20883 & 8 & 1402323417 & 59 & Megamind & 2010 & Animation|Action|Comedy\\\\\n",
       "\t5 & 1001526 & 15718 & 7 & 1388871992 & 59 & Megamind & 2010 & Animation|Action|Comedy\\\\\n",
       "\t6 & 1001526 & 24539 & 7 & 1394732974 & 59 & Megamind & 2010 & Animation|Action|Comedy\\\\\n",
       "\\end{tabular}\n"
      ],
      "text/plain": [
       "  MovieID UserID Rating  TwitterID NumberOfRatings MovieTitle Year\n",
       "1 1001526  18464      8 1440953420              59   Megamind 2010\n",
       "2 1001526   5436      7 1383981834              59   Megamind 2010\n",
       "3 1001526  30479      6 1391912795              59   Megamind 2010\n",
       "4 1001526  20883      8 1402323417              59   Megamind 2010\n",
       "5 1001526  15718      7 1388871992              59   Megamind 2010\n",
       "6 1001526  24539      7 1394732974              59   Megamind 2010\n",
       "                   Genres\n",
       "1 Animation|Action|Comedy\n",
       "2 Animation|Action|Comedy\n",
       "3 Animation|Action|Comedy\n",
       "4 Animation|Action|Comedy\n",
       "5 Animation|Action|Comedy\n",
       "6 Animation|Action|Comedy"
      ]
     },
     "execution_count": 22,
     "metadata": {},
     "output_type": "execute_result"
    }
   ],
   "source": [
    "Ratings_and_Movies = merge( RatingsOfTrendingMovies, Movies, by=\"MovieID\" )\n",
    "\n",
    "head(Ratings_and_Movies)"
   ]
  },
  {
   "cell_type": "code",
   "execution_count": 23,
   "metadata": {
    "collapsed": false
   },
   "outputs": [
    {
     "data": {
      "text/html": [
       "<table>\n",
       "<thead><tr><th></th><th scope=col>MovieID</th><th scope=col>Rating</th></tr></thead>\n",
       "<tbody>\n",
       "\t<tr><th scope=row>191</th><td>111161</td><td>9.436496</td></tr>\n",
       "</tbody>\n",
       "</table>\n"
      ],
      "text/latex": [
       "\\begin{tabular}{r|ll}\n",
       "  & MovieID & Rating\\\\\n",
       "\\hline\n",
       "\t191 & 111161 & 9.436496\\\\\n",
       "\\end{tabular}\n"
      ],
      "text/plain": [
       "    MovieID   Rating\n",
       "191  111161 9.436496"
      ]
     },
     "execution_count": 23,
     "metadata": {},
     "output_type": "execute_result"
    }
   ],
   "source": [
    "HotTrendingMovies = subset(AveragedRatingsOfTrendingMovies, Rating == maxAveragedRating)\n",
    "HotTrendingMovies"
   ]
  },
  {
   "cell_type": "markdown",
   "metadata": {},
   "source": [
    "# Problem 2:  Compare Average vs. Median Rating values for Trending Movies"
   ]
  },
  {
   "cell_type": "markdown",
   "metadata": {
    "collapsed": true
   },
   "source": [
    "<p style=\"color:blue;\">\n",
    "After computing Average and Median Rating values for each Trending Movie in the MovieTweetings data:\n",
    "<ul style=\"color:blue;\"><li>\n",
    "<b>Question 4:</b> find the <b>name of the movie with the highest Average Rating</b> (and also list its Median Rating and Average Rating).\n",
    "If there is more than one such movie, select any one.\n",
    "<br/><br/>\n",
    "</li><li>\n",
    "<b>Question 5:</b> find the <b>name of the movie with the largest difference |Median Rating - Average Rating|</b> (and also list its Median Rating and Average Rating).\n",
    "If there is more than one such movie, select any one.\n",
    "</li></ul>\n",
    "</p>\n",
    "<p style=\"color:blue;\">For describing a skewed distribution, the median can be more informative than the mean.\n",
    "</p>"
   ]
  },
  {
   "cell_type": "markdown",
   "metadata": {},
   "source": [
    "### Problem 2 - Question 4"
   ]
  },
  {
   "cell_type": "code",
   "execution_count": 24,
   "metadata": {
    "collapsed": false
   },
   "outputs": [
    {
     "data": {
      "text/html": [
       "<table>\n",
       "<thead><tr><th></th><th scope=col>MovieID</th><th scope=col>Rating</th></tr></thead>\n",
       "<tbody>\n",
       "\t<tr><th scope=row>191</th><td>111161</td><td>9.436496</td></tr>\n",
       "</tbody>\n",
       "</table>\n"
      ],
      "text/latex": [
       "\\begin{tabular}{r|ll}\n",
       "  & MovieID & Rating\\\\\n",
       "\\hline\n",
       "\t191 & 111161 & 9.436496\\\\\n",
       "\\end{tabular}\n"
      ],
      "text/plain": [
       "    MovieID   Rating\n",
       "191  111161 9.436496"
      ]
     },
     "execution_count": 24,
     "metadata": {},
     "output_type": "execute_result"
    },
    {
     "data": {
      "text/html": [
       "<ol class=list-inline>\n",
       "\t<li>' 111161'</li>\n",
       "\t<li>'The Shawshank Redemption'</li>\n",
       "\t<li>'1994'</li>\n",
       "\t<li>'Crime|Drama'</li>\n",
       "</ol>\n"
      ],
      "text/latex": [
       "\\begin{enumerate*}\n",
       "\\item ' 111161'\n",
       "\\item 'The Shawshank Redemption'\n",
       "\\item '1994'\n",
       "\\item 'Crime|Drama'\n",
       "\\end{enumerate*}\n"
      ],
      "text/markdown": [
       "1. ' 111161'\n",
       "2. 'The Shawshank Redemption'\n",
       "3. '1994'\n",
       "4. 'Crime|Drama'\n",
       "\n",
       "\n"
      ],
      "text/plain": [
       "[1] \" 111161\"                  \"The Shawshank Redemption\"\n",
       "[3] \"1994\"                     \"Crime|Drama\"             "
      ]
     },
     "execution_count": 24,
     "metadata": {},
     "output_type": "execute_result"
    },
    {
     "data": {
      "text/html": [
       "<table>\n",
       "<thead><tr><th></th><th scope=col>MovieID</th><th scope=col>Rating</th></tr></thead>\n",
       "<tbody>\n",
       "\t<tr><th scope=row>191</th><td>111161</td><td>10</td></tr>\n",
       "</tbody>\n",
       "</table>\n"
      ],
      "text/latex": [
       "\\begin{tabular}{r|ll}\n",
       "  & MovieID & Rating\\\\\n",
       "\\hline\n",
       "\t191 & 111161 & 10\\\\\n",
       "\\end{tabular}\n"
      ],
      "text/plain": [
       "    MovieID Rating\n",
       "191  111161     10"
      ]
     },
     "execution_count": 24,
     "metadata": {},
     "output_type": "execute_result"
    }
   ],
   "source": [
    "NumberOfRatings = data.frame(aggregate( Rating ~ MovieID, length, data=Ratings ))\n",
    "colnames(NumberOfRatings) = c(\"MovieID\", \"NumberOfRatings\")\n",
    "TrendingMovies = subset( NumberOfRatings, NumberOfRatings > 50 )\n",
    "\n",
    "RatingsOfTrendingMovies = merge( Ratings, TrendingMovies, by=\"MovieID\" )  # join of tables\n",
    "\n",
    "AveragedRatingsOfTrendingMovies = aggregate( Rating ~ MovieID, mean, data=RatingsOfTrendingMovies )\n",
    "maxAveragedRating = max(AveragedRatingsOfTrendingMovies$Rating)\n",
    "\n",
    "MedianRatings = aggregate( Rating ~ MovieID, median, data=RatingsOfTrendingMovies)\n",
    "\n",
    "\n",
    "HotTrendingMovies = subset(AveragedRatingsOfTrendingMovies, Rating == maxAveragedRating)\n",
    "HotTrendingMovies\n",
    "\n",
    "Movies = data.frame(Movies)\n",
    "Movies$MovieID = as.numeric(as.character(Movies$MovieID))\n",
    "\n",
    "\n",
    "MovieHighestAverageRating =  Movies[Movies[\"MovieID\"] == HotTrendingMovies$MovieID]\n",
    "MovieHighestAverageRating\n",
    "\n",
    "MovieHighestAverageRating_Median = subset(MedianRatings, MedianRatings$MovieID == HotTrendingMovies$MovieID)\n",
    "MovieHighestAverageRating_Median\n",
    "\n",
    "Table = cbind(MovieHighestAverageRating[2], round(MovieHighestAverageRating_Median$Rating, 5), round(maxAveragedRating, 5))\n",
    "\n",
    "write.table(Table, file=\"HW2_output.csv\",sep=\",\",append=TRUE,row.names=FALSE,col.names=FALSE)"
   ]
  },
  {
   "cell_type": "markdown",
   "metadata": {},
   "source": [
    "### Problem 2 - Question 5"
   ]
  },
  {
   "cell_type": "code",
   "execution_count": 25,
   "metadata": {
    "collapsed": false
   },
   "outputs": [
    {
     "data": {
      "text/html": [
       "2.43362831858407"
      ],
      "text/latex": [
       "2.43362831858407"
      ],
      "text/markdown": [
       "2.43362831858407"
      ],
      "text/plain": [
       "[1] 2.433628"
      ]
     },
     "execution_count": 25,
     "metadata": {},
     "output_type": "execute_result"
    }
   ],
   "source": [
    "AveragedRatingsOfTrendingMovies = aggregate( Rating ~ MovieTitle, mean, data=Ratings_and_Movies )\n",
    "#head(AveragedRatingsOfTrendingMovies)\n",
    "\n",
    "#maxAveragedRating = max(AveragedRatingsOfTrendingMovies$Rating)\n",
    "\n",
    "MedianRatingsOfTrendingMovies = aggregate( Rating ~ MovieTitle, median , data=Ratings_and_Movies)\n",
    "#head(MedianRatingsOfTrendingMovies)\n",
    "\n",
    "AveragedMedianRatingsOfTrendingMovies = merge( MedianRatingsOfTrendingMovies, AveragedRatingsOfTrendingMovies, by=\"MovieTitle\" )  # join of tables\n",
    "colnames(AveragedMedianRatingsOfTrendingMovies) = c(\"MovieTitle\", \"MedianRating\", \"AverageRating\")\n",
    "#head(AveragedMedianRatingsOfTrendingMovies)\n",
    "\n",
    "MaxDifferenceRating = max(abs((AveragedMedianRatingsOfTrendingMovies$MedianRating)-(AveragedMedianRatingsOfTrendingMovies$AverageRating)))\n",
    "MaxDifferenceRating\n",
    "\n",
    "MovieHighestDifferenceRating = subset(AveragedMedianRatingsOfTrendingMovies, (MedianRating - AverageRating) == MaxDifferenceRating)\n",
    "MovieHighestDifferenceRating$MedianRating = round(MovieHighestDifferenceRating$MedianRating, 5)\n",
    "MovieHighestDifferenceRating$AverageRating = round(MovieHighestDifferenceRating$AverageRating, 5)\n",
    "\n",
    "write.table(MovieHighestDifferenceRating, file=\"HW2_output.csv\",sep=\",\",append=TRUE,row.names=FALSE,col.names=FALSE)"
   ]
  },
  {
   "cell_type": "markdown",
   "metadata": {},
   "source": [
    "# Part 2.  Historical Movie Ratings -- from IMDb\n",
    "\n",
    "In this part we analyze an historical dataset of movies with ratings from IMDb."
   ]
  },
  {
   "cell_type": "code",
   "execution_count": 26,
   "metadata": {
    "collapsed": false
   },
   "outputs": [
    {
     "data": {
      "text/html": [
       "<ol class=list-inline>\n",
       "\t<li>58788</li>\n",
       "\t<li>24</li>\n",
       "</ol>\n"
      ],
      "text/latex": [
       "\\begin{enumerate*}\n",
       "\\item 58788\n",
       "\\item 24\n",
       "\\end{enumerate*}\n"
      ],
      "text/markdown": [
       "1. 58788\n",
       "2. 24\n",
       "\n",
       "\n"
      ],
      "text/plain": [
       "[1] 58788    24"
      ]
     },
     "execution_count": 26,
     "metadata": {},
     "output_type": "execute_result"
    }
   ],
   "source": [
    "#  source is at: https://github.com/hadley/ggplot2movies\n",
    "\n",
    "if (not.installed(\"ggplot2movies\")) install.packages(\"ggplot2movies\")\n",
    "\n",
    "library(ggplot2movies)\n",
    "\n",
    "data(movies)\n",
    "\n",
    "dim(movies)  # also not a tiny dataset"
   ]
  },
  {
   "cell_type": "code",
   "execution_count": 27,
   "metadata": {
    "collapsed": false
   },
   "outputs": [
    {
     "data": {
      "text/plain": [
       "    title                year          length            budget         \n",
       " Length:58788       Min.   :1893   Min.   :   1.00   Min.   :        0  \n",
       " Class :character   1st Qu.:1958   1st Qu.:  74.00   1st Qu.:   250000  \n",
       " Mode  :character   Median :1983   Median :  90.00   Median :  3000000  \n",
       "                    Mean   :1976   Mean   :  82.34   Mean   : 13412513  \n",
       "                    3rd Qu.:1997   3rd Qu.: 100.00   3rd Qu.: 15000000  \n",
       "                    Max.   :2005   Max.   :5220.00   Max.   :200000000  \n",
       "                                                     NA's   :53573      \n",
       "     rating           votes                r1                r2        \n",
       " Min.   : 1.000   Min.   :     5.0   Min.   :  0.000   Min.   : 0.000  \n",
       " 1st Qu.: 5.000   1st Qu.:    11.0   1st Qu.:  0.000   1st Qu.: 0.000  \n",
       " Median : 6.100   Median :    30.0   Median :  4.500   Median : 4.500  \n",
       " Mean   : 5.933   Mean   :   632.1   Mean   :  7.014   Mean   : 4.022  \n",
       " 3rd Qu.: 7.000   3rd Qu.:   112.0   3rd Qu.:  4.500   3rd Qu.: 4.500  \n",
       " Max.   :10.000   Max.   :157608.0   Max.   :100.000   Max.   :84.500  \n",
       "                                                                       \n",
       "       r3               r4                r5                r6       \n",
       " Min.   : 0.000   Min.   :  0.000   Min.   :  0.000   Min.   : 0.00  \n",
       " 1st Qu.: 0.000   1st Qu.:  0.000   1st Qu.:  4.500   1st Qu.: 4.50  \n",
       " Median : 4.500   Median :  4.500   Median :  4.500   Median :14.50  \n",
       " Mean   : 4.721   Mean   :  6.375   Mean   :  9.797   Mean   :13.04  \n",
       " 3rd Qu.: 4.500   3rd Qu.:  4.500   3rd Qu.: 14.500   3rd Qu.:14.50  \n",
       " Max.   :84.500   Max.   :100.000   Max.   :100.000   Max.   :84.50  \n",
       "                                                                     \n",
       "       r7               r8               r9               r10        \n",
       " Min.   :  0.00   Min.   :  0.00   Min.   :  0.000   Min.   :  0.00  \n",
       " 1st Qu.:  4.50   1st Qu.:  4.50   1st Qu.:  4.500   1st Qu.:  4.50  \n",
       " Median : 14.50   Median : 14.50   Median :  4.500   Median : 14.50  \n",
       " Mean   : 15.55   Mean   : 13.88   Mean   :  8.954   Mean   : 16.85  \n",
       " 3rd Qu.: 24.50   3rd Qu.: 24.50   3rd Qu.: 14.500   3rd Qu.: 24.50  \n",
       " Max.   :100.00   Max.   :100.00   Max.   :100.000   Max.   :100.00  \n",
       "                                                                     \n",
       "     mpaa               Action          Animation           Comedy      \n",
       " Length:58788       Min.   :0.00000   Min.   :0.00000   Min.   :0.0000  \n",
       " Class :character   1st Qu.:0.00000   1st Qu.:0.00000   1st Qu.:0.0000  \n",
       " Mode  :character   Median :0.00000   Median :0.00000   Median :0.0000  \n",
       "                    Mean   :0.07974   Mean   :0.06277   Mean   :0.2938  \n",
       "                    3rd Qu.:0.00000   3rd Qu.:0.00000   3rd Qu.:1.0000  \n",
       "                    Max.   :1.00000   Max.   :1.00000   Max.   :1.0000  \n",
       "                                                                        \n",
       "     Drama        Documentary         Romance           Short       \n",
       " Min.   :0.000   Min.   :0.00000   Min.   :0.0000   Min.   :0.0000  \n",
       " 1st Qu.:0.000   1st Qu.:0.00000   1st Qu.:0.0000   1st Qu.:0.0000  \n",
       " Median :0.000   Median :0.00000   Median :0.0000   Median :0.0000  \n",
       " Mean   :0.371   Mean   :0.05906   Mean   :0.0807   Mean   :0.1609  \n",
       " 3rd Qu.:1.000   3rd Qu.:0.00000   3rd Qu.:0.0000   3rd Qu.:0.0000  \n",
       " Max.   :1.000   Max.   :1.00000   Max.   :1.0000   Max.   :1.0000  \n",
       "                                                                    "
      ]
     },
     "execution_count": 27,
     "metadata": {},
     "output_type": "execute_result"
    },
    {
     "data": {
      "text/html": [
       "\n",
       "<table width=\"100%\" summary=\"page for movies {ggplot2movies}\"><tr><td>movies {ggplot2movies}</td><td style=\"text-align: right;\">R Documentation</td></tr></table>\n",
       "\n",
       "<h2>Movie information and user ratings from IMDB.com.</h2>\n",
       "\n",
       "<h3>Description</h3>\n",
       "\n",
       "<p>The internet movie database, <a href=\"http://imdb.com/\">http://imdb.com/</a>, is a website devoted\n",
       "to collecting movie data supplied by studios and fans.  It claims to be the\n",
       "biggest movie database on the web and is run by amazon.  More about\n",
       "information imdb.com can be found online,\n",
       "<a href=\"http://imdb.com/help/show_leaf?about\">http://imdb.com/help/show_leaf?about</a>, including information about\n",
       "the data collection process,\n",
       "<a href=\"http://imdb.com/help/show_leaf?infosource\">http://imdb.com/help/show_leaf?infosource</a>.\n",
       "</p>\n",
       "\n",
       "\n",
       "<h3>Usage</h3>\n",
       "\n",
       "<pre>\n",
       "movies\n",
       "</pre>\n",
       "\n",
       "\n",
       "<h3>Format</h3>\n",
       "\n",
       "<p>A data frame with 28819 rows and 24 variables\n",
       "</p>\n",
       "\n",
       "<ul>\n",
       "<li><p> title.  Title of the movie.\n",
       "</p>\n",
       "</li>\n",
       "<li><p> year.  Year of release.\n",
       "</p>\n",
       "</li>\n",
       "<li><p> budget.  Total budget (if known) in US dollars\n",
       "</p>\n",
       "</li>\n",
       "<li><p> length.  Length in minutes.\n",
       "</p>\n",
       "</li>\n",
       "<li><p> rating.  Average IMDB user rating.\n",
       "</p>\n",
       "</li>\n",
       "<li><p> votes.  Number of IMDB users who rated this movie.\n",
       "</p>\n",
       "</li>\n",
       "<li><p> r1-10.  Multiplying by ten gives percentile (to nearest 10%) of\n",
       "users who rated this movie a 1.\n",
       "</p>\n",
       "</li>\n",
       "<li><p> mpaa.  MPAA rating.\n",
       "</p>\n",
       "</li>\n",
       "<li><p> action, animation, comedy, drama, documentary, romance, short.\n",
       "Binary variables representing if movie was classified as belonging to that genre.\n",
       "</p>\n",
       "</li></ul>\n",
       "\n",
       "\n",
       "<h3>Details</h3>\n",
       "\n",
       "<p>Movies were selected for inclusion if they had a known length and had been\n",
       "rated by at least one imdb user.\n",
       "</p>\n",
       "\n",
       "\n",
       "<h3>References</h3>\n",
       "\n",
       "<p><a href=\"http://had.co.nz/data/movies/\">http://had.co.nz/data/movies/</a>\n",
       "</p>\n",
       "\n",
       "\n",
       "<h3>Examples</h3>\n",
       "\n",
       "<pre>\n",
       "dim(movies)\n",
       "head(movies)\n",
       "</pre>\n",
       "\n",
       "<hr /><div style=\"text-align: center;\">[Package <em>ggplot2movies</em> version 0.0.1 ]</div>"
      ],
      "text/latex": [
       "\\inputencoding{utf8}\n",
       "\\HeaderA{movies}{Movie information and user ratings from IMDB.com.}{movies}\n",
       "\\keyword{datasets}{movies}\n",
       "%\n",
       "\\begin{Description}\\relax\n",
       "The internet movie database, \\url{http://imdb.com/}, is a website devoted\n",
       "to collecting movie data supplied by studios and fans.  It claims to be the\n",
       "biggest movie database on the web and is run by amazon.  More about\n",
       "information imdb.com can be found online,\n",
       "\\url{http://imdb.com/help/show_leaf?about}, including information about\n",
       "the data collection process,\n",
       "\\url{http://imdb.com/help/show_leaf?infosource}.\n",
       "\\end{Description}\n",
       "%\n",
       "\\begin{Usage}\n",
       "\\begin{verbatim}\n",
       "movies\n",
       "\\end{verbatim}\n",
       "\\end{Usage}\n",
       "%\n",
       "\\begin{Format}\n",
       "A data frame with 28819 rows and 24 variables\n",
       "\\begin{itemize}\n",
       "\n",
       "\\item title.  Title of the movie.\n",
       "\\item year.  Year of release.\n",
       "\\item budget.  Total budget (if known) in US dollars\n",
       "\\item length.  Length in minutes.\n",
       "\\item rating.  Average IMDB user rating.\n",
       "\\item votes.  Number of IMDB users who rated this movie.\n",
       "\\item r1-10.  Multiplying by ten gives percentile (to nearest 10\\%) of\n",
       "users who rated this movie a 1.\n",
       "\\item mpaa.  MPAA rating.\n",
       "\\item action, animation, comedy, drama, documentary, romance, short.\n",
       "Binary variables representing if movie was classified as belonging to that genre.\n",
       "\n",
       "\\end{itemize}\n",
       "\\end{Format}\n",
       "%\n",
       "\\begin{Details}\\relax\n",
       "Movies were selected for inclusion if they had a known length and had been\n",
       "rated by at least one imdb user.\n",
       "\\end{Details}\n",
       "%\n",
       "\\begin{References}\\relax\n",
       "\\url{http://had.co.nz/data/movies/}\n",
       "\\end{References}\n",
       "%\n",
       "\\begin{Examples}\n",
       "\\begin{ExampleCode}\n",
       "dim(movies)\n",
       "head(movies)\n",
       "\\end{ExampleCode}\n",
       "\\end{Examples}"
      ],
      "text/plain": [
       "movies              package:ggplot2movies              R Documentation\n",
       "\n",
       "_\bM_\bo_\bv_\bi_\be _\bi_\bn_\bf_\bo_\br_\bm_\ba_\bt_\bi_\bo_\bn _\ba_\bn_\bd _\bu_\bs_\be_\br _\br_\ba_\bt_\bi_\bn_\bg_\bs _\bf_\br_\bo_\bm _\bI_\bM_\bD_\bB._\bc_\bo_\bm.\n",
       "\n",
       "_\bD_\be_\bs_\bc_\br_\bi_\bp_\bt_\bi_\bo_\bn:\n",
       "\n",
       "     The internet movie database, <URL: http://imdb.com/>, is a website\n",
       "     devoted to collecting movie data supplied by studios and fans.  It\n",
       "     claims to be the biggest movie database on the web and is run by\n",
       "     amazon.  More about information imdb.com can be found online,\n",
       "     <URL: http://imdb.com/help/show_leaf?about>, including information\n",
       "     about the data collection process, <URL:\n",
       "     http://imdb.com/help/show_leaf?infosource>.\n",
       "\n",
       "_\bU_\bs_\ba_\bg_\be:\n",
       "\n",
       "     movies\n",
       "     \n",
       "_\bF_\bo_\br_\bm_\ba_\bt:\n",
       "\n",
       "     A data frame with 28819 rows and 24 variables\n",
       "\n",
       "        • title.  Title of the movie.\n",
       "\n",
       "        • year.  Year of release.\n",
       "\n",
       "        • budget.  Total budget (if known) in US dollars\n",
       "\n",
       "        • length.  Length in minutes.\n",
       "\n",
       "        • rating.  Average IMDB user rating.\n",
       "\n",
       "        • votes.  Number of IMDB users who rated this movie.\n",
       "\n",
       "        • r1-10.  Multiplying by ten gives percentile (to nearest 10%)\n",
       "          of users who rated this movie a 1.\n",
       "\n",
       "        • mpaa.  MPAA rating.\n",
       "\n",
       "        • action, animation, comedy, drama, documentary, romance,\n",
       "          short.  Binary variables representing if movie was classified\n",
       "          as belonging to that genre.\n",
       "\n",
       "_\bD_\be_\bt_\ba_\bi_\bl_\bs:\n",
       "\n",
       "     Movies were selected for inclusion if they had a known length and\n",
       "     had been rated by at least one imdb user.\n",
       "\n",
       "_\bR_\be_\bf_\be_\br_\be_\bn_\bc_\be_\bs:\n",
       "\n",
       "     <URL: http://had.co.nz/data/movies/>\n",
       "\n",
       "_\bE_\bx_\ba_\bm_\bp_\bl_\be_\bs:\n",
       "\n",
       "     dim(movies)\n",
       "     head(movies)\n",
       "     "
      ]
     },
     "execution_count": 27,
     "metadata": {},
     "output_type": "execute_result"
    }
   ],
   "source": [
    "summary(movies)\n",
    "\n",
    "?movies"
   ]
  },
  {
   "cell_type": "code",
   "execution_count": 28,
   "metadata": {
    "collapsed": false
   },
   "outputs": [
    {
     "data": {
      "text/html": [
       "<ol class=list-inline>\n",
       "\t<li>'title'</li>\n",
       "\t<li>'year'</li>\n",
       "\t<li>'length'</li>\n",
       "\t<li>'budget'</li>\n",
       "\t<li>'rating'</li>\n",
       "\t<li>'votes'</li>\n",
       "\t<li>'r1'</li>\n",
       "\t<li>'r2'</li>\n",
       "\t<li>'r3'</li>\n",
       "\t<li>'r4'</li>\n",
       "\t<li>'r5'</li>\n",
       "\t<li>'r6'</li>\n",
       "\t<li>'r7'</li>\n",
       "\t<li>'r8'</li>\n",
       "\t<li>'r9'</li>\n",
       "\t<li>'r10'</li>\n",
       "\t<li>'mpaa'</li>\n",
       "\t<li>'Action'</li>\n",
       "\t<li>'Animation'</li>\n",
       "\t<li>'Comedy'</li>\n",
       "\t<li>'Drama'</li>\n",
       "\t<li>'Documentary'</li>\n",
       "\t<li>'Romance'</li>\n",
       "\t<li>'Short'</li>\n",
       "</ol>\n"
      ],
      "text/latex": [
       "\\begin{enumerate*}\n",
       "\\item 'title'\n",
       "\\item 'year'\n",
       "\\item 'length'\n",
       "\\item 'budget'\n",
       "\\item 'rating'\n",
       "\\item 'votes'\n",
       "\\item 'r1'\n",
       "\\item 'r2'\n",
       "\\item 'r3'\n",
       "\\item 'r4'\n",
       "\\item 'r5'\n",
       "\\item 'r6'\n",
       "\\item 'r7'\n",
       "\\item 'r8'\n",
       "\\item 'r9'\n",
       "\\item 'r10'\n",
       "\\item 'mpaa'\n",
       "\\item 'Action'\n",
       "\\item 'Animation'\n",
       "\\item 'Comedy'\n",
       "\\item 'Drama'\n",
       "\\item 'Documentary'\n",
       "\\item 'Romance'\n",
       "\\item 'Short'\n",
       "\\end{enumerate*}\n"
      ],
      "text/markdown": [
       "1. 'title'\n",
       "2. 'year'\n",
       "3. 'length'\n",
       "4. 'budget'\n",
       "5. 'rating'\n",
       "6. 'votes'\n",
       "7. 'r1'\n",
       "8. 'r2'\n",
       "9. 'r3'\n",
       "10. 'r4'\n",
       "11. 'r5'\n",
       "12. 'r6'\n",
       "13. 'r7'\n",
       "14. 'r8'\n",
       "15. 'r9'\n",
       "16. 'r10'\n",
       "17. 'mpaa'\n",
       "18. 'Action'\n",
       "19. 'Animation'\n",
       "20. 'Comedy'\n",
       "21. 'Drama'\n",
       "22. 'Documentary'\n",
       "23. 'Romance'\n",
       "24. 'Short'\n",
       "\n",
       "\n"
      ],
      "text/plain": [
       " [1] \"title\"       \"year\"        \"length\"      \"budget\"      \"rating\"     \n",
       " [6] \"votes\"       \"r1\"          \"r2\"          \"r3\"          \"r4\"         \n",
       "[11] \"r5\"          \"r6\"          \"r7\"          \"r8\"          \"r9\"         \n",
       "[16] \"r10\"         \"mpaa\"        \"Action\"      \"Animation\"   \"Comedy\"     \n",
       "[21] \"Drama\"       \"Documentary\" \"Romance\"     \"Short\"      "
      ]
     },
     "execution_count": 28,
     "metadata": {},
     "output_type": "execute_result"
    }
   ],
   "source": [
    "colnames(movies)"
   ]
  },
  {
   "cell_type": "code",
   "execution_count": 29,
   "metadata": {
    "collapsed": false
   },
   "outputs": [
    {
     "data": {
      "text/html": [
       "<table>\n",
       "<thead><tr><th></th><th scope=col>title</th><th scope=col>year</th><th scope=col>length</th><th scope=col>budget</th><th scope=col>rating</th><th scope=col>votes</th><th scope=col>r1</th><th scope=col>r2</th><th scope=col>r3</th><th scope=col>r4</th><th scope=col>r5</th><th scope=col>r6</th><th scope=col>r7</th><th scope=col>r8</th><th scope=col>r9</th><th scope=col>r10</th><th scope=col>mpaa</th><th scope=col>Action</th><th scope=col>Animation</th><th scope=col>Comedy</th><th scope=col>Drama</th><th scope=col>Documentary</th><th scope=col>Romance</th><th scope=col>Short</th></tr></thead>\n",
       "<tbody>\n",
       "\t<tr><th scope=row>1</th><td>$</td><td>1971</td><td>121</td><td>NA</td><td>6.4</td><td>348</td><td>4.5</td><td>4.5</td><td>4.5</td><td>4.5</td><td>14.5</td><td>24.5</td><td>24.5</td><td>14.5</td><td>4.5</td><td>4.5</td><td></td><td>0</td><td>0</td><td>1</td><td>1</td><td>0</td><td>0</td><td>0</td></tr>\n",
       "\t<tr><th scope=row>2</th><td>$1000 a Touchdown</td><td>1939</td><td>71</td><td>NA</td><td>6</td><td>20</td><td>0</td><td>14.5</td><td>4.5</td><td>24.5</td><td>14.5</td><td>14.5</td><td>14.5</td><td>4.5</td><td>4.5</td><td>14.5</td><td></td><td>0</td><td>0</td><td>1</td><td>0</td><td>0</td><td>0</td><td>0</td></tr>\n",
       "\t<tr><th scope=row>3</th><td>$21 a Day Once a Month</td><td>1941</td><td>7</td><td>NA</td><td>8.2</td><td>5</td><td>0</td><td>0</td><td>0</td><td>0</td><td>0</td><td>24.5</td><td>0</td><td>44.5</td><td>24.5</td><td>24.5</td><td></td><td>0</td><td>1</td><td>0</td><td>0</td><td>0</td><td>0</td><td>1</td></tr>\n",
       "\t<tr><th scope=row>4</th><td>$40,000</td><td>1996</td><td>70</td><td>NA</td><td>8.2</td><td>6</td><td>14.5</td><td>0</td><td>0</td><td>0</td><td>0</td><td>0</td><td>0</td><td>0</td><td>34.5</td><td>45.5</td><td></td><td>0</td><td>0</td><td>1</td><td>0</td><td>0</td><td>0</td><td>0</td></tr>\n",
       "\t<tr><th scope=row>5</th><td>$50,000 Climax Show, The</td><td>1975</td><td>71</td><td>NA</td><td>3.4</td><td>17</td><td>24.5</td><td>4.5</td><td>0</td><td>14.5</td><td>14.5</td><td>4.5</td><td>0</td><td>0</td><td>0</td><td>24.5</td><td></td><td>0</td><td>0</td><td>0</td><td>0</td><td>0</td><td>0</td><td>0</td></tr>\n",
       "\t<tr><th scope=row>6</th><td>$pent</td><td>2000</td><td>91</td><td>NA</td><td>4.3</td><td>45</td><td>4.5</td><td>4.5</td><td>4.5</td><td>14.5</td><td>14.5</td><td>14.5</td><td>4.5</td><td>4.5</td><td>14.5</td><td>14.5</td><td></td><td>0</td><td>0</td><td>0</td><td>1</td><td>0</td><td>0</td><td>0</td></tr>\n",
       "</tbody>\n",
       "</table>\n"
      ],
      "text/latex": [
       "\\begin{tabular}{r|llllllllllllllllllllllll}\n",
       "  & title & year & length & budget & rating & votes & r1 & r2 & r3 & r4 & r5 & r6 & r7 & r8 & r9 & r10 & mpaa & Action & Animation & Comedy & Drama & Documentary & Romance & Short\\\\\n",
       "\\hline\n",
       "\t1 & $ & 1971 & 121 & NA & 6.4 & 348 & 4.5 & 4.5 & 4.5 & 4.5 & 14.5 & 24.5 & 24.5 & 14.5 & 4.5 & 4.5 &  & 0 & 0 & 1 & 1 & 0 & 0 & 0\\\\\n",
       "\t2 & $1000 a Touchdown & 1939 & 71 & NA & 6 & 20 & 0 & 14.5 & 4.5 & 24.5 & 14.5 & 14.5 & 14.5 & 4.5 & 4.5 & 14.5 &  & 0 & 0 & 1 & 0 & 0 & 0 & 0\\\\\n",
       "\t3 & $21 a Day Once a Month & 1941 & 7 & NA & 8.2 & 5 & 0 & 0 & 0 & 0 & 0 & 24.5 & 0 & 44.5 & 24.5 & 24.5 &  & 0 & 1 & 0 & 0 & 0 & 0 & 1\\\\\n",
       "\t4 & $40,000 & 1996 & 70 & NA & 8.2 & 6 & 14.5 & 0 & 0 & 0 & 0 & 0 & 0 & 0 & 34.5 & 45.5 &  & 0 & 0 & 1 & 0 & 0 & 0 & 0\\\\\n",
       "\t5 & $50,000 Climax Show, The & 1975 & 71 & NA & 3.4 & 17 & 24.5 & 4.5 & 0 & 14.5 & 14.5 & 4.5 & 0 & 0 & 0 & 24.5 &  & 0 & 0 & 0 & 0 & 0 & 0 & 0\\\\\n",
       "\t6 & $pent & 2000 & 91 & NA & 4.3 & 45 & 4.5 & 4.5 & 4.5 & 14.5 & 14.5 & 14.5 & 4.5 & 4.5 & 14.5 & 14.5 &  & 0 & 0 & 0 & 1 & 0 & 0 & 0\\\\\n",
       "\\end{tabular}\n"
      ],
      "text/plain": [
       "                     title year length budget rating votes   r1   r2  r3   r4\n",
       "1                        $ 1971    121     NA    6.4   348  4.5  4.5 4.5  4.5\n",
       "2        $1000 a Touchdown 1939     71     NA    6.0    20  0.0 14.5 4.5 24.5\n",
       "3   $21 a Day Once a Month 1941      7     NA    8.2     5  0.0  0.0 0.0  0.0\n",
       "4                  $40,000 1996     70     NA    8.2     6 14.5  0.0 0.0  0.0\n",
       "5 $50,000 Climax Show, The 1975     71     NA    3.4    17 24.5  4.5 0.0 14.5\n",
       "6                    $pent 2000     91     NA    4.3    45  4.5  4.5 4.5 14.5\n",
       "    r5   r6   r7   r8   r9  r10 mpaa Action Animation Comedy Drama Documentary\n",
       "1 14.5 24.5 24.5 14.5  4.5  4.5           0         0      1     1           0\n",
       "2 14.5 14.5 14.5  4.5  4.5 14.5           0         0      1     0           0\n",
       "3  0.0 24.5  0.0 44.5 24.5 24.5           0         1      0     0           0\n",
       "4  0.0  0.0  0.0  0.0 34.5 45.5           0         0      1     0           0\n",
       "5 14.5  4.5  0.0  0.0  0.0 24.5           0         0      0     0           0\n",
       "6 14.5 14.5  4.5  4.5 14.5 14.5           0         0      0     1           0\n",
       "  Romance Short\n",
       "1       0     0\n",
       "2       0     0\n",
       "3       0     1\n",
       "4       0     0\n",
       "5       0     0\n",
       "6       0     0"
      ]
     },
     "execution_count": 29,
     "metadata": {},
     "output_type": "execute_result"
    }
   ],
   "source": [
    "head(movies)"
   ]
  },
  {
   "cell_type": "code",
   "execution_count": 30,
   "metadata": {
    "collapsed": false
   },
   "outputs": [
    {
     "data": {
      "image/png": "[encoded data removed]",
      "text/plain": [
       "Plot with title “IMDb ratings”"
      ]
     },
     "metadata": {
      "image/svg+xml": {
       "isolated": true
      }
     },
     "output_type": "display_data"
    }
   ],
   "source": [
    "hist( movies$rating, col=\"lawngreen\", main=\"IMDb ratings\", breaks=50 )\n",
    "\n",
    "mtext( sprintf(\"histogram of %d movie average rating values\", nrow(movies)) )"
   ]
  },
  {
   "cell_type": "markdown",
   "metadata": {},
   "source": [
    "# Problem 2: Find a distribution that fits the histogram of IMDb Ratings"
   ]
  },
  {
   "cell_type": "markdown",
   "metadata": {
    "collapsed": true
   },
   "source": [
    "<p style=\"color:blue;\">\n",
    "<ul><li>\n",
    "<b>Question 6:</b> <b>Give the name of a specific distribution (pdf), with maximum likelihood parameter values, that resembles the IMDb Rating values (as closely as you can).</b>\n",
    "<br/><br/>\n",
    "Again, to permit distributions like the Beta distribution to be considered,\n",
    "you can scale the rating values.\n",
    "For example, dividing the values by 10 puts them in the interval [0,1],\n",
    "as the Beta distribution requires.\n",
    "<br/><br/>\n",
    "</li><li>\n",
    "<b>Question 7:</b> determine the <a href=\"https://en.wikipedia.org/wiki/Kurtosis\"><b>skewness</b></a> of the IMDb ratings.\n",
    "<br/><br/>\n",
    "</li><li>\n",
    "<b>Question 8:</b> determine the (excess) <a href=\"https://en.wikipedia.org/wiki/Kurtosis\"><b>kurtosis</b></a> of the IMDb ratings.\n",
    "</li></ul>\n",
    "<br/><br/>\n",
    "</p>"
   ]
  },
  {
   "cell_type": "markdown",
   "metadata": {
    "collapsed": true
   },
   "source": [
    "## Possibilities:  the Extreme Value Distribution, or related distributions\n",
    "\n",
    "<p style=\"color:blue;\">\n",
    "The <a href=\"http://wikipedia.org/en/Generalized_extreme_value_distribution\">(Smallest) Extreme Value Distribution</a>\n",
    "models the minimum of a set of values drawn from a single distribution.\n",
    "It is sometimes used for modeling sets of identical independent processes\n",
    "that can <i>fail</i> -- and the time of the first failure is the failure time of the entire set.\n",
    "<br/><br/>\n",
    "In other words, the distribution models the failure time of the <i>weakest link</i>.\n",
    "<br/><br/>\n",
    "The Extreme Value Distribution\n",
    "is related to the <a href=\"http://wikipedia.org/en/Weibull_distribution\">Weibull Distribution</a>.\n",
    "</p>"
   ]
  },
  {
   "cell_type": "markdown",
   "metadata": {
    "collapsed": true
   },
   "source": [
    "## Possibility:  the Beta Distribution\n",
    "\n",
    "<p style=\"color:blue;\">\n",
    "The <a href=\"http://wikipedia.org/en/Beta_distribution\">Beta distribution</a>\n",
    "is a general model for random values of percentages and proportions.\n",
    "It is used very heavily in Bayesian methods.\n",
    "<br/><br/>\n",
    "The distribution Beta($\\alpha$,$\\beta$) leans to the right (like the data) when $\\alpha > \\beta$.\n",
    "<br/><br/>\n",
    "Note: As mentioned above, movie rating values are in the interval [0,10] ...\n",
    "The Beta distribution requires all values to be nonnegative, and in the interval [0,1].\n",
    "Thus the ratings would need to be rescaled here.\n",
    "<br/><br/>\n",
    "<b>Warning:</b>  the <tt>fitdistr()</tt> function appears to be fragile when fitting a beta distribution.\n",
    "If you consider the Beta distribution, obtaining MLE parameter values may require a different method.\n",
    "</p>"
   ]
  },
  {
   "cell_type": "markdown",
   "metadata": {},
   "source": [
    "## Not a Possibility:  the Negative Gamma Distribution\n",
    "\n",
    "<p style=\"color:blue;\">\n",
    "The <b>Negative Gamma distribution</b>\n",
    "is a \"mirror image\" of the  <a href=\"http://wikipedia.org/en/Gamma_distribution\">Gamma Distribution</a>,\n",
    "defined for $x < 0$ instead of $x > 0$.\n",
    "In other words, the value of the Negative Gamma distribution at $-x$\n",
    "is defined to be the value of the Gamma distribution at $+x$.\n",
    "Do not consider it in this assignment.\n",
    "</p>"
   ]
  },
  {
   "cell_type": "markdown",
   "metadata": {},
   "source": [
    "### Problem 2 - Question 6"
   ]
  },
  {
   "cell_type": "code",
   "execution_count": 31,
   "metadata": {
    "collapsed": false
   },
   "outputs": [
    {
     "data": {
      "text/html": [
       "58788"
      ],
      "text/latex": [
       "58788"
      ],
      "text/markdown": [
       "58788"
      ],
      "text/plain": [
       "[1] 58788"
      ]
     },
     "execution_count": 31,
     "metadata": {},
     "output_type": "execute_result"
    },
    {
     "data": {
      "text/html": [
       "<ol class=list-inline>\n",
       "\t<li>1.00035697617568</li>\n",
       "\t<li>10.7853033756372</li>\n",
       "</ol>\n"
      ],
      "text/latex": [
       "\\begin{enumerate*}\n",
       "\\item 1.00035697617568\n",
       "\\item 10.7853033756372\n",
       "\\end{enumerate*}\n"
      ],
      "text/markdown": [
       "1. 1.00035697617568\n",
       "2. 10.7853033756372\n",
       "\n",
       "\n"
      ],
      "text/plain": [
       "[1]  1.000357 10.785303"
      ]
     },
     "execution_count": 31,
     "metadata": {},
     "output_type": "execute_result"
    },
    {
     "data": {
      "text/html": [
       "<ol class=list-inline>\n",
       "\t<li>0.0909415432886982</li>\n",
       "\t<li>0.980482125057924</li>\n",
       "</ol>\n"
      ],
      "text/latex": [
       "\\begin{enumerate*}\n",
       "\\item 0.0909415432886982\n",
       "\\item 0.980482125057924\n",
       "\\end{enumerate*}\n"
      ],
      "text/markdown": [
       "1. 0.0909415432886982\n",
       "2. 0.980482125057924\n",
       "\n",
       "\n"
      ],
      "text/plain": [
       "[1] 0.09094154 0.98048213"
      ]
     },
     "execution_count": 31,
     "metadata": {},
     "output_type": "execute_result"
    },
    {
     "name": "stdout",
     "output_type": "stream",
     "text": [
      "Dataset is nonnegative\n",
      "normal 0.584707293697141 0.143497005514337\n",
      "               log-likelihood = 30716.881573\n",
      "t 0.586045909983238 0.1397015959739 37.8830061101753\n",
      "               log-likelihood = 30735.043255\n",
      "chi-squared 1.36793058776766\n",
      "               log-likelihood = -50916.306276\n",
      "lognormal -0.573167189270394 0.287939041565797\n",
      "               log-likelihood = 23470.235325\n",
      "exponential 1.71025744125225\n",
      "               log-likelihood = -27239.777841\n",
      "gamma 13.8554131794654 23.696359178393\n",
      "               log-likelihood = 26837.196536\n",
      "logistic 0.590625651204575 0.0812858711248824\n",
      "               log-likelihood = 30456.040018\n",
      "beta 6.2010670782551 4.42071486491259\n",
      "               log-likelihood = 30905.043805\n",
      "weibull 4.71467404266347 0.638942517497075\n",
      "               log-likelihood = 31360.649824\n"
     ]
    },
    {
     "data": {
      "image/png": "[encoded data removed]",
      "text/plain": [
       "Plot with title “Histogram of Dataset”"
      ]
     },
     "metadata": {
      "image/svg+xml": {
       "isolated": true
      }
     },
     "output_type": "display_data"
    }
   ],
   "source": [
    "# include other distributions here\n",
    "Distribution_name = c(\n",
    "    \"normal\",\n",
    "    \"t\",\n",
    "    \"chi-squared\",\n",
    "    \"lognormal\",\n",
    "    \"exponential\",\n",
    "    \"gamma\",\n",
    "    \"logistic\",\n",
    "    \"beta\",\n",
    "    \"weibull\"\n",
    ")\n",
    "Distribution_can_have_negative_values = c(\n",
    "    TRUE,\n",
    "    TRUE,\n",
    "    FALSE,\n",
    "    FALSE,\n",
    "    FALSE,\n",
    "    FALSE,\n",
    "    TRUE,\n",
    "    FALSE,\n",
    "    FALSE\n",
    ")\n",
    "Distribution_function = c(\n",
    "    dnorm,\n",
    "    dt,\n",
    "    dchisq,\n",
    "    dlnorm,\n",
    "    dexp,\n",
    "    dgamma,\n",
    "    dlogis,\n",
    "    dbeta,\n",
    "    dweibull\n",
    ")\n",
    "\n",
    "Distribution_color = c(\n",
    "     \"blue\",\n",
    "    \"cyan\",\n",
    "    \"green\",\n",
    "    \"gold\",\n",
    "    \"magenta\",\n",
    "    \"red\",\n",
    "    \"purple\",\n",
    "    \"yellow\",\n",
    "    \"orange\"\n",
    ")\n",
    "\n",
    "add_curve = function( dist_name, p ) {\n",
    "    if (dist_name == \"normal\")      curve( dnorm(x, p[1], p[2] ),    col=\"blue\",   lwd=2, add=TRUE )\n",
    "    if (dist_name == \"t\")           curve( dt(x, p[1], p[2], p[3] ), col=\"cyan\",   lwd=2, add=TRUE )\n",
    "    if (dist_name == \"chi-squared\") curve( dnorm(x, p[1] ),          col=\"green\",  lwd=2, add=TRUE )\n",
    "    if (dist_name == \"lognormal\")   curve( dlnorm(x, p[1], p[2] ),   col=\"gold\",   lwd=2, add=TRUE )\n",
    "    if (dist_name == \"exponential\") curve( dexp(x, p[1] ),           col=\"magenta\",lwd=2, add=TRUE )\n",
    "    if (dist_name == \"gamma\")       curve( dgamma(x, p[1], p[2] ),   col=\"red\",    lwd=2, add=TRUE )\n",
    "    if (dist_name == \"logistic\" )   curve( dlogis(x, p[1], p[2] ),   col=\"purple\", lwd=2, add=TRUE )\n",
    "    if (dist_name == \"beta\" )       curve( dbeta(x, p[1], p[2]  ),   col=\"yellow\", lwd=2, add=TRUE )\n",
    "    if (dist_name == \"weibull\" )    curve( dweibull(x, p[1], p[2] ), col=\"orange\", lwd=2, add=TRUE )\n",
    "}\n",
    "\n",
    "n = length(movies$rating)  #  These ratings are integers between 0 and 10, inclusive\n",
    "n\n",
    " \n",
    "UnroundedRatings = movies$rating + runif(n)\n",
    "range(UnroundedRatings)\n",
    "#  The range of (Ratings + UniformNoise) should be the open interval (0,11)\n",
    " \n",
    "RescaledRatings = UnroundedRatings / 11.0\n",
    " \n",
    "#hist( RescaledRatings, probability=TRUE, col=\"palegreen\", breaks=seq(0,1, by=0.01) )\n",
    "range(RescaledRatings)\n",
    "# These range of these rescaled ratings should be the open interval (0,1)\n",
    "        \n",
    "\n",
    "Dataset = RescaledRatings  \n",
    "\n",
    "    \n",
    "Dataset_is_nonnegative = !any( Dataset < 0 )\n",
    "    if (Dataset_is_nonnegative) {\n",
    "        cat(\"Dataset is nonnegative\\n\")\n",
    "    } else {\n",
    "        cat(\"Dataset has some negative values, so it cannot follow nonnegative distributions\\n\")\n",
    "    }\n",
    "    \n",
    "    Dataset_is_between_0and1 = !any(Dataset < 0 ) && !any(Dataset > 1 )\n",
    "    if (!Dataset_is_between_0and1){\n",
    "        cat(\"Dataset is not between 0 and 1\\n\")\n",
    "    }\n",
    "    \n",
    "\n",
    "    hist( Dataset, probability=TRUE, col=\"palegreen\", breaks=seq(0,1, by=0.01) )\n",
    "    \n",
    "    # display a histogram for each column Dataset\n",
    "    \n",
    "    legend( \"topright\", Distribution_name, col=Distribution_color, lwd=3 )\n",
    "    \n",
    "    dist_name_test = Distribution_name[1]\n",
    "    if (Distribution_can_have_negative_values[1] || Dataset_is_nonnegative) {\n",
    "            # don't fit a nonnegative distribution to data that is negative\n",
    "\n",
    "\n",
    "            if (dist_name_test == \"chi-squared\") {  # fitdistr requires special handling of chi-squared\n",
    "                fit = suppressWarnings( fitdistr( Dataset, dist_name_test,\n",
    "                                                 list(df=2), method=\"BFGS\" ) )\n",
    "            }\n",
    "            else if(dist_name_test == \"beta\"){\n",
    "                if (Dataset_is_between_0and1){\n",
    "                    fit = suppressWarnings( fitdistr( Dataset, dist_name, start=list(shape1=1, shape2=1)) )\n",
    "                }\n",
    "            }\n",
    "            else {\n",
    "                fit = suppressWarnings( fitdistr( Dataset, dist_name_test ) )\n",
    "            }\n",
    "    \n",
    "    fitted_parameters_test = fit$estimate\n",
    "    log_likelihood_test = fit$loglik\n",
    "    parameter_value_string = paste(round(fitted_parameters_test), collapse=\" \")\n",
    "    parameters_test = fitted_parameters_test\n",
    "    x1=round(parameters[0], 5)\n",
    "    x2=round(parameters[1], 5)\n",
    "    x3=round(parameters[2], 5)\n",
    "    x4=round(parameters[3], 5)\n",
    "    }\n",
    "    \n",
    "    for (i in 1:length(Distribution_name)) {\n",
    "        dist_name = Distribution_name[i]\n",
    "        if (Distribution_can_have_negative_values[i] || Dataset_is_nonnegative) {\n",
    "            # don't fit a nonnegative distribution to data that is negative\n",
    "\n",
    "            if (dist_name == \"chi-squared\") {  # fitdistr requires special handling of chi-squared\n",
    "                fit = suppressWarnings( fitdistr( Dataset, dist_name,\n",
    "                                                 list(df=2), method=\"BFGS\" ) )\n",
    "            } \n",
    "            else if(dist_name == \"beta\" ){\n",
    "                if (Dataset_is_between_0and1){\n",
    "                    fit = suppressWarnings( fitdistr( Dataset, dist_name, start=list(shape1=1, shape2=1)) )\n",
    "                }\n",
    "                    \n",
    "            }\n",
    "            else {\n",
    "                fit = suppressWarnings( fitdistr( Dataset, dist_name ) )\n",
    "            }\n",
    "\n",
    "            # \"fit\" is the object returned by fitdistr, describing the fit\n",
    "\n",
    "            fitted_parameters = fit$estimate\n",
    "            log_likelihood = fit$loglik\n",
    "\n",
    "            parameter_value_string = paste((fitted_parameters), collapse=\" \")\n",
    "            # we round the parameter values so that they are integers.\n",
    "\n",
    "            # This is what the output is supposed to look like:\n",
    "            cat(sprintf(\"%s %s\\n\", dist_name, parameter_value_string))  \n",
    "\n",
    "            # To show how good the fit is, we also print the log-likelihood here\n",
    "            cat(sprintf(\"               log-likelihood = %f\\n\", log_likelihood))\n",
    "            \n",
    "            add_curve( dist_name, fitted_parameters )  # show the fit on the histogram\n",
    "\n",
    "            # The optimal distribution is the one with maximum-likelihood\n",
    "            #  (and:  maximum-likelihood == maximum-log-likelihood).\n",
    "            # Your program needs to determine which distribution maximizes this.\n",
    "            parameters = fitted_parameters\n",
    "            log_likelihood = round(log_likelihood)\n",
    "              if (log_likelihood>log_likelihood_test){\n",
    "                log_likelihood_test = log_likelihood\n",
    "                dist_name_test = dist_name\n",
    "                x1=round(parameters[0], 5)\n",
    "                x2=round(parameters[1], 5)\n",
    "                x3=round(parameters[2], 5)\n",
    "                x4=round(parameters[3], 5)\n",
    "                if (is.na(x3)){\n",
    "                    x3 = \" \"\n",
    "                }\n",
    "                if(is.na(x4)){\n",
    "                    x4 = \" \"\n",
    "                }\n",
    "            }\n",
    "            \n",
    "        }\n",
    "    }\n",
    "Table2 = cbind( dist_name_test, x1, x2, x3, x4)\n",
    "write.table(Table2, file=\"HW2_output.csv\",sep=\",\",append=TRUE,row.names=FALSE,col.names=FALSE)"
   ]
  },
  {
   "cell_type": "markdown",
   "metadata": {},
   "source": [
    "### Problem 2 - Question 7"
   ]
  },
  {
   "cell_type": "code",
   "execution_count": 32,
   "metadata": {
    "collapsed": false
   },
   "outputs": [
    {
     "data": {
      "text/html": [
       "-0.40571"
      ],
      "text/latex": [
       "-0.40571"
      ],
      "text/markdown": [
       "-0.40571"
      ],
      "text/plain": [
       "[1] -0.40571"
      ]
     },
     "execution_count": 32,
     "metadata": {},
     "output_type": "execute_result"
    }
   ],
   "source": [
    "library(moments)\n",
    "skew2 = skewness(movies$rating, na.rm = FALSE)\n",
    "skew2 = round(skew2, 5)\n",
    "skew2\n",
    "Skewness = cbind( \"skewness\", skew2)\n",
    "write.table(Skewness, file=\"HW2_output.csv\",sep=\",\",append=TRUE,row.names=FALSE,col.names=FALSE)"
   ]
  },
  {
   "cell_type": "markdown",
   "metadata": {},
   "source": [
    "### Problem 2 - Question 8"
   ]
  },
  {
   "cell_type": "code",
   "execution_count": 33,
   "metadata": {
    "collapsed": false
   },
   "outputs": [
    {
     "data": {
      "text/html": [
       "0.11577"
      ],
      "text/latex": [
       "0.11577"
      ],
      "text/markdown": [
       "0.11577"
      ],
      "text/plain": [
       "[1] 0.11577"
      ]
     },
     "execution_count": 33,
     "metadata": {},
     "output_type": "execute_result"
    }
   ],
   "source": [
    "kurt2 = kurtosis(movies$rating, na.rm = FALSE)\n",
    "kurt2 = kurt2-3\n",
    "kurt2 = round(kurt2, 5)\n",
    "kurt2\n",
    "Kurtosis = cbind( \"kurtosis\", kurt2)\n",
    "write.table(Kurtosis, file=\"HW2_output.csv\",sep=\",\",append=TRUE,row.names=FALSE,col.names=FALSE)"
   ]
  },
  {
   "cell_type": "markdown",
   "metadata": {},
   "source": [
    "# Problem 3: Answer two Multiple-Answer questions about the Gamma distribution"
   ]
  },
  {
   "cell_type": "markdown",
   "metadata": {},
   "source": [
    "<ul><li><b>Question 9:</b> Give the number of the following expressions that\n",
    "is a formula for the <b>skewness of the Gamma distribution</b>\n",
    "with parameters $\\alpha > 0$, $\\beta > 0$:\n",
    "<br/><br/>\n",
    "(<b>1</b>) $\\alpha/\\beta$ <br/>\n",
    "(<b>2</b>) $\\alpha - \\beta$ <br/>\n",
    "(<b>3</b>) $\\sqrt{\\alpha/\\beta}$ <br/>\n",
    "(<b>4</b>) $\\sqrt{\\alpha\\beta}/2$ <br/>\n",
    "(<b>5</b>) $2/\\sqrt{\\alpha}$ <br/>\n",
    "(<b>6</b>) $6/\\alpha$ <br/>\n",
    "(<b>7</b>) $\\log(\\alpha)/\\beta$ <br/>\n",
    "(<b>8</b>) None of the above <br/><br/>\n",
    "</li><li><b>Question 10:</b> <b>True or False:</b>\n",
    "the Gamma distribution is not negatively skewed, for any parameter values\n",
    "$\\alpha > 0$,\n",
    "$\\beta > 0$.\n",
    "<br/><br/>\n",
    "</li></ul>\n",
    "(Again, for this assignment please consider only the usual  <a href=\"http://wikipedia.org/en/Gamma_distribution\">Gamma Distribution</a>,\n",
    "defined for $x>0$.)\n",
    "<br/><br/>\n",
    "Hint:  the skewness measure is the result of an integral for $E[((x-\\mu)/\\sigma)^3]$,\n",
    "so both of these questions could be answered with a symbolic algebra system,\n",
    "like <a href=\"http://sympy.org\">SymPy</a> or\n",
    "<a href=\"http://wolframalpha.com\">Wolfram Alpha</a>.\n",
    "Some online resources also might give a formula for skewness."
   ]
  },
  {
   "cell_type": "markdown",
   "metadata": {},
   "source": [
    "### Problem 3 - Question 9"
   ]
  },
  {
   "cell_type": "code",
   "execution_count": 34,
   "metadata": {
    "collapsed": true
   },
   "outputs": [],
   "source": [
    "#Ans: (5) - 2/sqrt(a)\n",
    "write.table(\"5\", file=\"HW2_output.csv\",sep=\",\",append=TRUE,row.names=FALSE,col.names=FALSE)"
   ]
  },
  {
   "cell_type": "markdown",
   "metadata": {},
   "source": [
    "### Problem 3 - Question 10"
   ]
  },
  {
   "cell_type": "code",
   "execution_count": 35,
   "metadata": {
    "collapsed": true
   },
   "outputs": [],
   "source": [
    "#Ans: True\n",
    "write.table(\"True \", file=\"HW2_output.csv\",sep=\",\",append=TRUE,row.names=FALSE,col.names=FALSE)"
   ]
  },
  {
   "cell_type": "markdown",
   "metadata": {},
   "source": [
    "# Finally:  Produce a CSV file \"HW2_output.csv\" including your answers"
   ]
  },
  {
   "cell_type": "markdown",
   "metadata": {},
   "source": [
    "## Your output CSV file \"HW2_output.csv\" should look like this:\n",
    "\n",
    "<p style=\"color:blue;\">\n",
    "If your program had been given the Table above as input,\n",
    "it should print the following CSV file, a table with 10 rows, and three columns:\n",
    "</p>\n",
    "<pre>\n",
    "lognormal,5.55555,1.11111\n",
    "skewness,2.22222,\n",
    "kurtosis,3.33333,\n",
    "Batman: The Dark Knight,7.77777,8.88888\n",
    "Batman v Superman: Dawn of Justice,1.22222,9.88888\n",
    "lognormal,5.22222,1.44444\n",
    "skewness,2.55555,\n",
    "kurtosis,3.44444,\n",
    "1,,\n",
    "False,,\n",
    "</pre>\n",
    "<p style=\"color:blue;\">\n",
    "<i>There should be NO header line in this file.</i>\n",
    "<br/><br/>\n",
    "There should be 10 rows, one for each question.  Each row should have three fields.\n",
    "<br/><br/>\n",
    "You can enter any text description of a distribution, such as <tt>lognormal</tt>\n",
    "or <tt>beta</tt> or <tt>Beta</tt> or whatever.\n",
    "<br/>\n",
    "However: the <tt>lognormal</tt> distribution is just provided as an example;\n",
    "it is not a good description of Rating distributions.\n",
    "Also: do not use the <tt>gamma</tt> distribution.\n",
    "</p>"
   ]
  },
  {
   "cell_type": "markdown",
   "metadata": {
    "collapsed": true
   },
   "source": [
    "# Submit your output CSV file and your notebook on CCLE.\n",
    "<p style=\"color:blue;\">\n",
    "Upload your .csv file for this assignment,\n",
    "and also upload your .ipynb file (to show your work).  Both files are required.\n",
    "</p>"
   ]
  },
  {
   "cell_type": "code",
   "execution_count": null,
   "metadata": {
    "collapsed": true
   },
   "outputs": [],
   "source": []
  }
 ],
 "metadata": {
  "kernelspec": {
   "display_name": "R",
   "language": "R",
   "name": "ir"
  },
  "language_info": {
   "codemirror_mode": "r",
   "file_extension": ".r",
   "mimetype": "text/x-r-source",
   "name": "R",
   "pygments_lexer": "r",
   "version": "3.2.2"
  }
 },
 "nbformat": 4,
 "nbformat_minor": 0
}
